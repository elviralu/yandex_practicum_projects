{
 "cells": [
  {
   "cell_type": "markdown",
   "metadata": {},
   "source": [
    "****Принятие решений в бизнесе на основе данных \n",
    "\"Проверка гипотез по увеличению выручки в интернет-магазине — оценика результатов A/B теста\"****"
   ]
  },
  {
   "cell_type": "markdown",
   "metadata": {},
   "source": [
    "Вы — аналитик крупного интернет-магазина. Вместе с отделом маркетинга вы подготовили список гипотез для увеличения выручки.\n",
    "Приоритизируйте гипотезы, запустите A/B-тест и проанализируйте результаты. "
   ]
  },
  {
   "cell_type": "markdown",
   "metadata": {},
   "source": [
    "**Часть 1. Приоритизация гипотез.**"
   ]
  },
  {
   "cell_type": "markdown",
   "metadata": {},
   "source": [
    "Задача:\n",
    "\n",
    "    - Примените фреймворк ICE для приоритизации гипотез. Отсортируйте их по убыванию приоритета.\n",
    "    - Примените фреймворк RICE для приоритизации гипотез. Отсортируйте их по убыванию приоритета.\n",
    "    - Укажите, как изменилась приоритизация гипотез при применении RICE вместо ICE. Объясните, почему так произошло."
   ]
  },
  {
   "cell_type": "code",
   "execution_count": 1,
   "metadata": {},
   "outputs": [],
   "source": [
    "import pandas as pd\n",
    "import datetime as dt\n",
    "import numpy as np\n",
    "import matplotlib.pyplot as plt\n",
    "from pandas.plotting import register_matplotlib_converters\n",
    "import warnings\n",
    "from scipy import stats\n",
    "from statsmodels.stats.proportion import proportions_ztest"
   ]
  },
  {
   "cell_type": "code",
   "execution_count": 2,
   "metadata": {},
   "outputs": [
    {
     "data": {
      "text/html": [
       "<div>\n",
       "<style scoped>\n",
       "    .dataframe tbody tr th:only-of-type {\n",
       "        vertical-align: middle;\n",
       "    }\n",
       "\n",
       "    .dataframe tbody tr th {\n",
       "        vertical-align: top;\n",
       "    }\n",
       "\n",
       "    .dataframe thead th {\n",
       "        text-align: right;\n",
       "    }\n",
       "</style>\n",
       "<table border=\"1\" class=\"dataframe\">\n",
       "  <thead>\n",
       "    <tr style=\"text-align: right;\">\n",
       "      <th></th>\n",
       "      <th>Hypothesis</th>\n",
       "      <th>Reach</th>\n",
       "      <th>Impact</th>\n",
       "      <th>Confidence</th>\n",
       "      <th>Efforts</th>\n",
       "    </tr>\n",
       "  </thead>\n",
       "  <tbody>\n",
       "    <tr>\n",
       "      <th>0</th>\n",
       "      <td>Добавить два новых канала привлечения трафика, что позволит привлекать на 30% больше пользователей</td>\n",
       "      <td>3</td>\n",
       "      <td>10</td>\n",
       "      <td>8</td>\n",
       "      <td>6</td>\n",
       "    </tr>\n",
       "    <tr>\n",
       "      <th>1</th>\n",
       "      <td>Запустить собственную службу доставки, что сократит срок доставки заказов</td>\n",
       "      <td>2</td>\n",
       "      <td>5</td>\n",
       "      <td>4</td>\n",
       "      <td>10</td>\n",
       "    </tr>\n",
       "    <tr>\n",
       "      <th>2</th>\n",
       "      <td>Добавить блоки рекомендаций товаров на сайт интернет магазина, чтобы повысить конверсию и средний чек заказа</td>\n",
       "      <td>8</td>\n",
       "      <td>3</td>\n",
       "      <td>7</td>\n",
       "      <td>3</td>\n",
       "    </tr>\n",
       "    <tr>\n",
       "      <th>3</th>\n",
       "      <td>Изменить структура категорий, что увеличит конверсию, т.к. пользователи быстрее найдут нужный товар</td>\n",
       "      <td>8</td>\n",
       "      <td>3</td>\n",
       "      <td>3</td>\n",
       "      <td>8</td>\n",
       "    </tr>\n",
       "    <tr>\n",
       "      <th>4</th>\n",
       "      <td>Изменить цвет фона главной страницы, чтобы увеличить вовлеченность пользователей</td>\n",
       "      <td>3</td>\n",
       "      <td>1</td>\n",
       "      <td>1</td>\n",
       "      <td>1</td>\n",
       "    </tr>\n",
       "    <tr>\n",
       "      <th>5</th>\n",
       "      <td>Добавить страницу отзывов клиентов о магазине, что позволит увеличить количество заказов</td>\n",
       "      <td>3</td>\n",
       "      <td>2</td>\n",
       "      <td>2</td>\n",
       "      <td>3</td>\n",
       "    </tr>\n",
       "    <tr>\n",
       "      <th>6</th>\n",
       "      <td>Показать на главной странице баннеры с актуальными акциями и распродажами, чтобы увеличить конверсию</td>\n",
       "      <td>5</td>\n",
       "      <td>3</td>\n",
       "      <td>8</td>\n",
       "      <td>3</td>\n",
       "    </tr>\n",
       "    <tr>\n",
       "      <th>7</th>\n",
       "      <td>Добавить форму подписки на все основные страницы, чтобы собрать базу клиентов для email-рассылок</td>\n",
       "      <td>10</td>\n",
       "      <td>7</td>\n",
       "      <td>8</td>\n",
       "      <td>5</td>\n",
       "    </tr>\n",
       "    <tr>\n",
       "      <th>8</th>\n",
       "      <td>Запустить акцию, дающую скидку на товар в день рождения</td>\n",
       "      <td>1</td>\n",
       "      <td>9</td>\n",
       "      <td>9</td>\n",
       "      <td>5</td>\n",
       "    </tr>\n",
       "  </tbody>\n",
       "</table>\n",
       "</div>"
      ],
      "text/plain": [
       "                                                                                                     Hypothesis  \\\n",
       "0            Добавить два новых канала привлечения трафика, что позволит привлекать на 30% больше пользователей   \n",
       "1                                     Запустить собственную службу доставки, что сократит срок доставки заказов   \n",
       "2  Добавить блоки рекомендаций товаров на сайт интернет магазина, чтобы повысить конверсию и средний чек заказа   \n",
       "3           Изменить структура категорий, что увеличит конверсию, т.к. пользователи быстрее найдут нужный товар   \n",
       "4                              Изменить цвет фона главной страницы, чтобы увеличить вовлеченность пользователей   \n",
       "5                      Добавить страницу отзывов клиентов о магазине, что позволит увеличить количество заказов   \n",
       "6          Показать на главной странице баннеры с актуальными акциями и распродажами, чтобы увеличить конверсию   \n",
       "7              Добавить форму подписки на все основные страницы, чтобы собрать базу клиентов для email-рассылок   \n",
       "8                                                       Запустить акцию, дающую скидку на товар в день рождения   \n",
       "\n",
       "   Reach  Impact  Confidence  Efforts  \n",
       "0      3      10           8        6  \n",
       "1      2       5           4       10  \n",
       "2      8       3           7        3  \n",
       "3      8       3           3        8  \n",
       "4      3       1           1        1  \n",
       "5      3       2           2        3  \n",
       "6      5       3           8        3  \n",
       "7     10       7           8        5  \n",
       "8      1       9           9        5  "
      ]
     },
     "execution_count": 2,
     "metadata": {},
     "output_type": "execute_result"
    }
   ],
   "source": [
    "data = pd.read_csv('/datasets/hypothesis.csv', sep=',')\n",
    "pd.options.display.max_colwidth = 120\n",
    "data"
   ]
  },
  {
   "cell_type": "code",
   "execution_count": 3,
   "metadata": {},
   "outputs": [
    {
     "name": "stdout",
     "output_type": "stream",
     "text": [
      "<class 'pandas.core.frame.DataFrame'>\n",
      "RangeIndex: 9 entries, 0 to 8\n",
      "Data columns (total 5 columns):\n",
      " #   Column      Non-Null Count  Dtype \n",
      "---  ------      --------------  ----- \n",
      " 0   Hypothesis  9 non-null      object\n",
      " 1   Reach       9 non-null      int64 \n",
      " 2   Impact      9 non-null      int64 \n",
      " 3   Confidence  9 non-null      int64 \n",
      " 4   Efforts     9 non-null      int64 \n",
      "dtypes: int64(4), object(1)\n",
      "memory usage: 488.0+ bytes\n"
     ]
    }
   ],
   "source": [
    "data.info()"
   ]
  },
  {
   "cell_type": "code",
   "execution_count": 4,
   "metadata": {},
   "outputs": [
    {
     "data": {
      "text/plain": [
       "0"
      ]
     },
     "execution_count": 4,
     "metadata": {},
     "output_type": "execute_result"
    }
   ],
   "source": [
    "data.duplicated().sum()"
   ]
  },
  {
   "cell_type": "markdown",
   "metadata": {},
   "source": [
    "<div class=\"alert alert-block alert-info\">\n",
    "\n",
    "Пропусков нет, дублей нет.\n",
    "\n",
    "</div>"
   ]
  },
  {
   "cell_type": "code",
   "execution_count": 5,
   "metadata": {},
   "outputs": [
    {
     "data": {
      "text/html": [
       "<div>\n",
       "<style scoped>\n",
       "    .dataframe tbody tr th:only-of-type {\n",
       "        vertical-align: middle;\n",
       "    }\n",
       "\n",
       "    .dataframe tbody tr th {\n",
       "        vertical-align: top;\n",
       "    }\n",
       "\n",
       "    .dataframe thead th {\n",
       "        text-align: right;\n",
       "    }\n",
       "</style>\n",
       "<table border=\"1\" class=\"dataframe\">\n",
       "  <thead>\n",
       "    <tr style=\"text-align: right;\">\n",
       "      <th></th>\n",
       "      <th>Hypothesis</th>\n",
       "      <th>ICE</th>\n",
       "    </tr>\n",
       "  </thead>\n",
       "  <tbody>\n",
       "    <tr>\n",
       "      <th>8</th>\n",
       "      <td>Запустить акцию, дающую скидку на товар в день рождения</td>\n",
       "      <td>16.200000</td>\n",
       "    </tr>\n",
       "    <tr>\n",
       "      <th>0</th>\n",
       "      <td>Добавить два новых канала привлечения трафика, что позволит привлекать на 30% больше пользователей</td>\n",
       "      <td>13.333333</td>\n",
       "    </tr>\n",
       "    <tr>\n",
       "      <th>7</th>\n",
       "      <td>Добавить форму подписки на все основные страницы, чтобы собрать базу клиентов для email-рассылок</td>\n",
       "      <td>11.200000</td>\n",
       "    </tr>\n",
       "    <tr>\n",
       "      <th>6</th>\n",
       "      <td>Показать на главной странице баннеры с актуальными акциями и распродажами, чтобы увеличить конверсию</td>\n",
       "      <td>8.000000</td>\n",
       "    </tr>\n",
       "    <tr>\n",
       "      <th>2</th>\n",
       "      <td>Добавить блоки рекомендаций товаров на сайт интернет магазина, чтобы повысить конверсию и средний чек заказа</td>\n",
       "      <td>7.000000</td>\n",
       "    </tr>\n",
       "    <tr>\n",
       "      <th>1</th>\n",
       "      <td>Запустить собственную службу доставки, что сократит срок доставки заказов</td>\n",
       "      <td>2.000000</td>\n",
       "    </tr>\n",
       "    <tr>\n",
       "      <th>5</th>\n",
       "      <td>Добавить страницу отзывов клиентов о магазине, что позволит увеличить количество заказов</td>\n",
       "      <td>1.333333</td>\n",
       "    </tr>\n",
       "    <tr>\n",
       "      <th>3</th>\n",
       "      <td>Изменить структура категорий, что увеличит конверсию, т.к. пользователи быстрее найдут нужный товар</td>\n",
       "      <td>1.125000</td>\n",
       "    </tr>\n",
       "    <tr>\n",
       "      <th>4</th>\n",
       "      <td>Изменить цвет фона главной страницы, чтобы увеличить вовлеченность пользователей</td>\n",
       "      <td>1.000000</td>\n",
       "    </tr>\n",
       "  </tbody>\n",
       "</table>\n",
       "</div>"
      ],
      "text/plain": [
       "                                                                                                     Hypothesis  \\\n",
       "8                                                       Запустить акцию, дающую скидку на товар в день рождения   \n",
       "0            Добавить два новых канала привлечения трафика, что позволит привлекать на 30% больше пользователей   \n",
       "7              Добавить форму подписки на все основные страницы, чтобы собрать базу клиентов для email-рассылок   \n",
       "6          Показать на главной странице баннеры с актуальными акциями и распродажами, чтобы увеличить конверсию   \n",
       "2  Добавить блоки рекомендаций товаров на сайт интернет магазина, чтобы повысить конверсию и средний чек заказа   \n",
       "1                                     Запустить собственную службу доставки, что сократит срок доставки заказов   \n",
       "5                      Добавить страницу отзывов клиентов о магазине, что позволит увеличить количество заказов   \n",
       "3           Изменить структура категорий, что увеличит конверсию, т.к. пользователи быстрее найдут нужный товар   \n",
       "4                              Изменить цвет фона главной страницы, чтобы увеличить вовлеченность пользователей   \n",
       "\n",
       "         ICE  \n",
       "8  16.200000  \n",
       "0  13.333333  \n",
       "7  11.200000  \n",
       "6   8.000000  \n",
       "2   7.000000  \n",
       "1   2.000000  \n",
       "5   1.333333  \n",
       "3   1.125000  \n",
       "4   1.000000  "
      ]
     },
     "execution_count": 5,
     "metadata": {},
     "output_type": "execute_result"
    }
   ],
   "source": [
    "data['ICE'] = data['Impact'] * data['Confidence'] / data['Efforts'] \n",
    "data[['Hypothesis', 'ICE']].sort_values(by='ICE', ascending=False)"
   ]
  },
  {
   "cell_type": "markdown",
   "metadata": {},
   "source": [
    "Наиболее перспективные гипотезы по ICE: 8, 0, 7."
   ]
  },
  {
   "cell_type": "code",
   "execution_count": 6,
   "metadata": {},
   "outputs": [
    {
     "data": {
      "text/html": [
       "<div>\n",
       "<style scoped>\n",
       "    .dataframe tbody tr th:only-of-type {\n",
       "        vertical-align: middle;\n",
       "    }\n",
       "\n",
       "    .dataframe tbody tr th {\n",
       "        vertical-align: top;\n",
       "    }\n",
       "\n",
       "    .dataframe thead th {\n",
       "        text-align: right;\n",
       "    }\n",
       "</style>\n",
       "<table border=\"1\" class=\"dataframe\">\n",
       "  <thead>\n",
       "    <tr style=\"text-align: right;\">\n",
       "      <th></th>\n",
       "      <th>Hypothesis</th>\n",
       "      <th>RICE</th>\n",
       "    </tr>\n",
       "  </thead>\n",
       "  <tbody>\n",
       "    <tr>\n",
       "      <th>7</th>\n",
       "      <td>Добавить форму подписки на все основные страницы, чтобы собрать базу клиентов для email-рассылок</td>\n",
       "      <td>112.0</td>\n",
       "    </tr>\n",
       "    <tr>\n",
       "      <th>2</th>\n",
       "      <td>Добавить блоки рекомендаций товаров на сайт интернет магазина, чтобы повысить конверсию и средний чек заказа</td>\n",
       "      <td>56.0</td>\n",
       "    </tr>\n",
       "    <tr>\n",
       "      <th>0</th>\n",
       "      <td>Добавить два новых канала привлечения трафика, что позволит привлекать на 30% больше пользователей</td>\n",
       "      <td>40.0</td>\n",
       "    </tr>\n",
       "    <tr>\n",
       "      <th>6</th>\n",
       "      <td>Показать на главной странице баннеры с актуальными акциями и распродажами, чтобы увеличить конверсию</td>\n",
       "      <td>40.0</td>\n",
       "    </tr>\n",
       "    <tr>\n",
       "      <th>8</th>\n",
       "      <td>Запустить акцию, дающую скидку на товар в день рождения</td>\n",
       "      <td>16.2</td>\n",
       "    </tr>\n",
       "    <tr>\n",
       "      <th>3</th>\n",
       "      <td>Изменить структура категорий, что увеличит конверсию, т.к. пользователи быстрее найдут нужный товар</td>\n",
       "      <td>9.0</td>\n",
       "    </tr>\n",
       "    <tr>\n",
       "      <th>1</th>\n",
       "      <td>Запустить собственную службу доставки, что сократит срок доставки заказов</td>\n",
       "      <td>4.0</td>\n",
       "    </tr>\n",
       "    <tr>\n",
       "      <th>5</th>\n",
       "      <td>Добавить страницу отзывов клиентов о магазине, что позволит увеличить количество заказов</td>\n",
       "      <td>4.0</td>\n",
       "    </tr>\n",
       "    <tr>\n",
       "      <th>4</th>\n",
       "      <td>Изменить цвет фона главной страницы, чтобы увеличить вовлеченность пользователей</td>\n",
       "      <td>3.0</td>\n",
       "    </tr>\n",
       "  </tbody>\n",
       "</table>\n",
       "</div>"
      ],
      "text/plain": [
       "                                                                                                     Hypothesis  \\\n",
       "7              Добавить форму подписки на все основные страницы, чтобы собрать базу клиентов для email-рассылок   \n",
       "2  Добавить блоки рекомендаций товаров на сайт интернет магазина, чтобы повысить конверсию и средний чек заказа   \n",
       "0            Добавить два новых канала привлечения трафика, что позволит привлекать на 30% больше пользователей   \n",
       "6          Показать на главной странице баннеры с актуальными акциями и распродажами, чтобы увеличить конверсию   \n",
       "8                                                       Запустить акцию, дающую скидку на товар в день рождения   \n",
       "3           Изменить структура категорий, что увеличит конверсию, т.к. пользователи быстрее найдут нужный товар   \n",
       "1                                     Запустить собственную службу доставки, что сократит срок доставки заказов   \n",
       "5                      Добавить страницу отзывов клиентов о магазине, что позволит увеличить количество заказов   \n",
       "4                              Изменить цвет фона главной страницы, чтобы увеличить вовлеченность пользователей   \n",
       "\n",
       "    RICE  \n",
       "7  112.0  \n",
       "2   56.0  \n",
       "0   40.0  \n",
       "6   40.0  \n",
       "8   16.2  \n",
       "3    9.0  \n",
       "1    4.0  \n",
       "5    4.0  \n",
       "4    3.0  "
      ]
     },
     "execution_count": 6,
     "metadata": {},
     "output_type": "execute_result"
    }
   ],
   "source": [
    "data['RICE'] = data['Reach'] * data['Impact'] * data['Confidence'] / data['Efforts']\n",
    "data[['Hypothesis', 'RICE']].sort_values(by='RICE', ascending=False)"
   ]
  },
  {
   "cell_type": "markdown",
   "metadata": {},
   "source": [
    "Наиболее перспективные гипотезы по RICE: 7, 2, 0, 6. Здесь на первом месте гипотеза 7, так получилось, потому что её параметр Reach равен 10, в то время как у других гипотез он меньше."
   ]
  },
  {
   "cell_type": "markdown",
   "metadata": {},
   "source": [
    "<div class=\"alert alert-block alert-info\">\n",
    "\n",
    "    Таблица с гипотезами полностью корректна, здесь ничего не меняли.\n",
    "    По моему мнению, выбор нужной гипотезы очень индивидуальное дело, везде будет по разному и зависеть от текущих целей компании. В данном случае я бы выбрал метод RICE и соответственно топ -4 гипотезы:\n",
    "\n",
    "* Добавить форму подписки на все основные страницы, чтобы собрать базу клиентов для email-рассылок\t\n",
    "* Добавить блоки рекомендаций товаров на сайт интернет магазина, чтобы повысить конверсию и средний чек заказа\t\n",
    "* Добавить два новых канала привлечения трафика, что позволит привлекать на 30% больше пользователей\n",
    "*Показать на главной странице баннеры с актуальными акциями и распродажами, чтобы увеличить конверсию\n",
    "\n",
    "\n",
    "</div>"
   ]
  },
  {
   "cell_type": "markdown",
   "metadata": {},
   "source": [
    "**Часть 2. Анализ A/B-теста**"
   ]
  },
  {
   "cell_type": "markdown",
   "metadata": {},
   "source": [
    "Задача\n",
    "Проанализируйте A/B-тест:\n",
    "\n",
    "   1. Постройте график кумулятивной выручки по группам. Сделайте выводы и предположения.\n",
    "   2. Постройте график кумулятивного среднего чека по группам. Сделайте выводы и предположения.\n",
    "   3. Постройте график относительного изменения кумулятивного среднего чека группы B к группе A. Сделайте выводы и предположения.\n",
    "   4. Постройте график кумулятивного среднего количества заказов на посетителя по группам. Сделайте выводы и предположения.\n",
    "   5. Постройте график относительного изменения кумулятивного среднего количества заказов на посетителя группы B к группе A. Сделайте выводы и предположения.\n",
    "   6. Постройте точечный график количества заказов по пользователям. Сделайте выводы и предположения.\n",
    "   7. Посчитайте 95-й и 99-й перцентили количества заказов на пользователя. Выберите границу для определения аномальных пользователей.\n",
    "   8. Постройте точечный график стоимостей заказов. Сделайте выводы и предположения.\n",
    "   9. Посчитайте 95-й и 99-й перцентили стоимости заказов. Выберите границу для определения аномальных заказов.\n",
    "   10. Посчитайте статистическую значимость различий в среднем количестве заказов на посетителя между группами по «сырым» данным. Сделайте выводы и предположения.\n",
    "   11. Посчитайте статистическую значимость различий в среднем чеке заказа между группами по «сырым» данным. Сделайте выводы и предположения.\n",
    "   12. Посчитайте статистическую значимость различий в среднем количестве заказов на посетителя между группами по «очищенным» данным. Сделайте выводы и предположения.\n",
    "   13. Посчитайте статистическую значимость различий в среднем чеке заказа между группами по «очищенным» данным. Сделайте выводы и предположения.\n",
    "   14. Примите решение по результатам теста и объясните его. Варианты решений:\n",
    "    1. Остановить тест, зафиксировать победу одной из групп.\n",
    "    2. Остановить тест, зафиксировать отсутствие различий между группами.\n",
    "    3. Продолжить тест."
   ]
  },
  {
   "cell_type": "code",
   "execution_count": 7,
   "metadata": {},
   "outputs": [],
   "source": [
    "# конвертеры, которые позволяют использовать типы pandas в matplotlib  \n",
    "register_matplotlib_converters()"
   ]
  },
  {
   "cell_type": "code",
   "execution_count": 8,
   "metadata": {},
   "outputs": [
    {
     "data": {
      "text/html": [
       "<div>\n",
       "<style scoped>\n",
       "    .dataframe tbody tr th:only-of-type {\n",
       "        vertical-align: middle;\n",
       "    }\n",
       "\n",
       "    .dataframe tbody tr th {\n",
       "        vertical-align: top;\n",
       "    }\n",
       "\n",
       "    .dataframe thead th {\n",
       "        text-align: right;\n",
       "    }\n",
       "</style>\n",
       "<table border=\"1\" class=\"dataframe\">\n",
       "  <thead>\n",
       "    <tr style=\"text-align: right;\">\n",
       "      <th></th>\n",
       "      <th>transactionId</th>\n",
       "      <th>visitorId</th>\n",
       "      <th>date</th>\n",
       "      <th>revenue</th>\n",
       "      <th>group</th>\n",
       "    </tr>\n",
       "  </thead>\n",
       "  <tbody>\n",
       "    <tr>\n",
       "      <th>0</th>\n",
       "      <td>3667963787</td>\n",
       "      <td>3312258926</td>\n",
       "      <td>2019-08-15</td>\n",
       "      <td>1650</td>\n",
       "      <td>B</td>\n",
       "    </tr>\n",
       "    <tr>\n",
       "      <th>1</th>\n",
       "      <td>2804400009</td>\n",
       "      <td>3642806036</td>\n",
       "      <td>2019-08-15</td>\n",
       "      <td>730</td>\n",
       "      <td>B</td>\n",
       "    </tr>\n",
       "    <tr>\n",
       "      <th>2</th>\n",
       "      <td>2961555356</td>\n",
       "      <td>4069496402</td>\n",
       "      <td>2019-08-15</td>\n",
       "      <td>400</td>\n",
       "      <td>A</td>\n",
       "    </tr>\n",
       "    <tr>\n",
       "      <th>3</th>\n",
       "      <td>3797467345</td>\n",
       "      <td>1196621759</td>\n",
       "      <td>2019-08-15</td>\n",
       "      <td>9759</td>\n",
       "      <td>B</td>\n",
       "    </tr>\n",
       "    <tr>\n",
       "      <th>4</th>\n",
       "      <td>2282983706</td>\n",
       "      <td>2322279887</td>\n",
       "      <td>2019-08-15</td>\n",
       "      <td>2308</td>\n",
       "      <td>B</td>\n",
       "    </tr>\n",
       "    <tr>\n",
       "      <th>...</th>\n",
       "      <td>...</td>\n",
       "      <td>...</td>\n",
       "      <td>...</td>\n",
       "      <td>...</td>\n",
       "      <td>...</td>\n",
       "    </tr>\n",
       "    <tr>\n",
       "      <th>1192</th>\n",
       "      <td>2662137336</td>\n",
       "      <td>3733762160</td>\n",
       "      <td>2019-08-14</td>\n",
       "      <td>6490</td>\n",
       "      <td>B</td>\n",
       "    </tr>\n",
       "    <tr>\n",
       "      <th>1193</th>\n",
       "      <td>2203539145</td>\n",
       "      <td>370388673</td>\n",
       "      <td>2019-08-14</td>\n",
       "      <td>3190</td>\n",
       "      <td>A</td>\n",
       "    </tr>\n",
       "    <tr>\n",
       "      <th>1194</th>\n",
       "      <td>1807773912</td>\n",
       "      <td>573423106</td>\n",
       "      <td>2019-08-14</td>\n",
       "      <td>10550</td>\n",
       "      <td>A</td>\n",
       "    </tr>\n",
       "    <tr>\n",
       "      <th>1195</th>\n",
       "      <td>1947021204</td>\n",
       "      <td>1614305549</td>\n",
       "      <td>2019-08-14</td>\n",
       "      <td>100</td>\n",
       "      <td>A</td>\n",
       "    </tr>\n",
       "    <tr>\n",
       "      <th>1196</th>\n",
       "      <td>3936777065</td>\n",
       "      <td>2108080724</td>\n",
       "      <td>2019-08-15</td>\n",
       "      <td>202740</td>\n",
       "      <td>B</td>\n",
       "    </tr>\n",
       "  </tbody>\n",
       "</table>\n",
       "<p>1197 rows × 5 columns</p>\n",
       "</div>"
      ],
      "text/plain": [
       "      transactionId   visitorId        date  revenue group\n",
       "0        3667963787  3312258926  2019-08-15     1650     B\n",
       "1        2804400009  3642806036  2019-08-15      730     B\n",
       "2        2961555356  4069496402  2019-08-15      400     A\n",
       "3        3797467345  1196621759  2019-08-15     9759     B\n",
       "4        2282983706  2322279887  2019-08-15     2308     B\n",
       "...             ...         ...         ...      ...   ...\n",
       "1192     2662137336  3733762160  2019-08-14     6490     B\n",
       "1193     2203539145   370388673  2019-08-14     3190     A\n",
       "1194     1807773912   573423106  2019-08-14    10550     A\n",
       "1195     1947021204  1614305549  2019-08-14      100     A\n",
       "1196     3936777065  2108080724  2019-08-15   202740     B\n",
       "\n",
       "[1197 rows x 5 columns]"
      ]
     },
     "execution_count": 8,
     "metadata": {},
     "output_type": "execute_result"
    }
   ],
   "source": [
    "orders = pd.read_csv('/datasets/orders.csv', sep=',')\n",
    "orders"
   ]
  },
  {
   "cell_type": "code",
   "execution_count": 9,
   "metadata": {},
   "outputs": [
    {
     "name": "stdout",
     "output_type": "stream",
     "text": [
      "<class 'pandas.core.frame.DataFrame'>\n",
      "RangeIndex: 1197 entries, 0 to 1196\n",
      "Data columns (total 5 columns):\n",
      " #   Column         Non-Null Count  Dtype \n",
      "---  ------         --------------  ----- \n",
      " 0   transactionId  1197 non-null   int64 \n",
      " 1   visitorId      1197 non-null   int64 \n",
      " 2   date           1197 non-null   object\n",
      " 3   revenue        1197 non-null   int64 \n",
      " 4   group          1197 non-null   object\n",
      "dtypes: int64(3), object(2)\n",
      "memory usage: 46.9+ KB\n"
     ]
    }
   ],
   "source": [
    "orders.info()"
   ]
  },
  {
   "cell_type": "code",
   "execution_count": 10,
   "metadata": {},
   "outputs": [
    {
     "data": {
      "text/plain": [
       "0"
      ]
     },
     "execution_count": 10,
     "metadata": {},
     "output_type": "execute_result"
    }
   ],
   "source": [
    "orders.duplicated().sum()"
   ]
  },
  {
   "cell_type": "code",
   "execution_count": 11,
   "metadata": {},
   "outputs": [
    {
     "data": {
      "text/html": [
       "<div>\n",
       "<style scoped>\n",
       "    .dataframe tbody tr th:only-of-type {\n",
       "        vertical-align: middle;\n",
       "    }\n",
       "\n",
       "    .dataframe tbody tr th {\n",
       "        vertical-align: top;\n",
       "    }\n",
       "\n",
       "    .dataframe thead th {\n",
       "        text-align: right;\n",
       "    }\n",
       "</style>\n",
       "<table border=\"1\" class=\"dataframe\">\n",
       "  <thead>\n",
       "    <tr style=\"text-align: right;\">\n",
       "      <th></th>\n",
       "      <th>transactionId</th>\n",
       "      <th>visitorId</th>\n",
       "      <th>revenue</th>\n",
       "    </tr>\n",
       "  </thead>\n",
       "  <tbody>\n",
       "    <tr>\n",
       "      <th>count</th>\n",
       "      <td>1.197000e+03</td>\n",
       "      <td>1.197000e+03</td>\n",
       "      <td>1.197000e+03</td>\n",
       "    </tr>\n",
       "    <tr>\n",
       "      <th>mean</th>\n",
       "      <td>2.155621e+09</td>\n",
       "      <td>2.165960e+09</td>\n",
       "      <td>8.348006e+03</td>\n",
       "    </tr>\n",
       "    <tr>\n",
       "      <th>std</th>\n",
       "      <td>1.229085e+09</td>\n",
       "      <td>1.236014e+09</td>\n",
       "      <td>3.919113e+04</td>\n",
       "    </tr>\n",
       "    <tr>\n",
       "      <th>min</th>\n",
       "      <td>1.062393e+06</td>\n",
       "      <td>5.114589e+06</td>\n",
       "      <td>5.000000e+01</td>\n",
       "    </tr>\n",
       "    <tr>\n",
       "      <th>25%</th>\n",
       "      <td>1.166776e+09</td>\n",
       "      <td>1.111826e+09</td>\n",
       "      <td>1.220000e+03</td>\n",
       "    </tr>\n",
       "    <tr>\n",
       "      <th>50%</th>\n",
       "      <td>2.145194e+09</td>\n",
       "      <td>2.217985e+09</td>\n",
       "      <td>2.978000e+03</td>\n",
       "    </tr>\n",
       "    <tr>\n",
       "      <th>75%</th>\n",
       "      <td>3.237740e+09</td>\n",
       "      <td>3.177606e+09</td>\n",
       "      <td>8.290000e+03</td>\n",
       "    </tr>\n",
       "    <tr>\n",
       "      <th>max</th>\n",
       "      <td>4.293856e+09</td>\n",
       "      <td>4.283872e+09</td>\n",
       "      <td>1.294500e+06</td>\n",
       "    </tr>\n",
       "  </tbody>\n",
       "</table>\n",
       "</div>"
      ],
      "text/plain": [
       "       transactionId     visitorId       revenue\n",
       "count   1.197000e+03  1.197000e+03  1.197000e+03\n",
       "mean    2.155621e+09  2.165960e+09  8.348006e+03\n",
       "std     1.229085e+09  1.236014e+09  3.919113e+04\n",
       "min     1.062393e+06  5.114589e+06  5.000000e+01\n",
       "25%     1.166776e+09  1.111826e+09  1.220000e+03\n",
       "50%     2.145194e+09  2.217985e+09  2.978000e+03\n",
       "75%     3.237740e+09  3.177606e+09  8.290000e+03\n",
       "max     4.293856e+09  4.283872e+09  1.294500e+06"
      ]
     },
     "execution_count": 11,
     "metadata": {},
     "output_type": "execute_result"
    }
   ],
   "source": [
    "orders.describe()"
   ]
  },
  {
   "cell_type": "markdown",
   "metadata": {},
   "source": [
    "<div class=\"alert alert-block alert-info\">\n",
    "\n",
    "Пропусков нет, дублей нет.\n",
    "\n",
    "</div>"
   ]
  },
  {
   "cell_type": "code",
   "execution_count": 12,
   "metadata": {},
   "outputs": [],
   "source": [
    "#Поменяем тип столбца \"date\" на datetime\n",
    "orders['date'] = orders['date'].map(\n",
    "    lambda x: dt.datetime.strptime(x, '%Y-%m-%d')\n",
    ")"
   ]
  },
  {
   "cell_type": "code",
   "execution_count": 13,
   "metadata": {},
   "outputs": [
    {
     "name": "stderr",
     "output_type": "stream",
     "text": [
      "/tmp/ipykernel_48/4220411559.py:1: FutureWarning: Treating datetime data as categorical rather than numeric in `.describe` is deprecated and will be removed in a future version of pandas. Specify `datetime_is_numeric=True` to silence this warning and adopt the future behavior now.\n",
      "  orders[\"date\"].describe()\n"
     ]
    },
    {
     "data": {
      "text/plain": [
       "count                    1197\n",
       "unique                     31\n",
       "top       2019-08-05 00:00:00\n",
       "freq                       48\n",
       "first     2019-08-01 00:00:00\n",
       "last      2019-08-31 00:00:00\n",
       "Name: date, dtype: object"
      ]
     },
     "execution_count": 13,
     "metadata": {},
     "output_type": "execute_result"
    }
   ],
   "source": [
    "orders[\"date\"].describe()"
   ]
  },
  {
   "cell_type": "code",
   "execution_count": 14,
   "metadata": {},
   "outputs": [
    {
     "data": {
      "text/plain": [
       "group\n",
       "A    503\n",
       "B    586\n",
       "Name: visitorId, dtype: int64"
      ]
     },
     "execution_count": 14,
     "metadata": {},
     "output_type": "execute_result"
    }
   ],
   "source": [
    "orders.groupby('group')['visitorId'].nunique()"
   ]
  },
  {
   "cell_type": "code",
   "execution_count": 15,
   "metadata": {},
   "outputs": [
    {
     "data": {
      "text/html": [
       "<div>\n",
       "<style scoped>\n",
       "    .dataframe tbody tr th:only-of-type {\n",
       "        vertical-align: middle;\n",
       "    }\n",
       "\n",
       "    .dataframe tbody tr th {\n",
       "        vertical-align: top;\n",
       "    }\n",
       "\n",
       "    .dataframe thead th {\n",
       "        text-align: right;\n",
       "    }\n",
       "</style>\n",
       "<table border=\"1\" class=\"dataframe\">\n",
       "  <thead>\n",
       "    <tr style=\"text-align: right;\">\n",
       "      <th></th>\n",
       "      <th>date</th>\n",
       "      <th>group</th>\n",
       "      <th>visitors</th>\n",
       "    </tr>\n",
       "  </thead>\n",
       "  <tbody>\n",
       "    <tr>\n",
       "      <th>0</th>\n",
       "      <td>2019-08-01</td>\n",
       "      <td>A</td>\n",
       "      <td>719</td>\n",
       "    </tr>\n",
       "    <tr>\n",
       "      <th>1</th>\n",
       "      <td>2019-08-02</td>\n",
       "      <td>A</td>\n",
       "      <td>619</td>\n",
       "    </tr>\n",
       "    <tr>\n",
       "      <th>2</th>\n",
       "      <td>2019-08-03</td>\n",
       "      <td>A</td>\n",
       "      <td>507</td>\n",
       "    </tr>\n",
       "    <tr>\n",
       "      <th>3</th>\n",
       "      <td>2019-08-04</td>\n",
       "      <td>A</td>\n",
       "      <td>717</td>\n",
       "    </tr>\n",
       "    <tr>\n",
       "      <th>4</th>\n",
       "      <td>2019-08-05</td>\n",
       "      <td>A</td>\n",
       "      <td>756</td>\n",
       "    </tr>\n",
       "    <tr>\n",
       "      <th>...</th>\n",
       "      <td>...</td>\n",
       "      <td>...</td>\n",
       "      <td>...</td>\n",
       "    </tr>\n",
       "    <tr>\n",
       "      <th>57</th>\n",
       "      <td>2019-08-27</td>\n",
       "      <td>B</td>\n",
       "      <td>720</td>\n",
       "    </tr>\n",
       "    <tr>\n",
       "      <th>58</th>\n",
       "      <td>2019-08-28</td>\n",
       "      <td>B</td>\n",
       "      <td>654</td>\n",
       "    </tr>\n",
       "    <tr>\n",
       "      <th>59</th>\n",
       "      <td>2019-08-29</td>\n",
       "      <td>B</td>\n",
       "      <td>531</td>\n",
       "    </tr>\n",
       "    <tr>\n",
       "      <th>60</th>\n",
       "      <td>2019-08-30</td>\n",
       "      <td>B</td>\n",
       "      <td>490</td>\n",
       "    </tr>\n",
       "    <tr>\n",
       "      <th>61</th>\n",
       "      <td>2019-08-31</td>\n",
       "      <td>B</td>\n",
       "      <td>718</td>\n",
       "    </tr>\n",
       "  </tbody>\n",
       "</table>\n",
       "<p>62 rows × 3 columns</p>\n",
       "</div>"
      ],
      "text/plain": [
       "          date group  visitors\n",
       "0   2019-08-01     A       719\n",
       "1   2019-08-02     A       619\n",
       "2   2019-08-03     A       507\n",
       "3   2019-08-04     A       717\n",
       "4   2019-08-05     A       756\n",
       "..         ...   ...       ...\n",
       "57  2019-08-27     B       720\n",
       "58  2019-08-28     B       654\n",
       "59  2019-08-29     B       531\n",
       "60  2019-08-30     B       490\n",
       "61  2019-08-31     B       718\n",
       "\n",
       "[62 rows x 3 columns]"
      ]
     },
     "execution_count": 15,
     "metadata": {},
     "output_type": "execute_result"
    }
   ],
   "source": [
    "visitors = pd.read_csv('/datasets/visitors.csv', sep=',')\n",
    "visitors"
   ]
  },
  {
   "cell_type": "code",
   "execution_count": 16,
   "metadata": {},
   "outputs": [
    {
     "name": "stdout",
     "output_type": "stream",
     "text": [
      "<class 'pandas.core.frame.DataFrame'>\n",
      "RangeIndex: 62 entries, 0 to 61\n",
      "Data columns (total 3 columns):\n",
      " #   Column    Non-Null Count  Dtype \n",
      "---  ------    --------------  ----- \n",
      " 0   date      62 non-null     object\n",
      " 1   group     62 non-null     object\n",
      " 2   visitors  62 non-null     int64 \n",
      "dtypes: int64(1), object(2)\n",
      "memory usage: 1.6+ KB\n"
     ]
    }
   ],
   "source": [
    "visitors.info()"
   ]
  },
  {
   "cell_type": "code",
   "execution_count": 17,
   "metadata": {},
   "outputs": [
    {
     "data": {
      "text/plain": [
       "0"
      ]
     },
     "execution_count": 17,
     "metadata": {},
     "output_type": "execute_result"
    }
   ],
   "source": [
    "orders.duplicated().sum()"
   ]
  },
  {
   "cell_type": "markdown",
   "metadata": {},
   "source": [
    "<div class=\"alert alert-block alert-info\">\n",
    "\n",
    "Пропусков нет, дублей нет.\n",
    "\n",
    "</div>"
   ]
  },
  {
   "cell_type": "code",
   "execution_count": 18,
   "metadata": {},
   "outputs": [
    {
     "data": {
      "text/html": [
       "<div>\n",
       "<style scoped>\n",
       "    .dataframe tbody tr th:only-of-type {\n",
       "        vertical-align: middle;\n",
       "    }\n",
       "\n",
       "    .dataframe tbody tr th {\n",
       "        vertical-align: top;\n",
       "    }\n",
       "\n",
       "    .dataframe thead th {\n",
       "        text-align: right;\n",
       "    }\n",
       "</style>\n",
       "<table border=\"1\" class=\"dataframe\">\n",
       "  <thead>\n",
       "    <tr style=\"text-align: right;\">\n",
       "      <th></th>\n",
       "      <th>visitors</th>\n",
       "    </tr>\n",
       "  </thead>\n",
       "  <tbody>\n",
       "    <tr>\n",
       "      <th>count</th>\n",
       "      <td>62.000000</td>\n",
       "    </tr>\n",
       "    <tr>\n",
       "      <th>mean</th>\n",
       "      <td>607.290323</td>\n",
       "    </tr>\n",
       "    <tr>\n",
       "      <th>std</th>\n",
       "      <td>114.400560</td>\n",
       "    </tr>\n",
       "    <tr>\n",
       "      <th>min</th>\n",
       "      <td>361.000000</td>\n",
       "    </tr>\n",
       "    <tr>\n",
       "      <th>25%</th>\n",
       "      <td>534.000000</td>\n",
       "    </tr>\n",
       "    <tr>\n",
       "      <th>50%</th>\n",
       "      <td>624.500000</td>\n",
       "    </tr>\n",
       "    <tr>\n",
       "      <th>75%</th>\n",
       "      <td>710.500000</td>\n",
       "    </tr>\n",
       "    <tr>\n",
       "      <th>max</th>\n",
       "      <td>770.000000</td>\n",
       "    </tr>\n",
       "  </tbody>\n",
       "</table>\n",
       "</div>"
      ],
      "text/plain": [
       "         visitors\n",
       "count   62.000000\n",
       "mean   607.290323\n",
       "std    114.400560\n",
       "min    361.000000\n",
       "25%    534.000000\n",
       "50%    624.500000\n",
       "75%    710.500000\n",
       "max    770.000000"
      ]
     },
     "execution_count": 18,
     "metadata": {},
     "output_type": "execute_result"
    }
   ],
   "source": [
    "visitors.describe()"
   ]
  },
  {
   "cell_type": "code",
   "execution_count": 19,
   "metadata": {},
   "outputs": [],
   "source": [
    "#Поменяем тип столбца \"visitors\" на datetime\n",
    "visitors['date'] = visitors['date'].map(\n",
    "    lambda x: dt.datetime.strptime(x, '%Y-%m-%d')\n",
    ")"
   ]
  },
  {
   "cell_type": "code",
   "execution_count": 20,
   "metadata": {},
   "outputs": [
    {
     "name": "stderr",
     "output_type": "stream",
     "text": [
      "/tmp/ipykernel_48/164514240.py:1: FutureWarning: Treating datetime data as categorical rather than numeric in `.describe` is deprecated and will be removed in a future version of pandas. Specify `datetime_is_numeric=True` to silence this warning and adopt the future behavior now.\n",
      "  visitors[\"date\"].describe()\n"
     ]
    },
    {
     "data": {
      "text/plain": [
       "count                      62\n",
       "unique                     31\n",
       "top       2019-08-27 00:00:00\n",
       "freq                        2\n",
       "first     2019-08-01 00:00:00\n",
       "last      2019-08-31 00:00:00\n",
       "Name: date, dtype: object"
      ]
     },
     "execution_count": 20,
     "metadata": {},
     "output_type": "execute_result"
    }
   ],
   "source": [
    "visitors[\"date\"].describe()"
   ]
  },
  {
   "cell_type": "code",
   "execution_count": 21,
   "metadata": {},
   "outputs": [
    {
     "data": {
      "text/plain": [
       "A    31\n",
       "B    31\n",
       "Name: group, dtype: int64"
      ]
     },
     "execution_count": 21,
     "metadata": {},
     "output_type": "execute_result"
    }
   ],
   "source": [
    "visitors['group'].value_counts()"
   ]
  },
  {
   "cell_type": "code",
   "execution_count": 22,
   "metadata": {},
   "outputs": [
    {
     "data": {
      "text/plain": [
       "array([4069496402,  963407295,  351125977, 3234906277,  199603092,\n",
       "        237748145, 3803269165, 2038680547, 2378935119, 4256040402,\n",
       "       2712142231,    8300375,  276558944,  457167155, 3062433592,\n",
       "       1738359350, 2458001652, 2716752286, 3891541246, 1648269707,\n",
       "       3656415546, 2686716486, 2954449915, 2927087541, 2579882178,\n",
       "       3957174400, 2780786433, 3984495233,  818047933, 1668030113,\n",
       "       3717692402, 2044997962, 1959144690, 1294878855, 1404934699,\n",
       "       2587333274, 3202540741, 1333886533, 2600415354, 3951559397,\n",
       "        393266494, 3972127743, 4120364173, 4266935830, 1230306981,\n",
       "       1614305549,  477780734, 1602967004, 1801183820, 4186807279,\n",
       "       3766097110, 3941795274,  471551937, 1316129916,  232979603,\n",
       "       2654030115, 3963646447, 2949041841])"
      ]
     },
     "metadata": {},
     "output_type": "display_data"
    },
    {
     "name": "stdout",
     "output_type": "stream",
     "text": [
      "Количество пользователей в двух группах: 58\n",
      "Всего пользователей в тесте: 1031\n"
     ]
    }
   ],
   "source": [
    "#Проверим группы на совпадения пользователей\n",
    "g_a = orders[orders['group'] == 'A']['visitorId']\n",
    "g_b = orders[orders['group'] == 'B']['visitorId']\n",
    "orders_ab = orders.query('visitorId in @g_a and visitorId in @g_b')\n",
    "display(orders_ab['visitorId'].unique())\n",
    "print('Количество пользователей в двух группах:', orders_ab['visitorId'].nunique())\n",
    "print('Всего пользователей в тесте:', orders['visitorId'].nunique())"
   ]
  },
  {
   "cell_type": "markdown",
   "metadata": {},
   "source": [
    "<div class=\"alert alert-block alert-info\">\n",
    "\n",
    " Всего в таблице 1031 пользоватей. Из них 58 пользователей одновременно присутствуют в двух группах. Их доля составляют 5,6% от общего числа.\n",
    "Так как их процент от общего числа не велик, очистим таблицу от этих пользователей, для корретного А/В теста.\n",
    "\n",
    "</div>"
   ]
  },
  {
   "cell_type": "code",
   "execution_count": 23,
   "metadata": {},
   "outputs": [
    {
     "name": "stdout",
     "output_type": "stream",
     "text": [
      "Всего пользователей в тесте осталось: 973\n"
     ]
    }
   ],
   "source": [
    "orders = orders.query('visitorId not in @orders_ab[\"visitorId\"]')\n",
    "print('Всего пользователей в тесте осталось:', orders['visitorId'].nunique())"
   ]
  },
  {
   "cell_type": "markdown",
   "metadata": {},
   "source": [
    "<div class=\"alert alert-block alert-info\">\n",
    "\n",
    " В таблицах с заказами и посетителями изменили тип столбца с датой. Период данных 01.08.2019 - 31.08.2019, в таблицах заказов и посетителей совпадают. Очистили таблицу от пользователей, которые были в двух группах одновременно. Всё готово к анализу\n",
    "\n",
    "</div>"
   ]
  },
  {
   "cell_type": "code",
   "execution_count": 24,
   "metadata": {},
   "outputs": [],
   "source": [
    "datesGroups = orders[['date', 'group']].drop_duplicates()"
   ]
  },
  {
   "cell_type": "code",
   "execution_count": 25,
   "metadata": {},
   "outputs": [],
   "source": [
    "ordersAggregated = datesGroups.apply(\n",
    "    lambda x: orders[\n",
    "        np.logical_and(\n",
    "            orders['date'] <= x['date'], orders['group'] == x['group']\n",
    "        )\n",
    "    ].agg(\n",
    "        {\n",
    "            'date': 'max',\n",
    "            'group': 'max',\n",
    "            'transactionId': 'nunique',\n",
    "            'visitorId': 'nunique',\n",
    "            'revenue': 'sum',\n",
    "        }\n",
    "    ),\n",
    "    axis=1,\n",
    ").sort_values(by=['date', 'group'])"
   ]
  },
  {
   "cell_type": "code",
   "execution_count": 26,
   "metadata": {},
   "outputs": [],
   "source": [
    "visitorsAggregated = datesGroups.apply(\n",
    "    lambda x: visitors[\n",
    "        np.logical_and(\n",
    "            visitors['date'] <= x['date'], visitors['group'] == x['group']\n",
    "        )\n",
    "    ].agg({'date': 'max', 'group': 'max', 'visitors': 'sum'}),\n",
    "    axis=1,\n",
    ").sort_values(by=['date', 'group'])"
   ]
  },
  {
   "cell_type": "code",
   "execution_count": 27,
   "metadata": {},
   "outputs": [],
   "source": [
    "cumulativeData = ordersAggregated.merge(\n",
    "    visitorsAggregated, left_on=['date', 'group'], right_on=['date', 'group']\n",
    ")"
   ]
  },
  {
   "cell_type": "code",
   "execution_count": 28,
   "metadata": {},
   "outputs": [],
   "source": [
    "cumulativeData.columns = [\n",
    "    'date',\n",
    "    'group',\n",
    "    'orders',\n",
    "    'buyers',\n",
    "    'revenue',\n",
    "    'visitors',\n",
    "]"
   ]
  },
  {
   "cell_type": "code",
   "execution_count": 29,
   "metadata": {},
   "outputs": [
    {
     "data": {
      "text/plain": [
       "<matplotlib.legend.Legend at 0x7f8fdd1c15e0>"
      ]
     },
     "execution_count": 29,
     "metadata": {},
     "output_type": "execute_result"
    },
    {
     "data": {
      "image/png": "[encoded data removed]",
      "text/plain": [
       "<Figure size 432x288 with 1 Axes>"
      ]
     },
     "metadata": {
      "needs_background": "light"
     },
     "output_type": "display_data"
    }
   ],
   "source": [
    "#график кумулятивной выручки по группам\n",
    "cumulativeRevenueA = cumulativeData[cumulativeData['group']=='A'][['date','revenue', 'orders']]\n",
    "cumulativeRevenueB = cumulativeData[cumulativeData['group']=='B'][['date','revenue', 'orders']]\n",
    "plt.plot(cumulativeRevenueA['date'], cumulativeRevenueA['revenue'], label='A')\n",
    "plt.plot(cumulativeRevenueB['date'], cumulativeRevenueB['revenue'], label='B')\n",
    "plt.legend() "
   ]
  },
  {
   "cell_type": "markdown",
   "metadata": {},
   "source": [
    "В середине теста сегмент В вырвался вперед и продолжал лидировать весь остаток теста. Похоже, что аномально большие заказы всё-таки влияют на результат."
   ]
  },
  {
   "cell_type": "code",
   "execution_count": 30,
   "metadata": {},
   "outputs": [
    {
     "data": {
      "image/png": "[encoded data removed]",
      "text/plain": [
       "<Figure size 432x288 with 1 Axes>"
      ]
     },
     "metadata": {
      "needs_background": "light"
     },
     "output_type": "display_data"
    }
   ],
   "source": [
    "#график кумулятивного среднего чека по группам\n",
    "cumulativeRevenueA = cumulativeData[cumulativeData['group'] == 'A'][\n",
    "    ['date', 'revenue', 'orders']\n",
    "]\n",
    "cumulativeRevenueB = cumulativeData[cumulativeData['group'] == 'B'][\n",
    "    ['date', 'revenue', 'orders']\n",
    "]\n",
    "plt.plot(cumulativeRevenueA['date'], cumulativeRevenueA['revenue']/cumulativeRevenueA['orders'], label='A')\n",
    "plt.plot(cumulativeRevenueB['date'], cumulativeRevenueB['revenue']/cumulativeRevenueB['orders'], label='B')\n",
    "plt.title('График кумулятивной выручки по группам')\n",
    "plt.ylabel('Выручка')\n",
    "plt.xticks(rotation=45)\n",
    "plt.legend()\n",
    "plt.grid()\n",
    "plt.show()"
   ]
  },
  {
   "cell_type": "markdown",
   "metadata": {},
   "source": [
    "Кумулятивное значение среднего чека колеблется. Во второй половине теста в группу В попали  крупные заказы (резкий всплеск на графике). Тогда ей нужно больше данных, чтобы прийти к реальному среднему чеку и установиться на его уровне."
   ]
  },
  {
   "cell_type": "code",
   "execution_count": 31,
   "metadata": {},
   "outputs": [
    {
     "data": {
      "image/png": "[encoded data removed]",
      "text/plain": [
       "<Figure size 432x288 with 1 Axes>"
      ]
     },
     "metadata": {
      "needs_background": "light"
     },
     "output_type": "display_data"
    }
   ],
   "source": [
    "# график относительного изменения кумулятивного среднего чека группы B к группе A\n",
    "# собираем данные в одном датафрейме\n",
    "mergedCumulativeRevenue = cumulativeRevenueA.merge(cumulativeRevenueB, left_on='date', right_on='date', how='left', suffixes=['A', 'B'])\n",
    "\n",
    "# cтроим отношение средних чеков\n",
    "plt.plot(mergedCumulativeRevenue['date'], (mergedCumulativeRevenue['revenueB']/mergedCumulativeRevenue['ordersB'])/(mergedCumulativeRevenue['revenueA']/mergedCumulativeRevenue['ordersA'])-1)\n",
    "\n",
    "# добавляем ось X\n",
    "plt.axhline(y=0, color='black', linestyle='--') \n",
    "plt.title('График относительного изменения кумулятивного среднего чека группы B к группе A')\n",
    "plt.xticks(rotation=45)\n",
    "plt.grid()\n",
    "plt.show()"
   ]
  },
  {
   "cell_type": "markdown",
   "metadata": {},
   "source": [
    "Результаты теста значительно и резко менялись в несколько дат. Видимо, именно тогда были совершенны аномальные заказы."
   ]
  },
  {
   "cell_type": "code",
   "execution_count": 32,
   "metadata": {},
   "outputs": [
    {
     "data": {
      "image/png": "[encoded data removed]",
      "text/plain": [
       "<Figure size 432x288 with 1 Axes>"
      ]
     },
     "metadata": {
      "needs_background": "light"
     },
     "output_type": "display_data"
    }
   ],
   "source": [
    "#график кумулятивного среднего количества заказов на посетителя по группам\n",
    "# считаем кумулятивную конверсию\n",
    "cumulativeData['conversion'] = cumulativeData['orders']/cumulativeData['visitors']\n",
    "\n",
    "# отделяем данные по группе A\n",
    "cumulativeDataA = cumulativeData[cumulativeData['group']=='A']\n",
    "\n",
    "# отделяем данные по группе B\n",
    "cumulativeDataB = cumulativeData[cumulativeData['group']=='B']\n",
    "\n",
    "# строим графики\n",
    "plt.plot(cumulativeDataA['date'], cumulativeDataA['conversion'], label='A')\n",
    "plt.plot(cumulativeDataB['date'], cumulativeDataB['conversion'], label='B')\n",
    "plt.legend()\n",
    "# задаем масштаб осей\n",
    "plt.axis([\"2019-08-01\", '2019-08-31', 0, 0.05]) \n",
    "plt.title('График кумулятивной конверсии по группам')\n",
    "plt.ylabel('сonversion')\n",
    "plt.xticks(rotation=45)\n",
    "plt.legend()\n",
    "plt.grid()\n",
    "plt.show()"
   ]
  },
  {
   "cell_type": "markdown",
   "metadata": {},
   "source": [
    "Получился симметричный график. Группы колебались около одного значения, но затем конверсия группы В вырвалась вперёд и зафиксировалась, а конверсия группы А просела и также зафиксировалась."
   ]
  },
  {
   "cell_type": "code",
   "execution_count": 33,
   "metadata": {},
   "outputs": [
    {
     "data": {
      "image/png": "[encoded data removed]",
      "text/plain": [
       "<Figure size 432x288 with 1 Axes>"
      ]
     },
     "metadata": {
      "needs_background": "light"
     },
     "output_type": "display_data"
    }
   ],
   "source": [
    "# график относительного изменения кумулятивного среднего количества заказов на посетителя группы B к группе A\n",
    "mergedCumulativeConversions = cumulativeDataA[['date','conversion']].merge(cumulativeDataB[['date','conversion']], left_on='date', right_on='date', how='left', suffixes=['A', 'B'])\n",
    "\n",
    "plt.plot(mergedCumulativeConversions['date'], mergedCumulativeConversions['conversionB']/mergedCumulativeConversions['conversionA']-1, label=\"Относительный прирост конверсии группы B относительно группы A\")\n",
    "plt.legend()\n",
    "\n",
    "plt.axhline(y=0, color='black', linestyle='--')\n",
    "plt.axhline(y=0.1, color='grey', linestyle='--')\n",
    "plt.axis([\"2019-08-01\", '2019-08-31', -0.5, 0.5]) \n",
    "plt.legend()\n",
    "plt.title('График относительного изменения кумулятивной конверсии группы B к группе A')\n",
    "plt.xticks(rotation=45)\n",
    "plt.grid()\n",
    "plt.show()"
   ]
  },
  {
   "cell_type": "markdown",
   "metadata": {},
   "source": [
    "<div class=\"alert alert-block alert-info\">\n",
    "\n",
    " Группа В лидирует по конверсии. Число заказов группы B было выше более чем на 10%\n",
    "\n",
    "</div>"
   ]
  },
  {
   "cell_type": "code",
   "execution_count": 34,
   "metadata": {},
   "outputs": [
    {
     "data": {
      "image/png": "[encoded data removed]",
      "text/plain": [
       "<Figure size 432x288 with 1 Axes>"
      ]
     },
     "metadata": {
      "needs_background": "light"
     },
     "output_type": "display_data"
    }
   ],
   "source": [
    "#точечный график количества заказов по пользователям\n",
    "ordersByUsers = (\n",
    "    orders.groupby('visitorId', as_index=False)\n",
    "    .agg({'transactionId': 'nunique'})\n",
    ")\n",
    "\n",
    "ordersByUsers.columns = ['visitorId', 'transactionId']\n",
    "\n",
    "ordersByUsers.sort_values(by='transactionId', ascending=False).head(10)\n",
    "x_values = pd.Series(range(0,len(ordersByUsers['transactionId'])))\n",
    "plt.title('Точечный график количества заказов по пользователям')\n",
    "plt.scatter(x_values, ordersByUsers['transactionId'], color='red')\n",
    "plt.xlabel('Число пользователей')\n",
    "plt.ylabel('Число заказов')\n",
    "plt.grid()\n",
    "plt.show()"
   ]
  },
  {
   "cell_type": "markdown",
   "metadata": {},
   "source": [
    "По графику видно, что большая часть людей совершает покупку один раз."
   ]
  },
  {
   "cell_type": "code",
   "execution_count": 35,
   "metadata": {},
   "outputs": [
    {
     "data": {
      "text/plain": [
       "array([1., 2.])"
      ]
     },
     "execution_count": 35,
     "metadata": {},
     "output_type": "execute_result"
    }
   ],
   "source": [
    "#95-й и 99-й перцентили количества заказов на пользователя.\n",
    "np.percentile(ordersByUsers['transactionId'], [95, 99])"
   ]
  },
  {
   "cell_type": "markdown",
   "metadata": {},
   "source": [
    "Не более 5% пользовтелей совершали совершали больше 2-х заказов и не более 1% пользователей - больше 4-х заказов."
   ]
  },
  {
   "cell_type": "code",
   "execution_count": 36,
   "metadata": {},
   "outputs": [
    {
     "data": {
      "text/plain": [
       "3"
      ]
     },
     "execution_count": 36,
     "metadata": {},
     "output_type": "execute_result"
    }
   ],
   "source": [
    "#посмотрим максимальное значение числа покупок:\n",
    "ordersByUsers['transactionId'].max()"
   ]
  },
  {
   "cell_type": "code",
   "execution_count": 37,
   "metadata": {},
   "outputs": [
    {
     "data": {
      "text/plain": [
       "0"
      ]
     },
     "execution_count": 37,
     "metadata": {},
     "output_type": "execute_result"
    }
   ],
   "source": [
    "#посмотрим, сколько покупателей, выходящих за 99 процентиль, т.е. являющимися выбросами:\n",
    "len(ordersByUsers[ordersByUsers['transactionId'] >= 4]['visitorId'])"
   ]
  },
  {
   "cell_type": "code",
   "execution_count": 38,
   "metadata": {},
   "outputs": [],
   "source": [
    "#добавим аномальные значения в список, они понадобятся нам дальше для дальнейшего исследования:\n",
    "outlaws = ordersByUsers[ordersByUsers['transactionId'] >= 4]['visitorId'].to_list()"
   ]
  },
  {
   "cell_type": "markdown",
   "metadata": {},
   "source": [
    "Все значения за пределами 99 процентиля являются аномальными."
   ]
  },
  {
   "cell_type": "code",
   "execution_count": 39,
   "metadata": {},
   "outputs": [
    {
     "data": {
      "image/png": "[encoded data removed]",
      "text/plain": [
       "<Figure size 432x288 with 1 Axes>"
      ]
     },
     "metadata": {
      "needs_background": "light"
     },
     "output_type": "display_data"
    }
   ],
   "source": [
    "#точечный график стоимостей заказов\n",
    "x_values = pd.Series(range(0,len(orders['revenue'])))\n",
    "plt.scatter(x_values, orders['revenue'], color='red')\n",
    "plt.title('Точечный график стоимостей заказов');\n",
    "plt.xlabel('Число пользователей')\n",
    "plt.ylabel('Стоимость заказов')\n",
    "plt.grid()\n",
    "plt.show()"
   ]
  },
  {
   "cell_type": "markdown",
   "metadata": {},
   "source": [
    "На графике отчетливо видно 2 выброса. Это могут быть единичные заказы, совершенные какими-то предприятиями, которые закупали товр в очень болих объемах."
   ]
  },
  {
   "cell_type": "code",
   "execution_count": 40,
   "metadata": {},
   "outputs": [
    {
     "data": {
      "image/png": "[encoded data removed]",
      "text/plain": [
       "<Figure size 1080x360 with 1 Axes>"
      ]
     },
     "metadata": {
      "needs_background": "light"
     },
     "output_type": "display_data"
    }
   ],
   "source": [
    "#Построим более наглядный график, для это уберем явные выбросы с 'revenue' большим 199000\n",
    "norm_orders = orders[orders['revenue']<=195000]['revenue']\n",
    "xn_values = pd.Series(range(0,len(norm_orders)))\n",
    "plt.figure(figsize=(15,5))\n",
    "plt.title('График стоимостей заказов');\n",
    "plt.xlabel('Число пользователей')\n",
    "plt.ylabel('Стоимость заказов')\n",
    "plt.scatter(xn_values, norm_orders, color='red')\n",
    "plt.grid()\n",
    "plt.show()"
   ]
  },
  {
   "cell_type": "markdown",
   "metadata": {},
   "source": [
    "<div class=\"alert alert-block alert-info\">\n",
    "\n",
    " Хорошо видно тот самый аномальный заказ на 1.3 млн и еще один на 200 тысяч, остальные примерно не больше 100 тысяч.\n",
    "\n",
    "</div>"
   ]
  },
  {
   "cell_type": "code",
   "execution_count": 41,
   "metadata": {},
   "outputs": [
    {
     "data": {
      "text/plain": [
       "array([26785., 53904.])"
      ]
     },
     "execution_count": 41,
     "metadata": {},
     "output_type": "execute_result"
    }
   ],
   "source": [
    "# 95-й и 99-й перцентили стоимости заказов\n",
    "np.percentile(orders['revenue'], [95, 99])"
   ]
  },
  {
   "cell_type": "markdown",
   "metadata": {},
   "source": [
    "Не более чем у 5% заказов чек дороже 26 785. И не больше, чем у 1% заказов - дороже 53 904"
   ]
  },
  {
   "cell_type": "code",
   "execution_count": 42,
   "metadata": {},
   "outputs": [
    {
     "data": {
      "text/plain": [
       "1294500"
      ]
     },
     "execution_count": 42,
     "metadata": {},
     "output_type": "execute_result"
    }
   ],
   "source": [
    "#посмотрим максимальную сумму выручки заказа:\n",
    "orders['revenue'].max()"
   ]
  },
  {
   "cell_type": "code",
   "execution_count": 43,
   "metadata": {},
   "outputs": [
    {
     "data": {
      "text/plain": [
       "2955.0"
      ]
     },
     "execution_count": 43,
     "metadata": {},
     "output_type": "execute_result"
    }
   ],
   "source": [
    "orders['revenue'].median()"
   ]
  },
  {
   "cell_type": "code",
   "execution_count": 44,
   "metadata": {},
   "outputs": [
    {
     "data": {
      "text/html": [
       "<div>\n",
       "<style scoped>\n",
       "    .dataframe tbody tr th:only-of-type {\n",
       "        vertical-align: middle;\n",
       "    }\n",
       "\n",
       "    .dataframe tbody tr th {\n",
       "        vertical-align: top;\n",
       "    }\n",
       "\n",
       "    .dataframe thead th {\n",
       "        text-align: right;\n",
       "    }\n",
       "</style>\n",
       "<table border=\"1\" class=\"dataframe\">\n",
       "  <thead>\n",
       "    <tr style=\"text-align: right;\">\n",
       "      <th></th>\n",
       "      <th>transactionId</th>\n",
       "      <th>visitorId</th>\n",
       "      <th>date</th>\n",
       "      <th>revenue</th>\n",
       "      <th>group</th>\n",
       "    </tr>\n",
       "  </thead>\n",
       "  <tbody>\n",
       "    <tr>\n",
       "      <th>425</th>\n",
       "      <td>590470918</td>\n",
       "      <td>1920142716</td>\n",
       "      <td>2019-08-19</td>\n",
       "      <td>1294500</td>\n",
       "      <td>B</td>\n",
       "    </tr>\n",
       "  </tbody>\n",
       "</table>\n",
       "</div>"
      ],
      "text/plain": [
       "     transactionId   visitorId       date  revenue group\n",
       "425      590470918  1920142716 2019-08-19  1294500     B"
      ]
     },
     "execution_count": 44,
     "metadata": {},
     "output_type": "execute_result"
    }
   ],
   "source": [
    "#посмотрим на этот заказ:\n",
    "orders[orders['revenue'] == 1294500]"
   ]
  },
  {
   "cell_type": "code",
   "execution_count": 45,
   "metadata": {},
   "outputs": [
    {
     "data": {
      "text/html": [
       "<div>\n",
       "<style scoped>\n",
       "    .dataframe tbody tr th:only-of-type {\n",
       "        vertical-align: middle;\n",
       "    }\n",
       "\n",
       "    .dataframe tbody tr th {\n",
       "        vertical-align: top;\n",
       "    }\n",
       "\n",
       "    .dataframe thead th {\n",
       "        text-align: right;\n",
       "    }\n",
       "</style>\n",
       "<table border=\"1\" class=\"dataframe\">\n",
       "  <thead>\n",
       "    <tr style=\"text-align: right;\">\n",
       "      <th></th>\n",
       "      <th>transactionId</th>\n",
       "      <th>visitorId</th>\n",
       "      <th>date</th>\n",
       "      <th>revenue</th>\n",
       "      <th>group</th>\n",
       "    </tr>\n",
       "  </thead>\n",
       "  <tbody>\n",
       "    <tr>\n",
       "      <th>425</th>\n",
       "      <td>590470918</td>\n",
       "      <td>1920142716</td>\n",
       "      <td>2019-08-19</td>\n",
       "      <td>1294500</td>\n",
       "      <td>B</td>\n",
       "    </tr>\n",
       "  </tbody>\n",
       "</table>\n",
       "</div>"
      ],
      "text/plain": [
       "     transactionId   visitorId       date  revenue group\n",
       "425      590470918  1920142716 2019-08-19  1294500     B"
      ]
     },
     "execution_count": 45,
     "metadata": {},
     "output_type": "execute_result"
    }
   ],
   "source": [
    "#посмотрим на историю заказов этого покупателя:\n",
    "orders[orders['visitorId'] == 1920142716]"
   ]
  },
  {
   "cell_type": "markdown",
   "metadata": {},
   "source": [
    "Это была единоразовая крупная покупка на сумму 1 294 500, в то время как медианное значение составляет 2 978.\n",
    "Все что за пределами 99 процентиля - является аномальными значениями.\n",
    "Аномалиями по числу заказов являются более 4 заказов, а аномалиями по стоимости заказов единоразовые покупки в размере все, что больше 58 233,2."
   ]
  },
  {
   "cell_type": "code",
   "execution_count": 46,
   "metadata": {},
   "outputs": [],
   "source": [
    "#Посчитайте статистическую значимость различий в среднем количестве заказов на посетителя\n",
    "#между группами по «сырым» данным.\n",
    "visitorsADaily = visitors[visitors['group'] == 'A'][['date', 'visitors']]\n",
    "visitorsADaily.columns = ['date', 'visitorsPerDateA']\n",
    "\n",
    "visitorsACummulative = visitorsADaily.apply(\n",
    "    lambda x: visitorsADaily[visitorsADaily['date'] <= x['date']].agg(\n",
    "        {'date': 'max', 'visitorsPerDateA': 'sum'}\n",
    "    ),\n",
    "    axis=1,\n",
    ")\n",
    "visitorsACummulative.columns = ['date', 'visitorsCummulativeA']\n",
    "\n",
    "visitorsBDaily = visitors[visitors['group'] == 'B'][['date', 'visitors']]\n",
    "visitorsBDaily.columns = ['date', 'visitorsPerDateB']\n",
    "\n",
    "visitorsBCummulative = visitorsBDaily.apply(\n",
    "    lambda x: visitorsBDaily[visitorsBDaily['date'] <= x['date']].agg(\n",
    "        {'date': 'max', 'visitorsPerDateB': 'sum'}\n",
    "    ),\n",
    "    axis=1,\n",
    ")\n",
    "visitorsBCummulative.columns = ['date', 'visitorsCummulativeB']\n",
    "\n",
    "ordersADaily = (\n",
    "    orders[orders['group'] == 'A'][['date', 'transactionId', 'visitorId', 'revenue']]\n",
    "    .groupby('date', as_index=False)\n",
    "    .agg({'transactionId': pd.Series.nunique, 'revenue': 'sum'})\n",
    ")\n",
    "ordersADaily.columns = ['date', 'ordersPerDateA', 'revenuePerDateA']\n",
    "\n",
    "ordersACummulative = ordersADaily.apply(\n",
    "    lambda x: ordersADaily[ordersADaily['date'] <= x['date']].agg(\n",
    "        {'date': 'max', 'ordersPerDateA': 'sum', 'revenuePerDateA': 'sum'}\n",
    "    ),\n",
    "    axis=1,\n",
    ").sort_values(by=['date'])\n",
    "ordersACummulative.columns = [\n",
    "    'date',\n",
    "    'ordersCummulativeA',\n",
    "    'revenueCummulativeA',\n",
    "]\n",
    "\n",
    "ordersBDaily = (\n",
    "    orders[orders['group'] == 'B'][['date', 'transactionId', 'visitorId', 'revenue']]\n",
    "    .groupby('date', as_index=False)\n",
    "    .agg({'transactionId': pd.Series.nunique, 'revenue': 'sum'})\n",
    ")\n",
    "ordersBDaily.columns = ['date', 'ordersPerDateB', 'revenuePerDateB']\n",
    "\n",
    "ordersBCummulative = ordersBDaily.apply(\n",
    "    lambda x: ordersBDaily[ordersBDaily['date'] <= x['date']].agg(\n",
    "        {'date': 'max', 'ordersPerDateB': 'sum', 'revenuePerDateB': 'sum'}\n",
    "    ),\n",
    "    axis=1,\n",
    ").sort_values(by=['date'])\n",
    "ordersBCummulative.columns = [\n",
    "    'date',\n",
    "    'ordersCummulativeB',\n",
    "    'revenueCummulativeB',\n",
    "]\n",
    "\n",
    "data = (\n",
    "    ordersADaily.merge(\n",
    "        ordersBDaily, left_on='date', right_on='date', how='left'\n",
    "    )\n",
    "    .merge(ordersACummulative, left_on='date', right_on='date', how='left')\n",
    "    .merge(ordersBCummulative, left_on='date', right_on='date', how='left')\n",
    "    .merge(visitorsADaily, left_on='date', right_on='date', how='left')\n",
    "    .merge(visitorsBDaily, left_on='date', right_on='date', how='left')\n",
    "    .merge(visitorsACummulative, left_on='date', right_on='date', how='left')\n",
    "    .merge(visitorsBCummulative, left_on='date', right_on='date', how='left')\n",
    ")\n",
    "ordersByUsersA = (\n",
    "    orders[orders['group'] == 'A']\n",
    "    .groupby('visitorId', as_index=False)\n",
    "    .agg({'transactionId': pd.Series.nunique})\n",
    ")\n",
    "ordersByUsersA.columns = ['visitorId', 'orders']\n",
    "\n",
    "ordersByUsersB = (\n",
    "    orders[orders['group'] == 'B']\n",
    "    .groupby('visitorId', as_index=False)\n",
    "    .agg({'transactionId': pd.Series.nunique})\n",
    ")\n",
    "ordersByUsersB.columns = ['visitorId', 'orders']\n",
    "\n",
    "sampleA = pd.concat(\n",
    "    [\n",
    "        ordersByUsersA['orders'],\n",
    "        pd.Series(\n",
    "            0,\n",
    "            index=np.arange(\n",
    "                data['visitorsPerDateA'].sum() - len(ordersByUsersA['orders'])\n",
    "            ),\n",
    "            name='orders',\n",
    "        ),\n",
    "    ],\n",
    "    axis=0,\n",
    ")\n",
    "\n",
    "sampleB = pd.concat(\n",
    "    [\n",
    "        ordersByUsersB['orders'],\n",
    "        pd.Series(\n",
    "            0,\n",
    "            index=np.arange(\n",
    "                data['visitorsPerDateB'].sum() - len(ordersByUsersB['orders'])\n",
    "            ),\n",
    "            name='orders',\n",
    "        ),\n",
    "    ],\n",
    "    axis=0,\n",
    ")"
   ]
  },
  {
   "cell_type": "markdown",
   "metadata": {},
   "source": [
    "<div class=\"alert alert-block alert-info\">\n",
    "\n",
    " Примем P-value = 0,05, так как нет необходимости в высокой точности. Сформулируем Н0 - Конверсии в группах А и Б одинаковые. Н1 - Конверсии в группах А и Б различны.\n",
    "</div>"
   ]
  },
  {
   "cell_type": "code",
   "execution_count": 47,
   "metadata": {},
   "outputs": [
    {
     "name": "stdout",
     "output_type": "stream",
     "text": [
      "0.011\n",
      "p-значение: 0.011\n",
      "Отвергаем нулевую гипотезу\n",
      "Относительный конверсия группы В больше группы А на 15.980%\n"
     ]
    }
   ],
   "source": [
    "alpha = 0.05\n",
    "stat_conver = format(stats.mannwhitneyu(sampleA, sampleB)[1])\n",
    "print('{0:.3f}'.format(stats.mannwhitneyu(sampleA, sampleB)[1]))\n",
    "print('p-значение:', round(float(stat_conver), 3))\n",
    "if float(stat_conver) < alpha:\n",
    "    print(\"Отвергаем нулевую гипотезу\")\n",
    "else:\n",
    "    print(\"Не получилось отвергнуть нулевую гипотезу\")\n",
    "      \n",
    "print('Относительный конверсия группы В больше группы А на {0:.3%}'.format(sampleB.mean() / sampleA.mean() - 1)) "
   ]
  },
  {
   "cell_type": "markdown",
   "metadata": {},
   "source": [
    "<div class=\"alert alert-block alert-info\">\n",
    "\n",
    " Примем P-value = 0,05, так как нет необходимости в высокой точности. Сформулируем Н0 - Размеры средних чеков в группах А и Б одинаковые. Н1 - Размеры средних чеков в группах А и Б различны.\n",
    "</div>"
   ]
  },
  {
   "cell_type": "code",
   "execution_count": 48,
   "metadata": {},
   "outputs": [
    {
     "name": "stdout",
     "output_type": "stream",
     "text": [
      "0.829\n",
      "p-значение: 0.829\n",
      "Не получилось отвергнуть нулевую гипотезу\n",
      "Относительный средний чек группы A меньше группы В на 28.660%\n"
     ]
    }
   ],
   "source": [
    "#Посчитайте статистическую значимость различий в среднем чеке заказа между группами по «сырым» данным\n",
    "alpha = 0.05\n",
    "statavercheck = format(stats.mannwhitneyu(orders[orders['group']=='A']['revenue'], orders[orders['group']=='B']['revenue'])[1])\n",
    "print('{0:.3f}'.format(stats.mannwhitneyu(orders[orders['group']=='A']['revenue'], orders[orders['group']=='B']['revenue'])[1]))\n",
    "print('p-значение:', round(float(statavercheck), 3))\n",
    "if float(statavercheck) < alpha:\n",
    "    print(\"Отвергаем нулевую гипотезу\")\n",
    "else:\n",
    "    print(\"Не получилось отвергнуть нулевую гипотезу\")\n",
    "      \n",
    "print('Относительный средний чек группы A меньше группы В на {0:.3%}'.format(orders[orders['group']=='B']['revenue'].mean()/orders[orders['group']=='A']['revenue'].mean()-1)) "
   ]
  },
  {
   "cell_type": "code",
   "execution_count": 49,
   "metadata": {},
   "outputs": [
    {
     "name": "stdout",
     "output_type": "stream",
     "text": [
      "568     113298937\n",
      "1099    148427295\n",
      "928     204675465\n",
      "33      249864742\n",
      "684     358944393\n",
      "Name: visitorId, dtype: int64\n",
      "(86,)\n"
     ]
    }
   ],
   "source": [
    "#Посчитайте статистическую значимость различий в среднем количестве заказов на посетителя между группами \n",
    "#по «очищенным» данным. \n",
    "norm_orders = 1\n",
    "norm_price = 26785\n",
    "usersWithManyOrders = pd.concat(\n",
    "    [\n",
    "        ordersByUsersA[ordersByUsersA['orders'] > norm_orders]['visitorId'],\n",
    "        ordersByUsersB[ordersByUsersB['orders'] > norm_orders]['visitorId'],\n",
    "    ],\n",
    "    axis=0,\n",
    ")\n",
    "usersWithExpensiveOrders = orders[orders['revenue'] > norm_price]['visitorId']\n",
    "abnormalUsers = (\n",
    "    pd.concat([usersWithManyOrders, usersWithExpensiveOrders], axis=0)\n",
    "    .drop_duplicates()\n",
    "    .sort_values()\n",
    ")\n",
    "print(abnormalUsers.head(5))\n",
    "print(abnormalUsers.shape) "
   ]
  },
  {
   "cell_type": "markdown",
   "metadata": {},
   "source": [
    "86 аномальных пользователя."
   ]
  },
  {
   "cell_type": "code",
   "execution_count": 50,
   "metadata": {},
   "outputs": [],
   "source": [
    "sampleAFiltered = pd.concat(\n",
    "    [\n",
    "        ordersByUsersA[\n",
    "            np.logical_not(ordersByUsersA['visitorId'].isin(abnormalUsers))\n",
    "        ]['orders'],\n",
    "        pd.Series(\n",
    "            0,\n",
    "            index=np.arange(\n",
    "                data['visitorsPerDateA'].sum() - len(ordersByUsersA['orders'])\n",
    "            ),\n",
    "            name='orders',\n",
    "        ),\n",
    "    ],\n",
    "    axis=0,\n",
    ")\n",
    "\n",
    "sampleBFiltered = pd.concat(\n",
    "    [\n",
    "        ordersByUsersB[\n",
    "            np.logical_not(ordersByUsersB['visitorId'].isin(abnormalUsers))\n",
    "        ]['orders'],\n",
    "        pd.Series(\n",
    "            0,\n",
    "            index=np.arange(\n",
    "                data['visitorsPerDateB'].sum() - len(ordersByUsersB['orders'])\n",
    "            ),\n",
    "            name='orders',\n",
    "        ),\n",
    "    ],\n",
    "    axis=0,\n",
    ") "
   ]
  },
  {
   "cell_type": "code",
   "execution_count": 51,
   "metadata": {},
   "outputs": [
    {
     "name": "stdout",
     "output_type": "stream",
     "text": [
      "0.016\n",
      "p-значение: 0.016\n",
      "Отвергаем нулевую гипотезу\n",
      "Относительный конверсия группы В больше группы А на 17.393%\n"
     ]
    }
   ],
   "source": [
    "alpha = 0.05\n",
    "pv3 = format(stats.mannwhitneyu(sampleAFiltered, sampleBFiltered)[1])\n",
    "print('{0:.3f}'.format(stats.mannwhitneyu(sampleAFiltered, sampleBFiltered)[1]))\n",
    "print('p-значение:', round(float(pv3), 3))\n",
    "if float(pv3) < alpha:\n",
    "    print(\"Отвергаем нулевую гипотезу\")\n",
    "else:\n",
    "    print(\"Не получилось отвергнуть нулевую гипотезу\")\n",
    "      \n",
    "print('Относительный конверсия группы В больше группы А на {0:.3%}'.format(sampleBFiltered.mean()/sampleAFiltered.mean()-1)) "
   ]
  },
  {
   "cell_type": "markdown",
   "metadata": {},
   "source": [
    "Н0 - Конверсии в группах А и Б одинаковые. Н1 - Конверсии в группах А и Б различны. P-value значительно меньше 0.05. Отвергнуть нулевую гипотезу, в конверсии есть различия. Конверсия группы В больше группы А на 17,393 %."
   ]
  },
  {
   "cell_type": "code",
   "execution_count": 52,
   "metadata": {},
   "outputs": [
    {
     "name": "stdout",
     "output_type": "stream",
     "text": [
      "0.727\n",
      "-0.034\n"
     ]
    }
   ],
   "source": [
    "#Посчитайте статистическую значимость различий в среднем чеке заказа между группами по «очищенным» данным.\n",
    "print(\n",
    "    '{0:.3f}'.format(\n",
    "        stats.mannwhitneyu(\n",
    "            orders[\n",
    "                np.logical_and(\n",
    "                    orders['group'] == 'A',\n",
    "                    np.logical_not(orders['visitorId'].isin(abnormalUsers)),\n",
    "                )\n",
    "            ]['revenue'],\n",
    "            orders[\n",
    "                np.logical_and(\n",
    "                    orders['group'] == 'B',\n",
    "                    np.logical_not(orders['visitorId'].isin(abnormalUsers)),\n",
    "                )\n",
    "            ]['revenue'],\n",
    "        )[1]\n",
    "    )\n",
    ")\n",
    "\n",
    "print(\n",
    "    \"{0:.3f}\".format(\n",
    "        orders[\n",
    "            np.logical_and(\n",
    "                orders['group'] == 'B',\n",
    "                np.logical_not(orders['visitorId'].isin(abnormalUsers)),\n",
    "            )\n",
    "        ]['revenue'].mean()\n",
    "        / orders[\n",
    "            np.logical_and(\n",
    "                orders['group'] == 'A',\n",
    "                np.logical_not(orders['visitorId'].isin(abnormalUsers)),\n",
    "            )\n",
    "        ]['revenue'].mean()\n",
    "        - 1\n",
    "    )\n",
    ") "
   ]
  },
  {
   "cell_type": "markdown",
   "metadata": {},
   "source": [
    "P-value значительно больше 0.05, не получилось отвергнуть нулевую гипотезу. Средний чек в группе A равен группе B (статистическая значимость не значительна и сделать вывод о различии нельзя).\n",
    "Относительное снижение среднего чека группы В к группе А примерно равен 3%. Изменение по сравнению с прошлыми результатами почти 30%.\n",
    "Подтвердилась та же гипотеза."
   ]
  },
  {
   "cell_type": "markdown",
   "metadata": {},
   "source": [
    "**Решение по результатам теста.**\n",
    "Остановить тест, зафиксировать победу групп В.\n",
    "Конверсия из пользователя в покупателя у группы B статистически значимо выше, чем у группы A. При этом средний чек между группами не отличается.\n",
    "Есть статистически значимые различия по конверсии между группами и по «сырым», и по данным после фильтрации аномалий. Нет статистически значимого различия по среднему чеку между группами ни по «сырым», ни по данным после фильтрации аномалий. График различия конверсии между группами сообщает, что результаты группы B лучше группы A и нет значительной тенденции к ухудшению."
   ]
  },
  {
   "cell_type": "code",
   "execution_count": null,
   "metadata": {},
   "outputs": [],
   "source": []
  }
 ],
 "metadata": {
  "ExecuteTimeLog": [
   {
    "duration": 412,
    "start_time": "2022-12-25T19:33:10.593Z"
   },
   {
    "duration": 68,
    "start_time": "2022-12-25T19:33:11.733Z"
   },
   {
    "duration": 10,
    "start_time": "2022-12-25T19:34:52.304Z"
   },
   {
    "duration": 9,
    "start_time": "2022-12-25T19:36:50.828Z"
   },
   {
    "duration": 11,
    "start_time": "2022-12-25T19:38:16.598Z"
   },
   {
    "duration": 793,
    "start_time": "2022-12-26T14:38:50.679Z"
   },
   {
    "duration": 70,
    "start_time": "2022-12-26T14:38:51.474Z"
   },
   {
    "duration": 15,
    "start_time": "2022-12-26T14:38:51.547Z"
   },
   {
    "duration": 26,
    "start_time": "2022-12-26T14:38:51.565Z"
   },
   {
    "duration": 106,
    "start_time": "2022-12-26T14:40:29.663Z"
   },
   {
    "duration": 61,
    "start_time": "2022-12-26T14:41:36.413Z"
   },
   {
    "duration": 32,
    "start_time": "2022-12-26T14:41:45.571Z"
   },
   {
    "duration": 10,
    "start_time": "2022-12-26T14:44:00.425Z"
   },
   {
    "duration": 374,
    "start_time": "2022-12-26T14:46:16.071Z"
   },
   {
    "duration": 4,
    "start_time": "2022-12-26T14:46:53.565Z"
   },
   {
    "duration": 224,
    "start_time": "2022-12-26T14:49:36.876Z"
   },
   {
    "duration": 670,
    "start_time": "2022-12-26T14:49:46.521Z"
   },
   {
    "duration": 35,
    "start_time": "2022-12-26T14:49:47.193Z"
   },
   {
    "duration": 16,
    "start_time": "2022-12-26T14:49:47.230Z"
   },
   {
    "duration": 16,
    "start_time": "2022-12-26T14:49:47.248Z"
   },
   {
    "duration": 59,
    "start_time": "2022-12-26T14:49:47.265Z"
   },
   {
    "duration": 21,
    "start_time": "2022-12-26T14:49:47.326Z"
   },
   {
    "duration": 8,
    "start_time": "2022-12-26T14:49:47.349Z"
   },
   {
    "duration": 272,
    "start_time": "2022-12-26T14:49:47.358Z"
   },
   {
    "duration": 0,
    "start_time": "2022-12-26T14:49:47.632Z"
   },
   {
    "duration": 650,
    "start_time": "2022-12-26T14:51:57.009Z"
   },
   {
    "duration": 35,
    "start_time": "2022-12-26T14:51:57.661Z"
   },
   {
    "duration": 13,
    "start_time": "2022-12-26T14:51:57.698Z"
   },
   {
    "duration": 11,
    "start_time": "2022-12-26T14:51:57.714Z"
   },
   {
    "duration": 8,
    "start_time": "2022-12-26T14:51:57.736Z"
   },
   {
    "duration": 47,
    "start_time": "2022-12-26T14:51:57.746Z"
   },
   {
    "duration": 21,
    "start_time": "2022-12-26T14:51:57.795Z"
   },
   {
    "duration": 296,
    "start_time": "2022-12-26T14:51:57.818Z"
   },
   {
    "duration": 0,
    "start_time": "2022-12-26T14:51:58.116Z"
   },
   {
    "duration": 64,
    "start_time": "2022-12-26T14:52:20.725Z"
   },
   {
    "duration": 210,
    "start_time": "2022-12-26T14:52:24.213Z"
   },
   {
    "duration": 277,
    "start_time": "2022-12-26T14:53:56.990Z"
   },
   {
    "duration": 602,
    "start_time": "2022-12-26T14:54:04.272Z"
   },
   {
    "duration": 37,
    "start_time": "2022-12-26T14:54:04.876Z"
   },
   {
    "duration": 13,
    "start_time": "2022-12-26T14:54:04.914Z"
   },
   {
    "duration": 35,
    "start_time": "2022-12-26T14:54:04.930Z"
   },
   {
    "duration": 38,
    "start_time": "2022-12-26T14:54:04.968Z"
   },
   {
    "duration": 324,
    "start_time": "2022-12-26T14:54:05.008Z"
   },
   {
    "duration": 55,
    "start_time": "2022-12-26T14:56:45.706Z"
   },
   {
    "duration": 37,
    "start_time": "2022-12-26T14:58:24.871Z"
   },
   {
    "duration": 191,
    "start_time": "2022-12-26T14:59:05.070Z"
   },
   {
    "duration": 211,
    "start_time": "2022-12-26T15:00:27.184Z"
   },
   {
    "duration": 44,
    "start_time": "2022-12-26T15:01:34.635Z"
   },
   {
    "duration": 48,
    "start_time": "2022-12-26T15:01:48.240Z"
   },
   {
    "duration": 250,
    "start_time": "2022-12-26T15:03:03.919Z"
   },
   {
    "duration": 205,
    "start_time": "2022-12-26T15:03:34.825Z"
   },
   {
    "duration": 187,
    "start_time": "2022-12-26T15:04:10.914Z"
   },
   {
    "duration": 14,
    "start_time": "2022-12-26T15:04:29.385Z"
   },
   {
    "duration": 5,
    "start_time": "2022-12-26T15:04:49.475Z"
   },
   {
    "duration": 7,
    "start_time": "2022-12-26T15:05:22.555Z"
   },
   {
    "duration": 26,
    "start_time": "2022-12-26T15:05:54.699Z"
   },
   {
    "duration": 153,
    "start_time": "2022-12-26T15:09:52.728Z"
   },
   {
    "duration": 133,
    "start_time": "2022-12-26T15:10:26.836Z"
   },
   {
    "duration": 7,
    "start_time": "2022-12-26T15:10:52.102Z"
   },
   {
    "duration": 3,
    "start_time": "2022-12-26T15:11:51.496Z"
   },
   {
    "duration": 261,
    "start_time": "2022-12-26T15:11:54.065Z"
   },
   {
    "duration": 179,
    "start_time": "2022-12-26T15:18:14.968Z"
   },
   {
    "duration": 251,
    "start_time": "2022-12-26T15:24:47.467Z"
   },
   {
    "duration": 244,
    "start_time": "2022-12-26T15:33:18.064Z"
   },
   {
    "duration": 167,
    "start_time": "2022-12-26T15:37:04.634Z"
   },
   {
    "duration": 172,
    "start_time": "2022-12-26T15:37:16.121Z"
   },
   {
    "duration": 185,
    "start_time": "2022-12-26T15:43:18.742Z"
   },
   {
    "duration": 336,
    "start_time": "2022-12-26T15:46:36.505Z"
   },
   {
    "duration": 9,
    "start_time": "2022-12-26T16:01:32.237Z"
   },
   {
    "duration": 5,
    "start_time": "2022-12-26T16:10:57.792Z"
   },
   {
    "duration": 738,
    "start_time": "2022-12-26T16:11:53.801Z"
   },
   {
    "duration": 7,
    "start_time": "2022-12-26T16:12:33.643Z"
   },
   {
    "duration": 11,
    "start_time": "2022-12-26T16:28:58.998Z"
   },
   {
    "duration": 122,
    "start_time": "2022-12-26T16:33:13.141Z"
   },
   {
    "duration": 5,
    "start_time": "2022-12-26T16:35:47.938Z"
   },
   {
    "duration": 5,
    "start_time": "2022-12-26T16:37:03.920Z"
   },
   {
    "duration": 4,
    "start_time": "2022-12-26T16:38:27.714Z"
   },
   {
    "duration": 6,
    "start_time": "2022-12-26T16:38:56.305Z"
   },
   {
    "duration": 4,
    "start_time": "2022-12-26T16:39:02.429Z"
   },
   {
    "duration": 150,
    "start_time": "2022-12-26T16:42:07.942Z"
   },
   {
    "duration": 5,
    "start_time": "2022-12-26T16:44:46.287Z"
   },
   {
    "duration": 4,
    "start_time": "2022-12-26T16:45:10.579Z"
   },
   {
    "duration": 5,
    "start_time": "2022-12-26T16:47:58.315Z"
   },
   {
    "duration": 8,
    "start_time": "2022-12-26T16:48:31.317Z"
   },
   {
    "duration": 8,
    "start_time": "2022-12-26T16:49:46.878Z"
   },
   {
    "duration": 7,
    "start_time": "2022-12-26T16:50:26.934Z"
   },
   {
    "duration": 10,
    "start_time": "2022-12-26T16:50:56.870Z"
   },
   {
    "duration": 228,
    "start_time": "2022-12-26T16:57:19.729Z"
   },
   {
    "duration": 101,
    "start_time": "2022-12-26T16:58:28.083Z"
   },
   {
    "duration": 16,
    "start_time": "2022-12-26T16:58:32.890Z"
   },
   {
    "duration": 114,
    "start_time": "2022-12-26T17:00:43.903Z"
   },
   {
    "duration": 107,
    "start_time": "2022-12-26T17:01:06.241Z"
   },
   {
    "duration": 205,
    "start_time": "2022-12-26T17:01:59.665Z"
   },
   {
    "duration": 208,
    "start_time": "2022-12-26T17:02:57.138Z"
   },
   {
    "duration": 143,
    "start_time": "2022-12-26T17:05:09.221Z"
   },
   {
    "duration": 10,
    "start_time": "2022-12-26T17:06:45.656Z"
   },
   {
    "duration": 491,
    "start_time": "2022-12-26T17:09:25.344Z"
   },
   {
    "duration": 16,
    "start_time": "2022-12-26T17:09:29.941Z"
   },
   {
    "duration": 156,
    "start_time": "2022-12-26T17:18:21.522Z"
   },
   {
    "duration": 50,
    "start_time": "2022-12-26T17:18:38.549Z"
   },
   {
    "duration": 11,
    "start_time": "2022-12-26T17:21:20.773Z"
   },
   {
    "duration": 9,
    "start_time": "2022-12-26T17:23:02.089Z"
   },
   {
    "duration": 45,
    "start_time": "2022-12-26T17:23:17.185Z"
   },
   {
    "duration": 13,
    "start_time": "2022-12-26T17:26:04.045Z"
   },
   {
    "duration": 1436,
    "start_time": "2022-12-26T19:32:24.584Z"
   },
   {
    "duration": 78,
    "start_time": "2022-12-26T19:32:26.022Z"
   },
   {
    "duration": 15,
    "start_time": "2022-12-26T19:32:26.102Z"
   },
   {
    "duration": 11,
    "start_time": "2022-12-26T19:32:26.119Z"
   },
   {
    "duration": 21,
    "start_time": "2022-12-26T19:32:26.133Z"
   },
   {
    "duration": 94,
    "start_time": "2022-12-26T19:32:26.156Z"
   },
   {
    "duration": 17,
    "start_time": "2022-12-26T19:32:26.253Z"
   },
   {
    "duration": 71,
    "start_time": "2022-12-26T19:32:26.272Z"
   },
   {
    "duration": 5,
    "start_time": "2022-12-26T19:32:26.345Z"
   },
   {
    "duration": 14,
    "start_time": "2022-12-26T19:32:26.352Z"
   },
   {
    "duration": 179,
    "start_time": "2022-12-26T19:32:26.368Z"
   },
   {
    "duration": 165,
    "start_time": "2022-12-26T19:32:26.550Z"
   },
   {
    "duration": 8,
    "start_time": "2022-12-26T19:32:26.717Z"
   },
   {
    "duration": 8,
    "start_time": "2022-12-26T19:32:26.728Z"
   },
   {
    "duration": 270,
    "start_time": "2022-12-26T19:32:26.738Z"
   },
   {
    "duration": 196,
    "start_time": "2022-12-26T19:32:27.010Z"
   },
   {
    "duration": 354,
    "start_time": "2022-12-26T19:32:27.208Z"
   },
   {
    "duration": 231,
    "start_time": "2022-12-26T19:32:27.564Z"
   },
   {
    "duration": 317,
    "start_time": "2022-12-26T19:32:27.797Z"
   },
   {
    "duration": 134,
    "start_time": "2022-12-26T19:32:28.120Z"
   },
   {
    "duration": 5,
    "start_time": "2022-12-26T19:32:28.256Z"
   },
   {
    "duration": 15,
    "start_time": "2022-12-26T19:32:28.262Z"
   },
   {
    "duration": 6,
    "start_time": "2022-12-26T19:32:28.279Z"
   },
   {
    "duration": 6,
    "start_time": "2022-12-26T19:32:28.286Z"
   },
   {
    "duration": 213,
    "start_time": "2022-12-26T19:32:28.293Z"
   },
   {
    "duration": 14,
    "start_time": "2022-12-26T19:32:28.508Z"
   },
   {
    "duration": 12,
    "start_time": "2022-12-26T19:32:28.524Z"
   },
   {
    "duration": 10,
    "start_time": "2022-12-26T19:32:28.538Z"
   },
   {
    "duration": 20,
    "start_time": "2022-12-26T19:32:28.550Z"
   },
   {
    "duration": 15,
    "start_time": "2022-12-26T19:32:28.572Z"
   },
   {
    "duration": 1055,
    "start_time": "2022-12-26T19:32:28.589Z"
   },
   {
    "duration": 0,
    "start_time": "2022-12-26T19:32:29.646Z"
   },
   {
    "duration": 0,
    "start_time": "2022-12-26T19:32:29.648Z"
   },
   {
    "duration": 0,
    "start_time": "2022-12-26T19:32:29.649Z"
   },
   {
    "duration": 0,
    "start_time": "2022-12-26T19:32:29.651Z"
   },
   {
    "duration": 0,
    "start_time": "2022-12-26T19:32:29.653Z"
   },
   {
    "duration": 0,
    "start_time": "2022-12-26T19:32:29.654Z"
   },
   {
    "duration": 0,
    "start_time": "2022-12-26T19:32:29.656Z"
   },
   {
    "duration": 0,
    "start_time": "2022-12-26T19:32:29.657Z"
   },
   {
    "duration": 52,
    "start_time": "2022-12-27T19:35:55.709Z"
   },
   {
    "duration": 6,
    "start_time": "2022-12-27T19:36:23.808Z"
   },
   {
    "duration": 6,
    "start_time": "2022-12-27T19:36:45.105Z"
   },
   {
    "duration": 1378,
    "start_time": "2022-12-27T19:37:03.609Z"
   },
   {
    "duration": 76,
    "start_time": "2022-12-27T19:37:04.990Z"
   },
   {
    "duration": 16,
    "start_time": "2022-12-27T19:37:05.067Z"
   },
   {
    "duration": 12,
    "start_time": "2022-12-27T19:37:05.085Z"
   },
   {
    "duration": 14,
    "start_time": "2022-12-27T19:37:05.099Z"
   },
   {
    "duration": 87,
    "start_time": "2022-12-27T19:37:05.115Z"
   },
   {
    "duration": 11,
    "start_time": "2022-12-27T19:37:05.204Z"
   },
   {
    "duration": 74,
    "start_time": "2022-12-27T19:37:05.217Z"
   },
   {
    "duration": 4,
    "start_time": "2022-12-27T19:37:05.293Z"
   },
   {
    "duration": 12,
    "start_time": "2022-12-27T19:37:05.299Z"
   },
   {
    "duration": 170,
    "start_time": "2022-12-27T19:37:05.313Z"
   },
   {
    "duration": 122,
    "start_time": "2022-12-27T19:37:05.484Z"
   },
   {
    "duration": 16,
    "start_time": "2022-12-27T19:37:05.608Z"
   },
   {
    "duration": 15,
    "start_time": "2022-12-27T19:37:05.625Z"
   },
   {
    "duration": 287,
    "start_time": "2022-12-27T19:37:05.642Z"
   },
   {
    "duration": 196,
    "start_time": "2022-12-27T19:37:05.931Z"
   },
   {
    "duration": 313,
    "start_time": "2022-12-27T19:37:06.128Z"
   },
   {
    "duration": 174,
    "start_time": "2022-12-27T19:37:06.443Z"
   },
   {
    "duration": 293,
    "start_time": "2022-12-27T19:37:06.618Z"
   },
   {
    "duration": 122,
    "start_time": "2022-12-27T19:37:06.913Z"
   },
   {
    "duration": 4,
    "start_time": "2022-12-27T19:37:07.037Z"
   },
   {
    "duration": 9,
    "start_time": "2022-12-27T19:37:07.043Z"
   },
   {
    "duration": 13,
    "start_time": "2022-12-27T19:37:07.053Z"
   },
   {
    "duration": 17,
    "start_time": "2022-12-27T19:37:07.067Z"
   },
   {
    "duration": 135,
    "start_time": "2022-12-27T19:37:07.085Z"
   },
   {
    "duration": 4,
    "start_time": "2022-12-27T19:37:07.221Z"
   },
   {
    "duration": 8,
    "start_time": "2022-12-27T19:37:07.227Z"
   },
   {
    "duration": 19,
    "start_time": "2022-12-27T19:37:07.238Z"
   },
   {
    "duration": 18,
    "start_time": "2022-12-27T19:37:07.258Z"
   },
   {
    "duration": 17,
    "start_time": "2022-12-27T19:37:07.278Z"
   },
   {
    "duration": 1360,
    "start_time": "2022-12-27T19:37:07.297Z"
   },
   {
    "duration": 0,
    "start_time": "2022-12-27T19:37:08.658Z"
   },
   {
    "duration": 0,
    "start_time": "2022-12-27T19:37:08.659Z"
   },
   {
    "duration": 0,
    "start_time": "2022-12-27T19:37:08.660Z"
   },
   {
    "duration": 0,
    "start_time": "2022-12-27T19:37:08.661Z"
   },
   {
    "duration": 0,
    "start_time": "2022-12-27T19:37:08.662Z"
   },
   {
    "duration": 0,
    "start_time": "2022-12-27T19:37:08.663Z"
   },
   {
    "duration": 0,
    "start_time": "2022-12-27T19:37:08.664Z"
   },
   {
    "duration": 0,
    "start_time": "2022-12-27T19:37:08.665Z"
   },
   {
    "duration": 35,
    "start_time": "2022-12-27T19:38:13.510Z"
   },
   {
    "duration": 33,
    "start_time": "2022-12-27T19:38:29.239Z"
   },
   {
    "duration": 28,
    "start_time": "2022-12-27T19:38:48.846Z"
   },
   {
    "duration": 32,
    "start_time": "2022-12-27T19:38:55.564Z"
   },
   {
    "duration": 1277,
    "start_time": "2022-12-28T17:37:35.822Z"
   },
   {
    "duration": 78,
    "start_time": "2022-12-28T17:37:37.102Z"
   },
   {
    "duration": 87,
    "start_time": "2022-12-28T17:37:37.182Z"
   },
   {
    "duration": 0,
    "start_time": "2022-12-28T17:37:37.271Z"
   },
   {
    "duration": 0,
    "start_time": "2022-12-28T17:37:37.272Z"
   },
   {
    "duration": 0,
    "start_time": "2022-12-28T17:37:37.273Z"
   },
   {
    "duration": 0,
    "start_time": "2022-12-28T17:37:37.274Z"
   },
   {
    "duration": 0,
    "start_time": "2022-12-28T17:37:37.275Z"
   },
   {
    "duration": 0,
    "start_time": "2022-12-28T17:37:37.276Z"
   },
   {
    "duration": 0,
    "start_time": "2022-12-28T17:37:37.277Z"
   },
   {
    "duration": 0,
    "start_time": "2022-12-28T17:37:37.278Z"
   },
   {
    "duration": 0,
    "start_time": "2022-12-28T17:37:37.279Z"
   },
   {
    "duration": 0,
    "start_time": "2022-12-28T17:37:37.280Z"
   },
   {
    "duration": 0,
    "start_time": "2022-12-28T17:37:37.281Z"
   },
   {
    "duration": 0,
    "start_time": "2022-12-28T17:37:37.282Z"
   },
   {
    "duration": 0,
    "start_time": "2022-12-28T17:37:37.283Z"
   },
   {
    "duration": 0,
    "start_time": "2022-12-28T17:37:37.284Z"
   },
   {
    "duration": 0,
    "start_time": "2022-12-28T17:37:37.285Z"
   },
   {
    "duration": 0,
    "start_time": "2022-12-28T17:37:37.286Z"
   },
   {
    "duration": 0,
    "start_time": "2022-12-28T17:37:37.287Z"
   },
   {
    "duration": 0,
    "start_time": "2022-12-28T17:37:37.288Z"
   },
   {
    "duration": 0,
    "start_time": "2022-12-28T17:37:37.324Z"
   },
   {
    "duration": 0,
    "start_time": "2022-12-28T17:37:37.326Z"
   },
   {
    "duration": 0,
    "start_time": "2022-12-28T17:37:37.327Z"
   },
   {
    "duration": 0,
    "start_time": "2022-12-28T17:37:37.329Z"
   },
   {
    "duration": 1,
    "start_time": "2022-12-28T17:37:37.330Z"
   },
   {
    "duration": 0,
    "start_time": "2022-12-28T17:37:37.332Z"
   },
   {
    "duration": 0,
    "start_time": "2022-12-28T17:37:37.334Z"
   },
   {
    "duration": 0,
    "start_time": "2022-12-28T17:37:37.335Z"
   },
   {
    "duration": 0,
    "start_time": "2022-12-28T17:37:37.336Z"
   },
   {
    "duration": 0,
    "start_time": "2022-12-28T17:37:37.337Z"
   },
   {
    "duration": 0,
    "start_time": "2022-12-28T17:37:37.339Z"
   },
   {
    "duration": 0,
    "start_time": "2022-12-28T17:37:37.340Z"
   },
   {
    "duration": 0,
    "start_time": "2022-12-28T17:37:37.341Z"
   },
   {
    "duration": 0,
    "start_time": "2022-12-28T17:37:37.342Z"
   },
   {
    "duration": 0,
    "start_time": "2022-12-28T17:37:37.344Z"
   },
   {
    "duration": 0,
    "start_time": "2022-12-28T17:37:37.345Z"
   },
   {
    "duration": 0,
    "start_time": "2022-12-28T17:37:37.347Z"
   },
   {
    "duration": 0,
    "start_time": "2022-12-28T17:37:37.349Z"
   },
   {
    "duration": 0,
    "start_time": "2022-12-28T17:37:37.350Z"
   },
   {
    "duration": 14,
    "start_time": "2022-12-28T17:38:38.718Z"
   },
   {
    "duration": 9,
    "start_time": "2022-12-28T17:43:16.628Z"
   },
   {
    "duration": 6,
    "start_time": "2022-12-28T17:43:27.351Z"
   },
   {
    "duration": 1169,
    "start_time": "2022-12-28T17:47:59.204Z"
   },
   {
    "duration": 40,
    "start_time": "2022-12-28T17:48:00.375Z"
   },
   {
    "duration": 14,
    "start_time": "2022-12-28T17:48:00.417Z"
   },
   {
    "duration": 50,
    "start_time": "2022-12-28T17:48:00.434Z"
   },
   {
    "duration": 36,
    "start_time": "2022-12-28T17:48:00.486Z"
   },
   {
    "duration": 27,
    "start_time": "2022-12-28T17:48:00.524Z"
   },
   {
    "duration": 34,
    "start_time": "2022-12-28T17:48:00.553Z"
   },
   {
    "duration": 91,
    "start_time": "2022-12-28T17:48:00.589Z"
   },
   {
    "duration": 12,
    "start_time": "2022-12-28T17:48:00.683Z"
   },
   {
    "duration": 75,
    "start_time": "2022-12-28T17:48:00.698Z"
   },
   {
    "duration": 5,
    "start_time": "2022-12-28T17:48:00.775Z"
   },
   {
    "duration": 28,
    "start_time": "2022-12-28T17:48:00.782Z"
   },
   {
    "duration": 180,
    "start_time": "2022-12-28T17:48:00.812Z"
   },
   {
    "duration": 135,
    "start_time": "2022-12-28T17:48:00.994Z"
   },
   {
    "duration": 7,
    "start_time": "2022-12-28T17:48:01.131Z"
   },
   {
    "duration": 30,
    "start_time": "2022-12-28T17:48:01.140Z"
   },
   {
    "duration": 266,
    "start_time": "2022-12-28T17:48:01.171Z"
   },
   {
    "duration": 176,
    "start_time": "2022-12-28T17:48:01.439Z"
   },
   {
    "duration": 280,
    "start_time": "2022-12-28T17:48:01.617Z"
   },
   {
    "duration": 183,
    "start_time": "2022-12-28T17:48:01.899Z"
   },
   {
    "duration": 318,
    "start_time": "2022-12-28T17:48:02.084Z"
   },
   {
    "duration": 131,
    "start_time": "2022-12-28T17:48:02.404Z"
   },
   {
    "duration": 6,
    "start_time": "2022-12-28T17:48:02.537Z"
   },
   {
    "duration": 8,
    "start_time": "2022-12-28T17:48:02.545Z"
   },
   {
    "duration": 14,
    "start_time": "2022-12-28T17:48:02.554Z"
   },
   {
    "duration": 16,
    "start_time": "2022-12-28T17:48:02.570Z"
   },
   {
    "duration": 148,
    "start_time": "2022-12-28T17:48:02.588Z"
   },
   {
    "duration": 6,
    "start_time": "2022-12-28T17:48:02.740Z"
   },
   {
    "duration": 8,
    "start_time": "2022-12-28T17:48:02.748Z"
   },
   {
    "duration": 10,
    "start_time": "2022-12-28T17:48:02.757Z"
   },
   {
    "duration": 11,
    "start_time": "2022-12-28T17:48:02.768Z"
   },
   {
    "duration": 10,
    "start_time": "2022-12-28T17:48:02.781Z"
   },
   {
    "duration": 1409,
    "start_time": "2022-12-28T17:48:02.792Z"
   },
   {
    "duration": 0,
    "start_time": "2022-12-28T17:48:04.203Z"
   },
   {
    "duration": 0,
    "start_time": "2022-12-28T17:48:04.204Z"
   },
   {
    "duration": 0,
    "start_time": "2022-12-28T17:48:04.205Z"
   },
   {
    "duration": 1,
    "start_time": "2022-12-28T17:48:04.206Z"
   },
   {
    "duration": 0,
    "start_time": "2022-12-28T17:48:04.208Z"
   },
   {
    "duration": 0,
    "start_time": "2022-12-28T17:48:04.209Z"
   },
   {
    "duration": 0,
    "start_time": "2022-12-28T17:48:04.210Z"
   },
   {
    "duration": 0,
    "start_time": "2022-12-28T17:48:04.211Z"
   },
   {
    "duration": 88,
    "start_time": "2022-12-28T17:56:43.350Z"
   },
   {
    "duration": 11,
    "start_time": "2022-12-28T18:00:06.144Z"
   },
   {
    "duration": 7,
    "start_time": "2022-12-28T18:00:32.345Z"
   },
   {
    "duration": 6,
    "start_time": "2022-12-28T18:01:09.939Z"
   },
   {
    "duration": 67,
    "start_time": "2022-12-28T18:02:07.677Z"
   },
   {
    "duration": 8,
    "start_time": "2022-12-28T18:04:55.795Z"
   },
   {
    "duration": 8,
    "start_time": "2022-12-28T18:05:32.591Z"
   },
   {
    "duration": 17,
    "start_time": "2022-12-28T18:05:54.853Z"
   },
   {
    "duration": 12,
    "start_time": "2022-12-28T18:06:38.621Z"
   },
   {
    "duration": 9,
    "start_time": "2022-12-28T18:08:15.630Z"
   },
   {
    "duration": 10,
    "start_time": "2022-12-28T18:08:37.244Z"
   },
   {
    "duration": 6,
    "start_time": "2022-12-28T18:10:32.060Z"
   },
   {
    "duration": 6,
    "start_time": "2022-12-28T18:12:35.577Z"
   },
   {
    "duration": 7,
    "start_time": "2022-12-28T18:16:24.831Z"
   },
   {
    "duration": 2499,
    "start_time": "2022-12-28T18:23:53.586Z"
   },
   {
    "duration": 16,
    "start_time": "2022-12-28T18:25:30.459Z"
   },
   {
    "duration": 17,
    "start_time": "2022-12-28T18:32:07.910Z"
   },
   {
    "duration": 200,
    "start_time": "2022-12-28T18:39:51.635Z"
   },
   {
    "duration": 356,
    "start_time": "2022-12-28T18:41:24.576Z"
   },
   {
    "duration": 181,
    "start_time": "2022-12-28T18:41:52.698Z"
   },
   {
    "duration": 266,
    "start_time": "2022-12-28T18:43:37.350Z"
   },
   {
    "duration": 278,
    "start_time": "2022-12-28T18:45:33.035Z"
   },
   {
    "duration": 299,
    "start_time": "2022-12-28T18:45:54.076Z"
   },
   {
    "duration": 150,
    "start_time": "2022-12-28T18:48:18.942Z"
   },
   {
    "duration": 142,
    "start_time": "2022-12-28T18:49:59.940Z"
   },
   {
    "duration": 293,
    "start_time": "2022-12-28T18:50:45.444Z"
   },
   {
    "duration": 89,
    "start_time": "2022-12-28T18:51:26.148Z"
   },
   {
    "duration": 313,
    "start_time": "2022-12-28T18:51:40.295Z"
   },
   {
    "duration": 145,
    "start_time": "2022-12-28T18:53:35.890Z"
   },
   {
    "duration": 239,
    "start_time": "2022-12-28T18:54:12.049Z"
   },
   {
    "duration": 127,
    "start_time": "2022-12-28T18:55:06.754Z"
   },
   {
    "duration": 126,
    "start_time": "2022-12-28T18:55:16.771Z"
   },
   {
    "duration": 134,
    "start_time": "2022-12-28T18:55:38.612Z"
   },
   {
    "duration": 133,
    "start_time": "2022-12-28T18:56:15.014Z"
   },
   {
    "duration": 130,
    "start_time": "2022-12-28T18:56:31.298Z"
   },
   {
    "duration": 148,
    "start_time": "2022-12-28T18:58:19.956Z"
   },
   {
    "duration": 140,
    "start_time": "2022-12-28T18:58:41.126Z"
   },
   {
    "duration": 162,
    "start_time": "2022-12-28T18:59:34.642Z"
   },
   {
    "duration": 102,
    "start_time": "2022-12-28T19:10:06.653Z"
   },
   {
    "duration": 430,
    "start_time": "2022-12-28T19:12:28.560Z"
   },
   {
    "duration": 1104,
    "start_time": "2022-12-28T19:12:51.394Z"
   },
   {
    "duration": 35,
    "start_time": "2022-12-28T19:12:52.500Z"
   },
   {
    "duration": 14,
    "start_time": "2022-12-28T19:12:52.536Z"
   },
   {
    "duration": 17,
    "start_time": "2022-12-28T19:12:52.552Z"
   },
   {
    "duration": 15,
    "start_time": "2022-12-28T19:12:52.571Z"
   },
   {
    "duration": 10,
    "start_time": "2022-12-28T19:12:52.588Z"
   },
   {
    "duration": 19,
    "start_time": "2022-12-28T19:12:52.600Z"
   },
   {
    "duration": 45,
    "start_time": "2022-12-28T19:12:52.621Z"
   },
   {
    "duration": 11,
    "start_time": "2022-12-28T19:12:52.667Z"
   },
   {
    "duration": 21,
    "start_time": "2022-12-28T19:12:52.680Z"
   },
   {
    "duration": 24,
    "start_time": "2022-12-28T19:12:52.703Z"
   },
   {
    "duration": 14,
    "start_time": "2022-12-28T19:12:52.728Z"
   },
   {
    "duration": 17,
    "start_time": "2022-12-28T19:12:52.744Z"
   },
   {
    "duration": 18,
    "start_time": "2022-12-28T19:12:52.763Z"
   },
   {
    "duration": 61,
    "start_time": "2022-12-28T19:12:52.782Z"
   },
   {
    "duration": 15,
    "start_time": "2022-12-28T19:12:52.845Z"
   },
   {
    "duration": 21,
    "start_time": "2022-12-28T19:12:52.862Z"
   },
   {
    "duration": 26,
    "start_time": "2022-12-28T19:12:52.885Z"
   },
   {
    "duration": 13,
    "start_time": "2022-12-28T19:12:52.912Z"
   },
   {
    "duration": 22,
    "start_time": "2022-12-28T19:12:52.927Z"
   },
   {
    "duration": 17,
    "start_time": "2022-12-28T19:12:52.952Z"
   },
   {
    "duration": 20,
    "start_time": "2022-12-28T19:12:52.971Z"
   },
   {
    "duration": 126,
    "start_time": "2022-12-28T19:12:52.993Z"
   },
   {
    "duration": 7,
    "start_time": "2022-12-28T19:12:53.121Z"
   },
   {
    "duration": 172,
    "start_time": "2022-12-28T19:12:53.130Z"
   },
   {
    "duration": 136,
    "start_time": "2022-12-28T19:12:53.304Z"
   },
   {
    "duration": 7,
    "start_time": "2022-12-28T19:12:53.442Z"
   },
   {
    "duration": 12,
    "start_time": "2022-12-28T19:12:53.453Z"
   },
   {
    "duration": 275,
    "start_time": "2022-12-28T19:12:53.467Z"
   },
   {
    "duration": 213,
    "start_time": "2022-12-28T19:12:53.744Z"
   },
   {
    "duration": 267,
    "start_time": "2022-12-28T19:12:53.959Z"
   },
   {
    "duration": 189,
    "start_time": "2022-12-28T19:12:54.228Z"
   },
   {
    "duration": 319,
    "start_time": "2022-12-28T19:12:54.419Z"
   },
   {
    "duration": 145,
    "start_time": "2022-12-28T19:12:54.743Z"
   },
   {
    "duration": 13,
    "start_time": "2022-12-28T19:12:54.889Z"
   },
   {
    "duration": 14,
    "start_time": "2022-12-28T19:12:54.903Z"
   },
   {
    "duration": 27,
    "start_time": "2022-12-28T19:12:54.919Z"
   },
   {
    "duration": 37,
    "start_time": "2022-12-28T19:12:54.948Z"
   },
   {
    "duration": 154,
    "start_time": "2022-12-28T19:12:54.987Z"
   },
   {
    "duration": 149,
    "start_time": "2022-12-28T19:12:55.143Z"
   },
   {
    "duration": 5,
    "start_time": "2022-12-28T19:12:55.293Z"
   },
   {
    "duration": 49,
    "start_time": "2022-12-28T19:12:55.300Z"
   },
   {
    "duration": 19,
    "start_time": "2022-12-28T19:12:55.351Z"
   },
   {
    "duration": 22,
    "start_time": "2022-12-28T19:12:55.373Z"
   },
   {
    "duration": 46,
    "start_time": "2022-12-28T19:12:55.397Z"
   },
   {
    "duration": 398,
    "start_time": "2022-12-28T19:12:55.446Z"
   },
   {
    "duration": 37,
    "start_time": "2022-12-28T19:12:55.846Z"
   },
   {
    "duration": 269,
    "start_time": "2022-12-28T19:12:55.885Z"
   },
   {
    "duration": 142,
    "start_time": "2022-12-28T19:12:56.155Z"
   },
   {
    "duration": 0,
    "start_time": "2022-12-28T19:12:56.300Z"
   },
   {
    "duration": 0,
    "start_time": "2022-12-28T19:12:56.302Z"
   },
   {
    "duration": 0,
    "start_time": "2022-12-28T19:12:56.303Z"
   },
   {
    "duration": 0,
    "start_time": "2022-12-28T19:12:56.314Z"
   },
   {
    "duration": 0,
    "start_time": "2022-12-28T19:12:56.315Z"
   },
   {
    "duration": 1069,
    "start_time": "2022-12-28T19:19:45.389Z"
   },
   {
    "duration": 37,
    "start_time": "2022-12-28T19:19:46.460Z"
   },
   {
    "duration": 11,
    "start_time": "2022-12-28T19:19:46.498Z"
   },
   {
    "duration": 12,
    "start_time": "2022-12-28T19:19:46.511Z"
   },
   {
    "duration": 13,
    "start_time": "2022-12-28T19:19:46.525Z"
   },
   {
    "duration": 10,
    "start_time": "2022-12-28T19:19:46.539Z"
   },
   {
    "duration": 10,
    "start_time": "2022-12-28T19:19:46.551Z"
   },
   {
    "duration": 48,
    "start_time": "2022-12-28T19:19:46.563Z"
   },
   {
    "duration": 9,
    "start_time": "2022-12-28T19:19:46.613Z"
   },
   {
    "duration": 7,
    "start_time": "2022-12-28T19:19:46.625Z"
   },
   {
    "duration": 27,
    "start_time": "2022-12-28T19:19:46.634Z"
   },
   {
    "duration": 16,
    "start_time": "2022-12-28T19:19:46.663Z"
   },
   {
    "duration": 16,
    "start_time": "2022-12-28T19:19:46.681Z"
   },
   {
    "duration": 18,
    "start_time": "2022-12-28T19:19:46.699Z"
   },
   {
    "duration": 22,
    "start_time": "2022-12-28T19:19:46.718Z"
   },
   {
    "duration": 11,
    "start_time": "2022-12-28T19:19:46.743Z"
   },
   {
    "duration": 9,
    "start_time": "2022-12-28T19:19:46.757Z"
   },
   {
    "duration": 19,
    "start_time": "2022-12-28T19:19:46.768Z"
   },
   {
    "duration": 10,
    "start_time": "2022-12-28T19:19:46.789Z"
   },
   {
    "duration": 9,
    "start_time": "2022-12-28T19:19:46.813Z"
   },
   {
    "duration": 8,
    "start_time": "2022-12-28T19:19:46.824Z"
   },
   {
    "duration": 14,
    "start_time": "2022-12-28T19:19:46.834Z"
   },
   {
    "duration": 140,
    "start_time": "2022-12-28T19:19:46.850Z"
   },
   {
    "duration": 6,
    "start_time": "2022-12-28T19:19:46.992Z"
   },
   {
    "duration": 171,
    "start_time": "2022-12-28T19:19:47.000Z"
   },
   {
    "duration": 119,
    "start_time": "2022-12-28T19:19:47.172Z"
   },
   {
    "duration": 7,
    "start_time": "2022-12-28T19:19:47.292Z"
   },
   {
    "duration": 4,
    "start_time": "2022-12-28T19:19:47.312Z"
   },
   {
    "duration": 251,
    "start_time": "2022-12-28T19:19:47.318Z"
   },
   {
    "duration": 199,
    "start_time": "2022-12-28T19:19:47.570Z"
   },
   {
    "duration": 277,
    "start_time": "2022-12-28T19:19:47.771Z"
   },
   {
    "duration": 194,
    "start_time": "2022-12-28T19:19:48.049Z"
   },
   {
    "duration": 293,
    "start_time": "2022-12-28T19:19:48.245Z"
   },
   {
    "duration": 190,
    "start_time": "2022-12-28T19:19:48.540Z"
   },
   {
    "duration": 4,
    "start_time": "2022-12-28T19:19:48.732Z"
   },
   {
    "duration": 8,
    "start_time": "2022-12-28T19:19:48.737Z"
   },
   {
    "duration": 8,
    "start_time": "2022-12-28T19:19:48.746Z"
   },
   {
    "duration": 8,
    "start_time": "2022-12-28T19:19:48.755Z"
   },
   {
    "duration": 166,
    "start_time": "2022-12-28T19:19:48.764Z"
   },
   {
    "duration": 223,
    "start_time": "2022-12-28T19:19:48.932Z"
   },
   {
    "duration": 7,
    "start_time": "2022-12-28T19:19:49.156Z"
   },
   {
    "duration": 12,
    "start_time": "2022-12-28T19:19:49.165Z"
   },
   {
    "duration": 14,
    "start_time": "2022-12-28T19:19:49.179Z"
   },
   {
    "duration": 22,
    "start_time": "2022-12-28T19:19:49.195Z"
   },
   {
    "duration": 8,
    "start_time": "2022-12-28T19:19:49.219Z"
   },
   {
    "duration": 405,
    "start_time": "2022-12-28T19:19:49.228Z"
   },
   {
    "duration": 36,
    "start_time": "2022-12-28T19:19:49.635Z"
   },
   {
    "duration": 230,
    "start_time": "2022-12-28T19:19:49.673Z"
   },
   {
    "duration": 132,
    "start_time": "2022-12-28T19:19:49.913Z"
   },
   {
    "duration": 0,
    "start_time": "2022-12-28T19:19:50.047Z"
   },
   {
    "duration": 0,
    "start_time": "2022-12-28T19:19:50.049Z"
   },
   {
    "duration": 0,
    "start_time": "2022-12-28T19:19:50.050Z"
   },
   {
    "duration": 0,
    "start_time": "2022-12-28T19:19:50.051Z"
   },
   {
    "duration": 0,
    "start_time": "2022-12-28T19:19:50.052Z"
   },
   {
    "duration": 148,
    "start_time": "2022-12-28T19:21:30.784Z"
   },
   {
    "duration": 15,
    "start_time": "2022-12-28T19:26:03.057Z"
   },
   {
    "duration": 14,
    "start_time": "2022-12-28T19:26:19.421Z"
   },
   {
    "duration": 1199,
    "start_time": "2022-12-28T19:28:02.227Z"
   },
   {
    "duration": 10,
    "start_time": "2022-12-28T19:28:33.477Z"
   },
   {
    "duration": 1110,
    "start_time": "2022-12-28T19:28:48.350Z"
   },
   {
    "duration": 34,
    "start_time": "2022-12-28T19:28:49.462Z"
   },
   {
    "duration": 11,
    "start_time": "2022-12-28T19:28:49.498Z"
   },
   {
    "duration": 8,
    "start_time": "2022-12-28T19:28:49.511Z"
   },
   {
    "duration": 12,
    "start_time": "2022-12-28T19:28:49.521Z"
   },
   {
    "duration": 12,
    "start_time": "2022-12-28T19:28:49.535Z"
   },
   {
    "duration": 13,
    "start_time": "2022-12-28T19:28:49.549Z"
   },
   {
    "duration": 47,
    "start_time": "2022-12-28T19:28:49.564Z"
   },
   {
    "duration": 11,
    "start_time": "2022-12-28T19:28:49.613Z"
   },
   {
    "duration": 11,
    "start_time": "2022-12-28T19:28:49.627Z"
   },
   {
    "duration": 18,
    "start_time": "2022-12-28T19:28:49.639Z"
   },
   {
    "duration": 11,
    "start_time": "2022-12-28T19:28:49.659Z"
   },
   {
    "duration": 12,
    "start_time": "2022-12-28T19:28:49.671Z"
   },
   {
    "duration": 32,
    "start_time": "2022-12-28T19:28:49.684Z"
   },
   {
    "duration": 23,
    "start_time": "2022-12-28T19:28:49.718Z"
   },
   {
    "duration": 10,
    "start_time": "2022-12-28T19:28:49.742Z"
   },
   {
    "duration": 8,
    "start_time": "2022-12-28T19:28:49.754Z"
   },
   {
    "duration": 10,
    "start_time": "2022-12-28T19:28:49.764Z"
   },
   {
    "duration": 7,
    "start_time": "2022-12-28T19:28:49.776Z"
   },
   {
    "duration": 10,
    "start_time": "2022-12-28T19:28:49.785Z"
   },
   {
    "duration": 19,
    "start_time": "2022-12-28T19:28:49.797Z"
   },
   {
    "duration": 14,
    "start_time": "2022-12-28T19:28:49.818Z"
   },
   {
    "duration": 117,
    "start_time": "2022-12-28T19:28:49.833Z"
   },
   {
    "duration": 5,
    "start_time": "2022-12-28T19:28:49.952Z"
   },
   {
    "duration": 171,
    "start_time": "2022-12-28T19:28:49.959Z"
   },
   {
    "duration": 146,
    "start_time": "2022-12-28T19:28:50.132Z"
   },
   {
    "duration": 8,
    "start_time": "2022-12-28T19:28:50.280Z"
   },
   {
    "duration": 32,
    "start_time": "2022-12-28T19:28:50.292Z"
   },
   {
    "duration": 269,
    "start_time": "2022-12-28T19:28:50.326Z"
   },
   {
    "duration": 197,
    "start_time": "2022-12-28T19:28:50.596Z"
   },
   {
    "duration": 301,
    "start_time": "2022-12-28T19:28:50.795Z"
   },
   {
    "duration": 195,
    "start_time": "2022-12-28T19:28:51.098Z"
   },
   {
    "duration": 311,
    "start_time": "2022-12-28T19:28:51.295Z"
   },
   {
    "duration": 156,
    "start_time": "2022-12-28T19:28:51.612Z"
   },
   {
    "duration": 4,
    "start_time": "2022-12-28T19:28:51.769Z"
   },
   {
    "duration": 7,
    "start_time": "2022-12-28T19:28:51.775Z"
   },
   {
    "duration": 7,
    "start_time": "2022-12-28T19:28:51.783Z"
   },
   {
    "duration": 8,
    "start_time": "2022-12-28T19:28:51.812Z"
   },
   {
    "duration": 144,
    "start_time": "2022-12-28T19:28:51.822Z"
   },
   {
    "duration": 167,
    "start_time": "2022-12-28T19:28:51.967Z"
   },
   {
    "duration": 5,
    "start_time": "2022-12-28T19:28:52.136Z"
   },
   {
    "duration": 8,
    "start_time": "2022-12-28T19:28:52.142Z"
   },
   {
    "duration": 6,
    "start_time": "2022-12-28T19:28:52.152Z"
   },
   {
    "duration": 10,
    "start_time": "2022-12-28T19:28:52.160Z"
   },
   {
    "duration": 11,
    "start_time": "2022-12-28T19:28:52.172Z"
   },
   {
    "duration": 462,
    "start_time": "2022-12-28T19:28:52.184Z"
   },
   {
    "duration": 38,
    "start_time": "2022-12-28T19:28:52.648Z"
   },
   {
    "duration": 31,
    "start_time": "2022-12-28T19:28:52.688Z"
   },
   {
    "duration": 9,
    "start_time": "2022-12-28T19:28:52.721Z"
   },
   {
    "duration": 15,
    "start_time": "2022-12-28T19:28:52.732Z"
   },
   {
    "duration": 0,
    "start_time": "2022-12-28T19:28:52.749Z"
   },
   {
    "duration": 9,
    "start_time": "2022-12-28T19:31:57.246Z"
   },
   {
    "duration": 8,
    "start_time": "2022-12-28T19:32:26.291Z"
   },
   {
    "duration": 37,
    "start_time": "2022-12-28T19:32:29.879Z"
   },
   {
    "duration": 17,
    "start_time": "2022-12-28T19:33:33.493Z"
   },
   {
    "duration": 1395,
    "start_time": "2022-12-28T19:35:10.778Z"
   },
   {
    "duration": 36,
    "start_time": "2022-12-28T19:35:12.175Z"
   },
   {
    "duration": 17,
    "start_time": "2022-12-28T19:35:12.215Z"
   },
   {
    "duration": 11,
    "start_time": "2022-12-28T19:35:12.235Z"
   },
   {
    "duration": 16,
    "start_time": "2022-12-28T19:35:12.249Z"
   },
   {
    "duration": 16,
    "start_time": "2022-12-28T19:35:12.267Z"
   },
   {
    "duration": 15,
    "start_time": "2022-12-28T19:35:12.286Z"
   },
   {
    "duration": 49,
    "start_time": "2022-12-28T19:35:12.314Z"
   },
   {
    "duration": 11,
    "start_time": "2022-12-28T19:35:12.365Z"
   },
   {
    "duration": 6,
    "start_time": "2022-12-28T19:35:12.379Z"
   },
   {
    "duration": 24,
    "start_time": "2022-12-28T19:35:12.387Z"
   },
   {
    "duration": 23,
    "start_time": "2022-12-28T19:35:12.413Z"
   },
   {
    "duration": 19,
    "start_time": "2022-12-28T19:35:12.439Z"
   },
   {
    "duration": 23,
    "start_time": "2022-12-28T19:35:12.462Z"
   },
   {
    "duration": 37,
    "start_time": "2022-12-28T19:35:12.486Z"
   },
   {
    "duration": 15,
    "start_time": "2022-12-28T19:35:12.525Z"
   },
   {
    "duration": 7,
    "start_time": "2022-12-28T19:35:12.542Z"
   },
   {
    "duration": 13,
    "start_time": "2022-12-28T19:35:12.552Z"
   },
   {
    "duration": 14,
    "start_time": "2022-12-28T19:35:12.567Z"
   },
   {
    "duration": 15,
    "start_time": "2022-12-28T19:35:12.583Z"
   },
   {
    "duration": 13,
    "start_time": "2022-12-28T19:35:12.600Z"
   },
   {
    "duration": 59,
    "start_time": "2022-12-28T19:35:12.614Z"
   },
   {
    "duration": 162,
    "start_time": "2022-12-28T19:35:12.675Z"
   },
   {
    "duration": 12,
    "start_time": "2022-12-28T19:35:12.840Z"
   },
   {
    "duration": 260,
    "start_time": "2022-12-28T19:35:12.856Z"
   },
   {
    "duration": 141,
    "start_time": "2022-12-28T19:35:13.118Z"
   },
   {
    "duration": 5,
    "start_time": "2022-12-28T19:35:13.261Z"
   },
   {
    "duration": 7,
    "start_time": "2022-12-28T19:35:13.270Z"
   },
   {
    "duration": 280,
    "start_time": "2022-12-28T19:35:13.279Z"
   },
   {
    "duration": 253,
    "start_time": "2022-12-28T19:35:13.561Z"
   },
   {
    "duration": 311,
    "start_time": "2022-12-28T19:35:13.816Z"
   },
   {
    "duration": 247,
    "start_time": "2022-12-28T19:35:14.131Z"
   },
   {
    "duration": 396,
    "start_time": "2022-12-28T19:35:14.380Z"
   },
   {
    "duration": 239,
    "start_time": "2022-12-28T19:35:14.778Z"
   },
   {
    "duration": 8,
    "start_time": "2022-12-28T19:35:15.025Z"
   },
   {
    "duration": 7,
    "start_time": "2022-12-28T19:35:15.035Z"
   },
   {
    "duration": 9,
    "start_time": "2022-12-28T19:35:15.043Z"
   },
   {
    "duration": 5,
    "start_time": "2022-12-28T19:35:15.053Z"
   },
   {
    "duration": 166,
    "start_time": "2022-12-28T19:35:15.060Z"
   },
   {
    "duration": 168,
    "start_time": "2022-12-28T19:35:15.231Z"
   },
   {
    "duration": 6,
    "start_time": "2022-12-28T19:35:15.401Z"
   },
   {
    "duration": 27,
    "start_time": "2022-12-28T19:35:15.413Z"
   },
   {
    "duration": 8,
    "start_time": "2022-12-28T19:35:15.443Z"
   },
   {
    "duration": 13,
    "start_time": "2022-12-28T19:35:15.452Z"
   },
   {
    "duration": 12,
    "start_time": "2022-12-28T19:35:15.467Z"
   },
   {
    "duration": 465,
    "start_time": "2022-12-28T19:35:15.481Z"
   },
   {
    "duration": 44,
    "start_time": "2022-12-28T19:35:15.948Z"
   },
   {
    "duration": 36,
    "start_time": "2022-12-28T19:35:15.995Z"
   },
   {
    "duration": 12,
    "start_time": "2022-12-28T19:35:16.034Z"
   },
   {
    "duration": 11,
    "start_time": "2022-12-28T19:35:16.048Z"
   },
   {
    "duration": 39,
    "start_time": "2022-12-28T19:35:16.060Z"
   },
   {
    "duration": 27,
    "start_time": "2022-12-28T19:35:16.100Z"
   },
   {
    "duration": 1039,
    "start_time": "2022-12-29T16:18:54.492Z"
   },
   {
    "duration": 35,
    "start_time": "2022-12-29T16:18:55.533Z"
   },
   {
    "duration": 9,
    "start_time": "2022-12-29T16:18:55.569Z"
   },
   {
    "duration": 6,
    "start_time": "2022-12-29T16:18:55.580Z"
   },
   {
    "duration": 11,
    "start_time": "2022-12-29T16:18:55.588Z"
   },
   {
    "duration": 10,
    "start_time": "2022-12-29T16:18:55.601Z"
   },
   {
    "duration": 9,
    "start_time": "2022-12-29T16:18:55.612Z"
   },
   {
    "duration": 48,
    "start_time": "2022-12-29T16:18:55.623Z"
   },
   {
    "duration": 11,
    "start_time": "2022-12-29T16:18:55.673Z"
   },
   {
    "duration": 16,
    "start_time": "2022-12-29T16:18:55.686Z"
   },
   {
    "duration": 16,
    "start_time": "2022-12-29T16:18:55.704Z"
   },
   {
    "duration": 11,
    "start_time": "2022-12-29T16:18:55.721Z"
   },
   {
    "duration": 11,
    "start_time": "2022-12-29T16:18:55.734Z"
   },
   {
    "duration": 6,
    "start_time": "2022-12-29T16:18:55.747Z"
   },
   {
    "duration": 22,
    "start_time": "2022-12-29T16:18:55.754Z"
   },
   {
    "duration": 25,
    "start_time": "2022-12-29T16:18:55.778Z"
   },
   {
    "duration": 7,
    "start_time": "2022-12-29T16:18:55.804Z"
   },
   {
    "duration": 10,
    "start_time": "2022-12-29T16:18:55.812Z"
   },
   {
    "duration": 9,
    "start_time": "2022-12-29T16:18:55.823Z"
   },
   {
    "duration": 16,
    "start_time": "2022-12-29T16:18:55.833Z"
   },
   {
    "duration": 14,
    "start_time": "2022-12-29T16:18:55.850Z"
   },
   {
    "duration": 28,
    "start_time": "2022-12-29T16:18:55.866Z"
   },
   {
    "duration": 106,
    "start_time": "2022-12-29T16:18:55.896Z"
   },
   {
    "duration": 5,
    "start_time": "2022-12-29T16:18:56.004Z"
   },
   {
    "duration": 170,
    "start_time": "2022-12-29T16:18:56.011Z"
   },
   {
    "duration": 135,
    "start_time": "2022-12-29T16:18:56.182Z"
   },
   {
    "duration": 7,
    "start_time": "2022-12-29T16:18:56.319Z"
   },
   {
    "duration": 3,
    "start_time": "2022-12-29T16:18:56.328Z"
   },
   {
    "duration": 256,
    "start_time": "2022-12-29T16:18:56.333Z"
   },
   {
    "duration": 201,
    "start_time": "2022-12-29T16:18:56.591Z"
   },
   {
    "duration": 283,
    "start_time": "2022-12-29T16:18:56.798Z"
   },
   {
    "duration": 182,
    "start_time": "2022-12-29T16:18:57.082Z"
   },
   {
    "duration": 308,
    "start_time": "2022-12-29T16:18:57.266Z"
   },
   {
    "duration": 155,
    "start_time": "2022-12-29T16:18:57.576Z"
   },
   {
    "duration": 5,
    "start_time": "2022-12-29T16:18:57.732Z"
   },
   {
    "duration": 7,
    "start_time": "2022-12-29T16:18:57.738Z"
   },
   {
    "duration": 7,
    "start_time": "2022-12-29T16:18:57.747Z"
   },
   {
    "duration": 7,
    "start_time": "2022-12-29T16:18:57.755Z"
   },
   {
    "duration": 158,
    "start_time": "2022-12-29T16:18:57.763Z"
   },
   {
    "duration": 155,
    "start_time": "2022-12-29T16:18:57.923Z"
   },
   {
    "duration": 5,
    "start_time": "2022-12-29T16:18:58.082Z"
   },
   {
    "duration": 4,
    "start_time": "2022-12-29T16:18:58.097Z"
   },
   {
    "duration": 7,
    "start_time": "2022-12-29T16:18:58.102Z"
   },
   {
    "duration": 8,
    "start_time": "2022-12-29T16:18:58.111Z"
   },
   {
    "duration": 15,
    "start_time": "2022-12-29T16:18:58.120Z"
   },
   {
    "duration": 411,
    "start_time": "2022-12-29T16:18:58.137Z"
   },
   {
    "duration": 50,
    "start_time": "2022-12-29T16:18:58.549Z"
   },
   {
    "duration": 15,
    "start_time": "2022-12-29T16:18:58.601Z"
   },
   {
    "duration": 9,
    "start_time": "2022-12-29T16:18:58.618Z"
   },
   {
    "duration": 8,
    "start_time": "2022-12-29T16:18:58.629Z"
   },
   {
    "duration": 72,
    "start_time": "2022-12-29T16:18:58.638Z"
   },
   {
    "duration": 12,
    "start_time": "2022-12-29T16:18:58.711Z"
   },
   {
    "duration": 1431,
    "start_time": "2023-09-11T18:42:20.724Z"
   },
   {
    "duration": 81,
    "start_time": "2023-09-11T18:42:22.157Z"
   },
   {
    "duration": 15,
    "start_time": "2023-09-11T18:42:22.240Z"
   },
   {
    "duration": 25,
    "start_time": "2023-09-11T18:42:22.258Z"
   },
   {
    "duration": 63,
    "start_time": "2023-09-11T18:42:22.285Z"
   },
   {
    "duration": 31,
    "start_time": "2023-09-11T18:42:22.350Z"
   },
   {
    "duration": 33,
    "start_time": "2023-09-11T18:42:22.384Z"
   },
   {
    "duration": 105,
    "start_time": "2023-09-11T18:42:22.419Z"
   },
   {
    "duration": 11,
    "start_time": "2023-09-11T18:42:22.525Z"
   },
   {
    "duration": 27,
    "start_time": "2023-09-11T18:42:22.538Z"
   },
   {
    "duration": 40,
    "start_time": "2023-09-11T18:42:22.571Z"
   },
   {
    "duration": 15,
    "start_time": "2023-09-11T18:42:22.613Z"
   },
   {
    "duration": 14,
    "start_time": "2023-09-11T18:42:22.629Z"
   },
   {
    "duration": 28,
    "start_time": "2023-09-11T18:42:22.645Z"
   },
   {
    "duration": 70,
    "start_time": "2023-09-11T18:42:22.675Z"
   },
   {
    "duration": 13,
    "start_time": "2023-09-11T18:42:22.748Z"
   },
   {
    "duration": 19,
    "start_time": "2023-09-11T18:42:22.763Z"
   },
   {
    "duration": 15,
    "start_time": "2023-09-11T18:42:22.784Z"
   },
   {
    "duration": 8,
    "start_time": "2023-09-11T18:42:22.801Z"
   },
   {
    "duration": 18,
    "start_time": "2023-09-11T18:42:22.811Z"
   },
   {
    "duration": 14,
    "start_time": "2023-09-11T18:42:22.831Z"
   },
   {
    "duration": 26,
    "start_time": "2023-09-11T18:42:22.847Z"
   },
   {
    "duration": 132,
    "start_time": "2023-09-11T18:42:22.875Z"
   },
   {
    "duration": 6,
    "start_time": "2023-09-11T18:42:23.009Z"
   },
   {
    "duration": 189,
    "start_time": "2023-09-11T18:42:23.016Z"
   },
   {
    "duration": 141,
    "start_time": "2023-09-11T18:42:23.207Z"
   },
   {
    "duration": 6,
    "start_time": "2023-09-11T18:42:23.350Z"
   },
   {
    "duration": 4,
    "start_time": "2023-09-11T18:42:23.368Z"
   },
   {
    "duration": 319,
    "start_time": "2023-09-11T18:42:23.374Z"
   },
   {
    "duration": 261,
    "start_time": "2023-09-11T18:42:23.695Z"
   },
   {
    "duration": 384,
    "start_time": "2023-09-11T18:42:23.958Z"
   },
   {
    "duration": 226,
    "start_time": "2023-09-11T18:42:24.343Z"
   },
   {
    "duration": 362,
    "start_time": "2023-09-11T18:42:24.571Z"
   },
   {
    "duration": 194,
    "start_time": "2023-09-11T18:42:24.935Z"
   },
   {
    "duration": 6,
    "start_time": "2023-09-11T18:42:25.130Z"
   },
   {
    "duration": 44,
    "start_time": "2023-09-11T18:42:25.138Z"
   },
   {
    "duration": 10,
    "start_time": "2023-09-11T18:42:25.184Z"
   },
   {
    "duration": 7,
    "start_time": "2023-09-11T18:42:25.196Z"
   },
   {
    "duration": 156,
    "start_time": "2023-09-11T18:42:25.205Z"
   },
   {
    "duration": 187,
    "start_time": "2023-09-11T18:42:25.363Z"
   },
   {
    "duration": 6,
    "start_time": "2023-09-11T18:42:25.552Z"
   },
   {
    "duration": 15,
    "start_time": "2023-09-11T18:42:25.566Z"
   },
   {
    "duration": 16,
    "start_time": "2023-09-11T18:42:25.583Z"
   },
   {
    "duration": 14,
    "start_time": "2023-09-11T18:42:25.601Z"
   },
   {
    "duration": 15,
    "start_time": "2023-09-11T18:42:25.617Z"
   },
   {
    "duration": 478,
    "start_time": "2023-09-11T18:42:25.634Z"
   },
   {
    "duration": 54,
    "start_time": "2023-09-11T18:42:26.114Z"
   },
   {
    "duration": 19,
    "start_time": "2023-09-11T18:42:26.170Z"
   },
   {
    "duration": 24,
    "start_time": "2023-09-11T18:42:26.190Z"
   },
   {
    "duration": 36,
    "start_time": "2023-09-11T18:42:26.216Z"
   },
   {
    "duration": 63,
    "start_time": "2023-09-11T18:42:26.254Z"
   },
   {
    "duration": 15,
    "start_time": "2023-09-11T18:42:26.319Z"
   }
  ],
  "kernelspec": {
   "display_name": "Python 3 (ipykernel)",
   "language": "python",
   "name": "python3"
  },
  "language_info": {
   "codemirror_mode": {
    "name": "ipython",
    "version": 3
   },
   "file_extension": ".py",
   "mimetype": "text/x-python",
   "name": "python",
   "nbconvert_exporter": "python",
   "pygments_lexer": "ipython3",
   "version": "3.9.5"
  },
  "toc": {
   "base_numbering": 1,
   "nav_menu": {},
   "number_sections": false,
   "sideBar": true,
   "skip_h1_title": false,
   "title_cell": "Table of Contents",
   "title_sidebar": "Contents",
   "toc_cell": false,
   "toc_position": {
    "height": "calc(100% - 180px)",
    "left": "10px",
    "top": "150px",
    "width": "260.1px"
   },
   "toc_section_display": true,
   "toc_window_display": true
  }
 },
 "nbformat": 4,
 "nbformat_minor": 2
}
