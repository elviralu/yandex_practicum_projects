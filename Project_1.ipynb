{
 "cells": [
  {
   "cell_type": "markdown",
   "metadata": {},
   "source": [
    "# Исследование закономерности определяющие успешность видеоигры.\n",
    " Из открытых источников доступны исторические данные о продажах игр, оценки пользователей и экспертов, жанры и платформы (например, Xbox или PlayStation). Нужно выявить определяющие успешность игры закономерности. Это позволит сделать ставку на потенциально популярный продукт и спланировать рекламные кампании. Данные до 2016 года. "
   ]
  },
  {
   "cell_type": "markdown",
   "metadata": {},
   "source": [
    "Перед нами данные до 2016 года. Представим, что сейчас декабрь 2016 г., и мы планируете кампанию на 2017-й. Нужно отработать принцип работы с данными. "
   ]
  },
  {
   "cell_type": "markdown",
   "metadata": {},
   "source": [
    "## Общая нформация."
   ]
  },
  {
   "cell_type": "code",
   "execution_count": 1,
   "metadata": {},
   "outputs": [],
   "source": [
    "import pandas as pd\n",
    "import matplotlib.pyplot as plt\n",
    "import numpy as np\n",
    "import seaborn as sns\n",
    "from scipy import stats as st"
   ]
  },
  {
   "cell_type": "code",
   "execution_count": 2,
   "metadata": {},
   "outputs": [
    {
     "name": "stdout",
     "output_type": "stream",
     "text": [
      "<class 'pandas.core.frame.DataFrame'>\n",
      "RangeIndex: 16715 entries, 0 to 16714\n",
      "Data columns (total 11 columns):\n",
      " #   Column           Non-Null Count  Dtype  \n",
      "---  ------           --------------  -----  \n",
      " 0   Name             16713 non-null  object \n",
      " 1   Platform         16715 non-null  object \n",
      " 2   Year_of_Release  16446 non-null  float64\n",
      " 3   Genre            16713 non-null  object \n",
      " 4   NA_sales         16715 non-null  float64\n",
      " 5   EU_sales         16715 non-null  float64\n",
      " 6   JP_sales         16715 non-null  float64\n",
      " 7   Other_sales      16715 non-null  float64\n",
      " 8   Critic_Score     8137 non-null   float64\n",
      " 9   User_Score       10014 non-null  object \n",
      " 10  Rating           9949 non-null   object \n",
      "dtypes: float64(6), object(5)\n",
      "memory usage: 1.4+ MB\n"
     ]
    }
   ],
   "source": [
    "games = pd.read_csv('/datasets/games.csv')#открываем файл\n",
    "games.info()#посмотрим типы данных и количество ненулевых значений"
   ]
  },
  {
   "cell_type": "code",
   "execution_count": 3,
   "metadata": {},
   "outputs": [
    {
     "data": {
      "text/html": [
       "<div>\n",
       "<style scoped>\n",
       "    .dataframe tbody tr th:only-of-type {\n",
       "        vertical-align: middle;\n",
       "    }\n",
       "\n",
       "    .dataframe tbody tr th {\n",
       "        vertical-align: top;\n",
       "    }\n",
       "\n",
       "    .dataframe thead th {\n",
       "        text-align: right;\n",
       "    }\n",
       "</style>\n",
       "<table border=\"1\" class=\"dataframe\">\n",
       "  <thead>\n",
       "    <tr style=\"text-align: right;\">\n",
       "      <th></th>\n",
       "      <th>Name</th>\n",
       "      <th>Platform</th>\n",
       "      <th>Year_of_Release</th>\n",
       "      <th>Genre</th>\n",
       "      <th>NA_sales</th>\n",
       "      <th>EU_sales</th>\n",
       "      <th>JP_sales</th>\n",
       "      <th>Other_sales</th>\n",
       "      <th>Critic_Score</th>\n",
       "      <th>User_Score</th>\n",
       "      <th>Rating</th>\n",
       "    </tr>\n",
       "  </thead>\n",
       "  <tbody>\n",
       "    <tr>\n",
       "      <th>0</th>\n",
       "      <td>Wii Sports</td>\n",
       "      <td>Wii</td>\n",
       "      <td>2006.0</td>\n",
       "      <td>Sports</td>\n",
       "      <td>41.36</td>\n",
       "      <td>28.96</td>\n",
       "      <td>3.77</td>\n",
       "      <td>8.45</td>\n",
       "      <td>76.0</td>\n",
       "      <td>8</td>\n",
       "      <td>E</td>\n",
       "    </tr>\n",
       "    <tr>\n",
       "      <th>1</th>\n",
       "      <td>Super Mario Bros.</td>\n",
       "      <td>NES</td>\n",
       "      <td>1985.0</td>\n",
       "      <td>Platform</td>\n",
       "      <td>29.08</td>\n",
       "      <td>3.58</td>\n",
       "      <td>6.81</td>\n",
       "      <td>0.77</td>\n",
       "      <td>NaN</td>\n",
       "      <td>NaN</td>\n",
       "      <td>NaN</td>\n",
       "    </tr>\n",
       "    <tr>\n",
       "      <th>2</th>\n",
       "      <td>Mario Kart Wii</td>\n",
       "      <td>Wii</td>\n",
       "      <td>2008.0</td>\n",
       "      <td>Racing</td>\n",
       "      <td>15.68</td>\n",
       "      <td>12.76</td>\n",
       "      <td>3.79</td>\n",
       "      <td>3.29</td>\n",
       "      <td>82.0</td>\n",
       "      <td>8.3</td>\n",
       "      <td>E</td>\n",
       "    </tr>\n",
       "    <tr>\n",
       "      <th>3</th>\n",
       "      <td>Wii Sports Resort</td>\n",
       "      <td>Wii</td>\n",
       "      <td>2009.0</td>\n",
       "      <td>Sports</td>\n",
       "      <td>15.61</td>\n",
       "      <td>10.93</td>\n",
       "      <td>3.28</td>\n",
       "      <td>2.95</td>\n",
       "      <td>80.0</td>\n",
       "      <td>8</td>\n",
       "      <td>E</td>\n",
       "    </tr>\n",
       "    <tr>\n",
       "      <th>4</th>\n",
       "      <td>Pokemon Red/Pokemon Blue</td>\n",
       "      <td>GB</td>\n",
       "      <td>1996.0</td>\n",
       "      <td>Role-Playing</td>\n",
       "      <td>11.27</td>\n",
       "      <td>8.89</td>\n",
       "      <td>10.22</td>\n",
       "      <td>1.00</td>\n",
       "      <td>NaN</td>\n",
       "      <td>NaN</td>\n",
       "      <td>NaN</td>\n",
       "    </tr>\n",
       "    <tr>\n",
       "      <th>5</th>\n",
       "      <td>Tetris</td>\n",
       "      <td>GB</td>\n",
       "      <td>1989.0</td>\n",
       "      <td>Puzzle</td>\n",
       "      <td>23.20</td>\n",
       "      <td>2.26</td>\n",
       "      <td>4.22</td>\n",
       "      <td>0.58</td>\n",
       "      <td>NaN</td>\n",
       "      <td>NaN</td>\n",
       "      <td>NaN</td>\n",
       "    </tr>\n",
       "    <tr>\n",
       "      <th>6</th>\n",
       "      <td>New Super Mario Bros.</td>\n",
       "      <td>DS</td>\n",
       "      <td>2006.0</td>\n",
       "      <td>Platform</td>\n",
       "      <td>11.28</td>\n",
       "      <td>9.14</td>\n",
       "      <td>6.50</td>\n",
       "      <td>2.88</td>\n",
       "      <td>89.0</td>\n",
       "      <td>8.5</td>\n",
       "      <td>E</td>\n",
       "    </tr>\n",
       "    <tr>\n",
       "      <th>7</th>\n",
       "      <td>Wii Play</td>\n",
       "      <td>Wii</td>\n",
       "      <td>2006.0</td>\n",
       "      <td>Misc</td>\n",
       "      <td>13.96</td>\n",
       "      <td>9.18</td>\n",
       "      <td>2.93</td>\n",
       "      <td>2.84</td>\n",
       "      <td>58.0</td>\n",
       "      <td>6.6</td>\n",
       "      <td>E</td>\n",
       "    </tr>\n",
       "    <tr>\n",
       "      <th>8</th>\n",
       "      <td>New Super Mario Bros. Wii</td>\n",
       "      <td>Wii</td>\n",
       "      <td>2009.0</td>\n",
       "      <td>Platform</td>\n",
       "      <td>14.44</td>\n",
       "      <td>6.94</td>\n",
       "      <td>4.70</td>\n",
       "      <td>2.24</td>\n",
       "      <td>87.0</td>\n",
       "      <td>8.4</td>\n",
       "      <td>E</td>\n",
       "    </tr>\n",
       "    <tr>\n",
       "      <th>9</th>\n",
       "      <td>Duck Hunt</td>\n",
       "      <td>NES</td>\n",
       "      <td>1984.0</td>\n",
       "      <td>Shooter</td>\n",
       "      <td>26.93</td>\n",
       "      <td>0.63</td>\n",
       "      <td>0.28</td>\n",
       "      <td>0.47</td>\n",
       "      <td>NaN</td>\n",
       "      <td>NaN</td>\n",
       "      <td>NaN</td>\n",
       "    </tr>\n",
       "  </tbody>\n",
       "</table>\n",
       "</div>"
      ],
      "text/plain": [
       "                        Name Platform  Year_of_Release         Genre  \\\n",
       "0                 Wii Sports      Wii           2006.0        Sports   \n",
       "1          Super Mario Bros.      NES           1985.0      Platform   \n",
       "2             Mario Kart Wii      Wii           2008.0        Racing   \n",
       "3          Wii Sports Resort      Wii           2009.0        Sports   \n",
       "4   Pokemon Red/Pokemon Blue       GB           1996.0  Role-Playing   \n",
       "5                     Tetris       GB           1989.0        Puzzle   \n",
       "6      New Super Mario Bros.       DS           2006.0      Platform   \n",
       "7                   Wii Play      Wii           2006.0          Misc   \n",
       "8  New Super Mario Bros. Wii      Wii           2009.0      Platform   \n",
       "9                  Duck Hunt      NES           1984.0       Shooter   \n",
       "\n",
       "   NA_sales  EU_sales  JP_sales  Other_sales  Critic_Score User_Score Rating  \n",
       "0     41.36     28.96      3.77         8.45          76.0          8      E  \n",
       "1     29.08      3.58      6.81         0.77           NaN        NaN    NaN  \n",
       "2     15.68     12.76      3.79         3.29          82.0        8.3      E  \n",
       "3     15.61     10.93      3.28         2.95          80.0          8      E  \n",
       "4     11.27      8.89     10.22         1.00           NaN        NaN    NaN  \n",
       "5     23.20      2.26      4.22         0.58           NaN        NaN    NaN  \n",
       "6     11.28      9.14      6.50         2.88          89.0        8.5      E  \n",
       "7     13.96      9.18      2.93         2.84          58.0        6.6      E  \n",
       "8     14.44      6.94      4.70         2.24          87.0        8.4      E  \n",
       "9     26.93      0.63      0.28         0.47           NaN        NaN    NaN  "
      ]
     },
     "metadata": {},
     "output_type": "display_data"
    },
    {
     "data": {
      "text/plain": [
       "'None'"
      ]
     },
     "metadata": {},
     "output_type": "display_data"
    }
   ],
   "source": [
    "display(games.head(10), str(pd.set_option('display.max_columns', None)))#выводим первые 10 строк таблицы\n",
    "#увеличиваем максимальное количество отображающихся столбцов"
   ]
  },
  {
   "cell_type": "code",
   "execution_count": 4,
   "metadata": {},
   "outputs": [
    {
     "data": {
      "text/plain": [
       "Action          3369\n",
       "Sports          2348\n",
       "Misc            1750\n",
       "Role-Playing    1498\n",
       "Shooter         1323\n",
       "Adventure       1303\n",
       "Racing          1249\n",
       "Platform         888\n",
       "Simulation       873\n",
       "Fighting         849\n",
       "Strategy         683\n",
       "Puzzle           580\n",
       "Name: Genre, dtype: int64"
      ]
     },
     "execution_count": 4,
     "metadata": {},
     "output_type": "execute_result"
    }
   ],
   "source": [
    "#Посмотрим, какие жанры игр мы имеем, и нет ли у нас повторений.\n",
    "games['Genre'].value_counts()"
   ]
  },
  {
   "cell_type": "code",
   "execution_count": 5,
   "metadata": {},
   "outputs": [
    {
     "data": {
      "text/plain": [
       "0"
      ]
     },
     "execution_count": 5,
     "metadata": {},
     "output_type": "execute_result"
    }
   ],
   "source": [
    "games.duplicated().sum()#проверим на наличие дубликатов"
   ]
  },
  {
   "cell_type": "markdown",
   "metadata": {},
   "source": [
    "Итак, в таблице 11 столбцов.\n",
    "Согласно документации к данным:\n",
    " *   Name — название игры\n",
    " *   Platform — платформа\n",
    " *   Year_of_Release — год выпуска\n",
    " *   Genre — жанр игры\n",
    " *   NA_sales — продажи в Северной Америке (миллионы проданных копий)\n",
    " *   EU_sales — продажи в Европе (миллионы проданных копий)\n",
    " *   JP_sales — продажи в Японии (миллионы проданных копий)\n",
    " *   Other_sales — продажи в других странах (миллионы проданных копий)\n",
    " *   Critic_Score — оценка критиков (максимум 100)\n",
    " *   User_Score — оценка пользователей (максимум 10)\n",
    " *   Rating — рейтинг от организации ESRB (англ. Entertainment Software Rating Board). Эта ассоциация определяет рейтинг компьютерных игр и присваивает им подходящую возрастную категорию.\n",
    " \n",
    " У столбца Year_of_Release тип float64, должен быть Int64.\n",
    " User_Score имеет тип object - меняем на float.\n",
    " \n",
    " Количество значений в столбцах различается. Значит, в данных есть пропущенные значения."
   ]
  },
  {
   "cell_type": "code",
   "execution_count": 6,
   "metadata": {},
   "outputs": [
    {
     "data": {
      "text/plain": [
       "Name                  2\n",
       "Platform              0\n",
       "Year_of_Release     269\n",
       "Genre                 2\n",
       "NA_sales              0\n",
       "EU_sales              0\n",
       "JP_sales              0\n",
       "Other_sales           0\n",
       "Critic_Score       8578\n",
       "User_Score         6701\n",
       "Rating             6766\n",
       "dtype: int64"
      ]
     },
     "execution_count": 6,
     "metadata": {},
     "output_type": "execute_result"
    }
   ],
   "source": [
    "games.isna().sum() #количество пропущенных значений для каждого столбца"
   ]
  },
  {
   "cell_type": "markdown",
   "metadata": {},
   "source": [
    "Столбец Year_of_Release имеет 1,6% пропусков. Средними/медианами эти пропуски не заполнить, эти данные не являются самыми важными для анализа данных, да и пропусков в столбце не так много."
   ]
  },
  {
   "cell_type": "markdown",
   "metadata": {},
   "source": [
    "## Предобработка данных."
   ]
  },
  {
   "cell_type": "code",
   "execution_count": 7,
   "metadata": {},
   "outputs": [
    {
     "data": {
      "text/plain": [
       "Index(['Name', 'Platform', 'Year_of_Release', 'Genre', 'NA_sales', 'EU_sales',\n",
       "       'JP_sales', 'Other_sales', 'Critic_Score', 'User_Score', 'Rating'],\n",
       "      dtype='object')"
      ]
     },
     "execution_count": 7,
     "metadata": {},
     "output_type": "execute_result"
    }
   ],
   "source": [
    "games.columns # перечень названий столбцов таблицы"
   ]
  },
  {
   "cell_type": "code",
   "execution_count": 8,
   "metadata": {},
   "outputs": [],
   "source": [
    "# Заменим названия столбцов (приведем к нижнему регистру)\n",
    "games.columns = games.columns.str.lower()"
   ]
  },
  {
   "cell_type": "code",
   "execution_count": 9,
   "metadata": {},
   "outputs": [
    {
     "data": {
      "text/plain": [
       "Index(['name', 'platform', 'year_of_release', 'genre', 'na_sales', 'eu_sales',\n",
       "       'jp_sales', 'other_sales', 'critic_score', 'user_score', 'rating'],\n",
       "      dtype='object')"
      ]
     },
     "execution_count": 9,
     "metadata": {},
     "output_type": "execute_result"
    }
   ],
   "source": [
    "games.columns# проверка результатов - перечень названий столбцов"
   ]
  },
  {
   "cell_type": "code",
   "execution_count": 10,
   "metadata": {},
   "outputs": [],
   "source": [
    "# Приведем к нижнему регистру следующие столбцы:\n",
    "for column in games[['name','platform','genre','rating']]:\n",
    "    games[column] = games[column].str.lower()"
   ]
  },
  {
   "cell_type": "code",
   "execution_count": 11,
   "metadata": {},
   "outputs": [],
   "source": [
    "# Изменим тип данных в столбце year_of_release \n",
    "games['year_of_release'] = games['year_of_release'].astype('Int64')"
   ]
  },
  {
   "cell_type": "code",
   "execution_count": 12,
   "metadata": {},
   "outputs": [
    {
     "data": {
      "text/plain": [
       "array(['8', nan, '8.3', '8.5', '6.6', '8.4', '8.6', '7.7', '6.3', '7.4',\n",
       "       '8.2', '9', '7.9', '8.1', '8.7', '7.1', '3.4', '5.3', '4.8', '3.2',\n",
       "       '8.9', '6.4', '7.8', '7.5', '2.6', '7.2', '9.2', '7', '7.3', '4.3',\n",
       "       '7.6', '5.7', '5', '9.1', '6.5', 'tbd', '8.8', '6.9', '9.4', '6.8',\n",
       "       '6.1', '6.7', '5.4', '4', '4.9', '4.5', '9.3', '6.2', '4.2', '6',\n",
       "       '3.7', '4.1', '5.8', '5.6', '5.5', '4.4', '4.6', '5.9', '3.9',\n",
       "       '3.1', '2.9', '5.2', '3.3', '4.7', '5.1', '3.5', '2.5', '1.9', '3',\n",
       "       '2.7', '2.2', '2', '9.5', '2.1', '3.6', '2.8', '1.8', '3.8', '0',\n",
       "       '1.6', '9.6', '2.4', '1.7', '1.1', '0.3', '1.5', '0.7', '1.2',\n",
       "       '2.3', '0.5', '1.3', '0.2', '0.6', '1.4', '0.9', '1', '9.7'],\n",
       "      dtype=object)"
      ]
     },
     "execution_count": 12,
     "metadata": {},
     "output_type": "execute_result"
    }
   ],
   "source": [
    "games['user_score'].unique() # Посмотрим отдельно столбцы user_score"
   ]
  },
  {
   "cell_type": "markdown",
   "metadata": {},
   "source": [
    "Помимо пропусков, видим \"tbd\". Посмотрим, сколько их там таких:"
   ]
  },
  {
   "cell_type": "code",
   "execution_count": 13,
   "metadata": {},
   "outputs": [
    {
     "data": {
      "text/html": [
       "<div>\n",
       "<style scoped>\n",
       "    .dataframe tbody tr th:only-of-type {\n",
       "        vertical-align: middle;\n",
       "    }\n",
       "\n",
       "    .dataframe tbody tr th {\n",
       "        vertical-align: top;\n",
       "    }\n",
       "\n",
       "    .dataframe thead th {\n",
       "        text-align: right;\n",
       "    }\n",
       "</style>\n",
       "<table border=\"1\" class=\"dataframe\">\n",
       "  <thead>\n",
       "    <tr style=\"text-align: right;\">\n",
       "      <th></th>\n",
       "      <th>name</th>\n",
       "      <th>platform</th>\n",
       "      <th>year_of_release</th>\n",
       "      <th>genre</th>\n",
       "      <th>na_sales</th>\n",
       "      <th>eu_sales</th>\n",
       "      <th>jp_sales</th>\n",
       "      <th>other_sales</th>\n",
       "      <th>critic_score</th>\n",
       "      <th>user_score</th>\n",
       "      <th>rating</th>\n",
       "    </tr>\n",
       "  </thead>\n",
       "  <tbody>\n",
       "    <tr>\n",
       "      <th>119</th>\n",
       "      <td>zumba fitness</td>\n",
       "      <td>wii</td>\n",
       "      <td>2010</td>\n",
       "      <td>sports</td>\n",
       "      <td>3.45</td>\n",
       "      <td>2.59</td>\n",
       "      <td>0.0</td>\n",
       "      <td>0.66</td>\n",
       "      <td>NaN</td>\n",
       "      <td>tbd</td>\n",
       "      <td>e</td>\n",
       "    </tr>\n",
       "    <tr>\n",
       "      <th>301</th>\n",
       "      <td>namco museum: 50th anniversary</td>\n",
       "      <td>ps2</td>\n",
       "      <td>2005</td>\n",
       "      <td>misc</td>\n",
       "      <td>2.08</td>\n",
       "      <td>1.35</td>\n",
       "      <td>0.0</td>\n",
       "      <td>0.54</td>\n",
       "      <td>61.0</td>\n",
       "      <td>tbd</td>\n",
       "      <td>e10+</td>\n",
       "    </tr>\n",
       "    <tr>\n",
       "      <th>520</th>\n",
       "      <td>zumba fitness 2</td>\n",
       "      <td>wii</td>\n",
       "      <td>2011</td>\n",
       "      <td>sports</td>\n",
       "      <td>1.51</td>\n",
       "      <td>1.03</td>\n",
       "      <td>0.0</td>\n",
       "      <td>0.27</td>\n",
       "      <td>NaN</td>\n",
       "      <td>tbd</td>\n",
       "      <td>t</td>\n",
       "    </tr>\n",
       "    <tr>\n",
       "      <th>645</th>\n",
       "      <td>udraw studio</td>\n",
       "      <td>wii</td>\n",
       "      <td>2010</td>\n",
       "      <td>misc</td>\n",
       "      <td>1.65</td>\n",
       "      <td>0.57</td>\n",
       "      <td>0.0</td>\n",
       "      <td>0.20</td>\n",
       "      <td>71.0</td>\n",
       "      <td>tbd</td>\n",
       "      <td>e</td>\n",
       "    </tr>\n",
       "    <tr>\n",
       "      <th>657</th>\n",
       "      <td>frogger's adventures: temple of the frog</td>\n",
       "      <td>gba</td>\n",
       "      <td>&lt;NA&gt;</td>\n",
       "      <td>adventure</td>\n",
       "      <td>2.15</td>\n",
       "      <td>0.18</td>\n",
       "      <td>0.0</td>\n",
       "      <td>0.07</td>\n",
       "      <td>73.0</td>\n",
       "      <td>tbd</td>\n",
       "      <td>e</td>\n",
       "    </tr>\n",
       "    <tr>\n",
       "      <th>...</th>\n",
       "      <td>...</td>\n",
       "      <td>...</td>\n",
       "      <td>...</td>\n",
       "      <td>...</td>\n",
       "      <td>...</td>\n",
       "      <td>...</td>\n",
       "      <td>...</td>\n",
       "      <td>...</td>\n",
       "      <td>...</td>\n",
       "      <td>...</td>\n",
       "      <td>...</td>\n",
       "    </tr>\n",
       "    <tr>\n",
       "      <th>16695</th>\n",
       "      <td>planet monsters</td>\n",
       "      <td>gba</td>\n",
       "      <td>2001</td>\n",
       "      <td>action</td>\n",
       "      <td>0.01</td>\n",
       "      <td>0.00</td>\n",
       "      <td>0.0</td>\n",
       "      <td>0.00</td>\n",
       "      <td>67.0</td>\n",
       "      <td>tbd</td>\n",
       "      <td>e</td>\n",
       "    </tr>\n",
       "    <tr>\n",
       "      <th>16697</th>\n",
       "      <td>bust-a-move 3000</td>\n",
       "      <td>gc</td>\n",
       "      <td>2003</td>\n",
       "      <td>puzzle</td>\n",
       "      <td>0.01</td>\n",
       "      <td>0.00</td>\n",
       "      <td>0.0</td>\n",
       "      <td>0.00</td>\n",
       "      <td>53.0</td>\n",
       "      <td>tbd</td>\n",
       "      <td>e</td>\n",
       "    </tr>\n",
       "    <tr>\n",
       "      <th>16698</th>\n",
       "      <td>mega brain boost</td>\n",
       "      <td>ds</td>\n",
       "      <td>2008</td>\n",
       "      <td>puzzle</td>\n",
       "      <td>0.01</td>\n",
       "      <td>0.00</td>\n",
       "      <td>0.0</td>\n",
       "      <td>0.00</td>\n",
       "      <td>48.0</td>\n",
       "      <td>tbd</td>\n",
       "      <td>e</td>\n",
       "    </tr>\n",
       "    <tr>\n",
       "      <th>16704</th>\n",
       "      <td>plushees</td>\n",
       "      <td>ds</td>\n",
       "      <td>2008</td>\n",
       "      <td>simulation</td>\n",
       "      <td>0.01</td>\n",
       "      <td>0.00</td>\n",
       "      <td>0.0</td>\n",
       "      <td>0.00</td>\n",
       "      <td>NaN</td>\n",
       "      <td>tbd</td>\n",
       "      <td>e</td>\n",
       "    </tr>\n",
       "    <tr>\n",
       "      <th>16706</th>\n",
       "      <td>men in black ii: alien escape</td>\n",
       "      <td>gc</td>\n",
       "      <td>2003</td>\n",
       "      <td>shooter</td>\n",
       "      <td>0.01</td>\n",
       "      <td>0.00</td>\n",
       "      <td>0.0</td>\n",
       "      <td>0.00</td>\n",
       "      <td>NaN</td>\n",
       "      <td>tbd</td>\n",
       "      <td>t</td>\n",
       "    </tr>\n",
       "  </tbody>\n",
       "</table>\n",
       "<p>2424 rows × 11 columns</p>\n",
       "</div>"
      ],
      "text/plain": [
       "                                           name platform  year_of_release  \\\n",
       "119                               zumba fitness      wii             2010   \n",
       "301              namco museum: 50th anniversary      ps2             2005   \n",
       "520                             zumba fitness 2      wii             2011   \n",
       "645                                udraw studio      wii             2010   \n",
       "657    frogger's adventures: temple of the frog      gba             <NA>   \n",
       "...                                         ...      ...              ...   \n",
       "16695                           planet monsters      gba             2001   \n",
       "16697                          bust-a-move 3000       gc             2003   \n",
       "16698                          mega brain boost       ds             2008   \n",
       "16704                                  plushees       ds             2008   \n",
       "16706             men in black ii: alien escape       gc             2003   \n",
       "\n",
       "            genre  na_sales  eu_sales  jp_sales  other_sales  critic_score  \\\n",
       "119        sports      3.45      2.59       0.0         0.66           NaN   \n",
       "301          misc      2.08      1.35       0.0         0.54          61.0   \n",
       "520        sports      1.51      1.03       0.0         0.27           NaN   \n",
       "645          misc      1.65      0.57       0.0         0.20          71.0   \n",
       "657     adventure      2.15      0.18       0.0         0.07          73.0   \n",
       "...           ...       ...       ...       ...          ...           ...   \n",
       "16695      action      0.01      0.00       0.0         0.00          67.0   \n",
       "16697      puzzle      0.01      0.00       0.0         0.00          53.0   \n",
       "16698      puzzle      0.01      0.00       0.0         0.00          48.0   \n",
       "16704  simulation      0.01      0.00       0.0         0.00           NaN   \n",
       "16706     shooter      0.01      0.00       0.0         0.00           NaN   \n",
       "\n",
       "      user_score rating  \n",
       "119          tbd      e  \n",
       "301          tbd   e10+  \n",
       "520          tbd      t  \n",
       "645          tbd      e  \n",
       "657          tbd      e  \n",
       "...          ...    ...  \n",
       "16695        tbd      e  \n",
       "16697        tbd      e  \n",
       "16698        tbd      e  \n",
       "16704        tbd      e  \n",
       "16706        tbd      t  \n",
       "\n",
       "[2424 rows x 11 columns]"
      ]
     },
     "execution_count": 13,
     "metadata": {},
     "output_type": "execute_result"
    }
   ],
   "source": [
    "games[games['user_score'] == 'tbd']"
   ]
  },
  {
   "cell_type": "markdown",
   "metadata": {},
   "source": [
    "2424 строк с такм значением.\n",
    "\n",
    "'To Be Determined' - 'Будет определено'. Т.е. это то же самое, что неизвестное значение. Поэтому, можно смело заменить значение 'tbd' на 'NaN'."
   ]
  },
  {
   "cell_type": "code",
   "execution_count": 14,
   "metadata": {},
   "outputs": [],
   "source": [
    "#Заменим tbd на NaN\n",
    "games['user_score'] = games['user_score'].replace('tbd', np.nan)"
   ]
  },
  {
   "cell_type": "code",
   "execution_count": 15,
   "metadata": {},
   "outputs": [],
   "source": [
    "games['user_score'] = games['user_score'].astype('float') # Поменяем формат столбца user_score на float"
   ]
  },
  {
   "cell_type": "markdown",
   "metadata": {},
   "source": [
    "Столбец name имеет всего 2 пропуска из всего датафрейма и эти данные невозможно заполнить, то считаю возможным удалить строки с данными пропусками."
   ]
  },
  {
   "cell_type": "code",
   "execution_count": 16,
   "metadata": {},
   "outputs": [],
   "source": [
    "games = games.dropna(subset=['name'])#удаляем пропущенные значения"
   ]
  },
  {
   "cell_type": "code",
   "execution_count": 17,
   "metadata": {},
   "outputs": [
    {
     "data": {
      "text/plain": [
       "269"
      ]
     },
     "execution_count": 17,
     "metadata": {},
     "output_type": "execute_result"
    }
   ],
   "source": [
    "games['year_of_release'].isna().sum() # Посчитаем количество пустых значений в столбце year_of_release"
   ]
  },
  {
   "cell_type": "code",
   "execution_count": 18,
   "metadata": {},
   "outputs": [
    {
     "data": {
      "text/html": [
       "<div>\n",
       "<style scoped>\n",
       "    .dataframe tbody tr th:only-of-type {\n",
       "        vertical-align: middle;\n",
       "    }\n",
       "\n",
       "    .dataframe tbody tr th {\n",
       "        vertical-align: top;\n",
       "    }\n",
       "\n",
       "    .dataframe thead th {\n",
       "        text-align: right;\n",
       "    }\n",
       "</style>\n",
       "<table border=\"1\" class=\"dataframe\">\n",
       "  <thead>\n",
       "    <tr style=\"text-align: right;\">\n",
       "      <th></th>\n",
       "      <th>name</th>\n",
       "      <th>platform</th>\n",
       "      <th>year_of_release</th>\n",
       "      <th>genre</th>\n",
       "      <th>na_sales</th>\n",
       "      <th>eu_sales</th>\n",
       "      <th>jp_sales</th>\n",
       "      <th>other_sales</th>\n",
       "      <th>critic_score</th>\n",
       "      <th>user_score</th>\n",
       "      <th>rating</th>\n",
       "    </tr>\n",
       "  </thead>\n",
       "  <tbody>\n",
       "    <tr>\n",
       "      <th>183</th>\n",
       "      <td>madden nfl 2004</td>\n",
       "      <td>ps2</td>\n",
       "      <td>&lt;NA&gt;</td>\n",
       "      <td>sports</td>\n",
       "      <td>4.26</td>\n",
       "      <td>0.26</td>\n",
       "      <td>0.01</td>\n",
       "      <td>0.71</td>\n",
       "      <td>94.0</td>\n",
       "      <td>8.5</td>\n",
       "      <td>e</td>\n",
       "    </tr>\n",
       "    <tr>\n",
       "      <th>377</th>\n",
       "      <td>fifa soccer 2004</td>\n",
       "      <td>ps2</td>\n",
       "      <td>&lt;NA&gt;</td>\n",
       "      <td>sports</td>\n",
       "      <td>0.59</td>\n",
       "      <td>2.36</td>\n",
       "      <td>0.04</td>\n",
       "      <td>0.51</td>\n",
       "      <td>84.0</td>\n",
       "      <td>6.4</td>\n",
       "      <td>e</td>\n",
       "    </tr>\n",
       "    <tr>\n",
       "      <th>456</th>\n",
       "      <td>lego batman: the videogame</td>\n",
       "      <td>wii</td>\n",
       "      <td>&lt;NA&gt;</td>\n",
       "      <td>action</td>\n",
       "      <td>1.80</td>\n",
       "      <td>0.97</td>\n",
       "      <td>0.00</td>\n",
       "      <td>0.29</td>\n",
       "      <td>74.0</td>\n",
       "      <td>7.9</td>\n",
       "      <td>e10+</td>\n",
       "    </tr>\n",
       "    <tr>\n",
       "      <th>475</th>\n",
       "      <td>wwe smackdown vs. raw 2006</td>\n",
       "      <td>ps2</td>\n",
       "      <td>&lt;NA&gt;</td>\n",
       "      <td>fighting</td>\n",
       "      <td>1.57</td>\n",
       "      <td>1.02</td>\n",
       "      <td>0.00</td>\n",
       "      <td>0.41</td>\n",
       "      <td>NaN</td>\n",
       "      <td>NaN</td>\n",
       "      <td>NaN</td>\n",
       "    </tr>\n",
       "    <tr>\n",
       "      <th>609</th>\n",
       "      <td>space invaders</td>\n",
       "      <td>2600</td>\n",
       "      <td>&lt;NA&gt;</td>\n",
       "      <td>shooter</td>\n",
       "      <td>2.36</td>\n",
       "      <td>0.14</td>\n",
       "      <td>0.00</td>\n",
       "      <td>0.03</td>\n",
       "      <td>NaN</td>\n",
       "      <td>NaN</td>\n",
       "      <td>NaN</td>\n",
       "    </tr>\n",
       "  </tbody>\n",
       "</table>\n",
       "</div>"
      ],
      "text/plain": [
       "                           name platform  year_of_release     genre  na_sales  \\\n",
       "183             madden nfl 2004      ps2             <NA>    sports      4.26   \n",
       "377            fifa soccer 2004      ps2             <NA>    sports      0.59   \n",
       "456  lego batman: the videogame      wii             <NA>    action      1.80   \n",
       "475  wwe smackdown vs. raw 2006      ps2             <NA>  fighting      1.57   \n",
       "609              space invaders     2600             <NA>   shooter      2.36   \n",
       "\n",
       "     eu_sales  jp_sales  other_sales  critic_score  user_score rating  \n",
       "183      0.26      0.01         0.71          94.0         8.5      e  \n",
       "377      2.36      0.04         0.51          84.0         6.4      e  \n",
       "456      0.97      0.00         0.29          74.0         7.9   e10+  \n",
       "475      1.02      0.00         0.41           NaN         NaN    NaN  \n",
       "609      0.14      0.00         0.03           NaN         NaN    NaN  "
      ]
     },
     "metadata": {},
     "output_type": "display_data"
    }
   ],
   "source": [
    "display(games[games['year_of_release'].isna()].head())"
   ]
  },
  {
   "cell_type": "code",
   "execution_count": 19,
   "metadata": {},
   "outputs": [
    {
     "data": {
      "text/html": [
       "<div>\n",
       "<style scoped>\n",
       "    .dataframe tbody tr th:only-of-type {\n",
       "        vertical-align: middle;\n",
       "    }\n",
       "\n",
       "    .dataframe tbody tr th {\n",
       "        vertical-align: top;\n",
       "    }\n",
       "\n",
       "    .dataframe thead th {\n",
       "        text-align: right;\n",
       "    }\n",
       "</style>\n",
       "<table border=\"1\" class=\"dataframe\">\n",
       "  <thead>\n",
       "    <tr style=\"text-align: right;\">\n",
       "      <th></th>\n",
       "      <th>name</th>\n",
       "      <th>platform</th>\n",
       "      <th>year_of_release</th>\n",
       "      <th>genre</th>\n",
       "      <th>na_sales</th>\n",
       "      <th>eu_sales</th>\n",
       "      <th>jp_sales</th>\n",
       "      <th>other_sales</th>\n",
       "      <th>critic_score</th>\n",
       "      <th>user_score</th>\n",
       "      <th>rating</th>\n",
       "    </tr>\n",
       "  </thead>\n",
       "  <tbody>\n",
       "    <tr>\n",
       "      <th>183</th>\n",
       "      <td>madden nfl 2004</td>\n",
       "      <td>ps2</td>\n",
       "      <td>&lt;NA&gt;</td>\n",
       "      <td>sports</td>\n",
       "      <td>4.26</td>\n",
       "      <td>0.26</td>\n",
       "      <td>0.01</td>\n",
       "      <td>0.71</td>\n",
       "      <td>94.0</td>\n",
       "      <td>8.5</td>\n",
       "      <td>e</td>\n",
       "    </tr>\n",
       "    <tr>\n",
       "      <th>1881</th>\n",
       "      <td>madden nfl 2004</td>\n",
       "      <td>xb</td>\n",
       "      <td>2003</td>\n",
       "      <td>sports</td>\n",
       "      <td>1.02</td>\n",
       "      <td>0.02</td>\n",
       "      <td>0.00</td>\n",
       "      <td>0.05</td>\n",
       "      <td>92.0</td>\n",
       "      <td>8.3</td>\n",
       "      <td>e</td>\n",
       "    </tr>\n",
       "    <tr>\n",
       "      <th>3889</th>\n",
       "      <td>madden nfl 2004</td>\n",
       "      <td>gc</td>\n",
       "      <td>2003</td>\n",
       "      <td>sports</td>\n",
       "      <td>0.40</td>\n",
       "      <td>0.10</td>\n",
       "      <td>0.00</td>\n",
       "      <td>0.01</td>\n",
       "      <td>94.0</td>\n",
       "      <td>7.7</td>\n",
       "      <td>e</td>\n",
       "    </tr>\n",
       "    <tr>\n",
       "      <th>5708</th>\n",
       "      <td>madden nfl 2004</td>\n",
       "      <td>gba</td>\n",
       "      <td>2003</td>\n",
       "      <td>sports</td>\n",
       "      <td>0.22</td>\n",
       "      <td>0.08</td>\n",
       "      <td>0.00</td>\n",
       "      <td>0.01</td>\n",
       "      <td>70.0</td>\n",
       "      <td>6.6</td>\n",
       "      <td>e</td>\n",
       "    </tr>\n",
       "  </tbody>\n",
       "</table>\n",
       "</div>"
      ],
      "text/plain": [
       "                 name platform  year_of_release   genre  na_sales  eu_sales  \\\n",
       "183   madden nfl 2004      ps2             <NA>  sports      4.26      0.26   \n",
       "1881  madden nfl 2004       xb             2003  sports      1.02      0.02   \n",
       "3889  madden nfl 2004       gc             2003  sports      0.40      0.10   \n",
       "5708  madden nfl 2004      gba             2003  sports      0.22      0.08   \n",
       "\n",
       "      jp_sales  other_sales  critic_score  user_score rating  \n",
       "183       0.01         0.71          94.0         8.5      e  \n",
       "1881      0.00         0.05          92.0         8.3      e  \n",
       "3889      0.00         0.01          94.0         7.7      e  \n",
       "5708      0.00         0.01          70.0         6.6      e  "
      ]
     },
     "execution_count": 19,
     "metadata": {},
     "output_type": "execute_result"
    }
   ],
   "source": [
    "games.query('name == \"madden nfl 2004\"')# Возьмем одну из 269 игр с неуказанным годом и проверим, \n",
    "#выпускалась ли она на других платформах."
   ]
  },
  {
   "cell_type": "code",
   "execution_count": 20,
   "metadata": {},
   "outputs": [],
   "source": [
    "# Можно попробовать восполнить пробелы в годах за счет наличия в датасете информации об одних и тех же играх, \n",
    "#только выпущенных для разных платформ (если у какой-то из версий игры будет запись о годе)\n",
    "for i in games[games['year_of_release'].isnull() == True].index:  \n",
    "    games['year_of_release'][i] = games.loc[games['name'] == games['name'][i], 'year_of_release'].max()"
   ]
  },
  {
   "cell_type": "code",
   "execution_count": 21,
   "metadata": {},
   "outputs": [
    {
     "data": {
      "text/plain": [
       "146"
      ]
     },
     "execution_count": 21,
     "metadata": {},
     "output_type": "execute_result"
    }
   ],
   "source": [
    "games['year_of_release'].isna().sum()"
   ]
  },
  {
   "cell_type": "markdown",
   "metadata": {},
   "source": [
    "В столбце year_of_release осталось 146 пропусков. "
   ]
  },
  {
   "cell_type": "markdown",
   "metadata": {},
   "source": [
    "Столбцы 'critic_score' и 'user_score'\n",
    "\n",
    "Крупнейшие платформы, освещающие рынок игр, стали появляться во второй половине 90-х (IGN - 1996, Igromania - 1997, Metacritic - 1998). Таким образом, вполне вероятно, что далеко не всем играм, выпущенным до 1996 года, критики ставили оценки. То же самое справедливо и для столбца 'user_score'. Ведь оценки играм пользователям нужно было где-то размещать в сети. Также, так как данные не за полный 2016 год, то и там логично наблюдать пустые значения.\n",
    "\n",
    "Столбец 'raiting'\n",
    "\n",
    "Крупнейшая негосударственная организация (ESRB), присуждающая рейтинги играм была основана в 1994 году. Соответственно, далеко не всем играм, выпущенным до этого года, присуждался рейтинг."
   ]
  },
  {
   "cell_type": "code",
   "execution_count": 22,
   "metadata": {},
   "outputs": [],
   "source": [
    "games['rating'] = games['rating'].fillna('unknown') # Заполним отсутствующие значения столбца rating словом 'unknown'"
   ]
  },
  {
   "cell_type": "markdown",
   "metadata": {},
   "source": [
    "У нас к обработке столбцы critic_score и user_score - заполним пропуски значением -1."
   ]
  },
  {
   "cell_type": "code",
   "execution_count": 25,
   "metadata": {},
   "outputs": [],
   "source": [
    "games['total_sales'] = games[['na_sales','eu_sales','jp_sales', 'other_sales']].sum(axis = 1)"
   ]
  },
  {
   "cell_type": "markdown",
   "metadata": {},
   "source": [
    "## Исследовательский анализ данных"
   ]
  },
  {
   "cell_type": "markdown",
   "metadata": {},
   "source": [
    "Посмотрим, сколько игр выпускалось в разные годы."
   ]
  },
  {
   "cell_type": "code",
   "execution_count": 26,
   "metadata": {},
   "outputs": [
    {
     "data": {
      "image/png": "[encoded data removed]",
      "text/plain": [
       "<Figure size 1152x576 with 1 Axes>"
      ]
     },
     "metadata": {
      "needs_background": "light"
     },
     "output_type": "display_data"
    }
   ],
   "source": [
    "(\n",
    "    games\n",
    "    .pivot_table(index='year_of_release', values='name', aggfunc='count')\n",
    "    .plot(y='name', kind='bar', figsize=(16, 8), title='Кол-во новых игр каждый год', grid=True, color='orange', alpha=0.6, legend=False)\n",
    "    .set(xlabel='Год релиза', ylabel='Количество новых игр')\n",
    ")\n",
    "plt.show()"
   ]
  },
  {
   "cell_type": "markdown",
   "metadata": {},
   "source": [
    "До 1994 года и Pentium 1 игр практически не было. Потом они начали появляться, сначала на MS-DOS, потом уже на Windows. Резкий скачок по количеству игр, выпущенных в год, произошел в 2002 году. Пик - 2008-2009 года. После этого начался спад, связанный с развитием мобильных устройств, интеграция соц. сетей в жизнь людей. Это всё привело к тому, что интерес к самим играм упал, соответственно, упало и их производство."
   ]
  },
  {
   "cell_type": "markdown",
   "metadata": {},
   "source": [
    "Посмотрим, как менялись продажи по платформам."
   ]
  },
  {
   "cell_type": "code",
   "execution_count": 27,
   "metadata": {},
   "outputs": [
    {
     "data": {
      "text/plain": [
       "Text(0, 0.5, 'Количество продаж')"
      ]
     },
     "execution_count": 27,
     "metadata": {},
     "output_type": "execute_result"
    },
    {
     "data": {
      "image/png": "[encoded data removed]",
      "text/plain": [
       "<Figure size 936x288 with 1 Axes>"
      ]
     },
     "metadata": {
      "needs_background": "light"
     },
     "output_type": "display_data"
    }
   ],
   "source": [
    "sales_on_platform = games.pivot_table(index='platform', values='total_sales', aggfunc='sum').sort_values(\n",
    "    by='total_sales', ascending=False)\n",
    "\n",
    "plt.figure(figsize=(13,4))\n",
    "sns.barplot(x=sales_on_platform.index,y=sales_on_platform['total_sales'])\n",
    "plt.title(\"Продажи по платформам за весь период\")\n",
    "plt.xlabel(\"Название платформы\")\n",
    "plt.ylabel(\"Количество продаж\")"
   ]
  },
  {
   "cell_type": "markdown",
   "metadata": {},
   "source": [
    "Лидером является платформа PS2. Далее идут X360, PS3, Wii, DS и PS."
   ]
  },
  {
   "cell_type": "code",
   "execution_count": 28,
   "metadata": {},
   "outputs": [],
   "source": [
    "# Сформируем 6 df для каждой платформы (объём продаж под каждую платформу в каждый год)\n",
    "PS2 = games.query('platform ==\"ps2\"').pivot_table(index='year_of_release', values='total_sales', aggfunc='sum')\n",
    "X360 = games.query('platform ==\"x360\"').pivot_table(index='year_of_release', values='total_sales', aggfunc='sum')\n",
    "PS3 = games.query('platform ==\"ps3\"').pivot_table(index='year_of_release', values='total_sales', aggfunc='sum')\n",
    "Wii = games.query('platform ==\"wii\"').pivot_table(index='year_of_release', values='total_sales', aggfunc='sum')\n",
    "DS = games.query('platform ==\"ds\"').pivot_table(index='year_of_release', values='total_sales', aggfunc='sum')\n",
    "PS = games.query('platform ==\"ps\"').pivot_table(index='year_of_release', values='total_sales', aggfunc='sum')"
   ]
  },
  {
   "cell_type": "code",
   "execution_count": 29,
   "metadata": {},
   "outputs": [],
   "source": [
    "# Создадим сводную таблицу, где для каждой платформы указан ежегодный объём продаж\n",
    "top6_platform = (\n",
    "    PS.merge(PS2, how='outer', on='year_of_release')\n",
    "    .merge(X360, how='outer', on='year_of_release')\n",
    "    .merge(PS3, how='outer', on='year_of_release')\n",
    "    .merge(Wii, how='outer', on='year_of_release')\n",
    "    .merge(DS, how='outer', on='year_of_release')\n",
    ")"
   ]
  },
  {
   "cell_type": "code",
   "execution_count": 30,
   "metadata": {},
   "outputs": [],
   "source": [
    "# Переименовываем названия столбцов для убобства\n",
    "top6_platform.set_axis(['PS', 'PS2', 'X360', 'PS3', 'Wii', 'DS'], axis = 'columns', inplace = True)\n",
    "top6_platform = top6_platform.query('year_of_release >= 1994').fillna(0) # Пропуски заменяем на 0, \n",
    "#фильтруем значения от 2000 года и выше\n"
   ]
  },
  {
   "cell_type": "code",
   "execution_count": 31,
   "metadata": {},
   "outputs": [
    {
     "data": {
      "image/png": "[encoded data removed]",
      "text/plain": [
       "<Figure size 1152x576 with 1 Axes>"
      ]
     },
     "metadata": {
      "needs_background": "light"
     },
     "output_type": "display_data"
    }
   ],
   "source": [
    "# Рисую гистограмму для визуального анализа полученных результатов\n",
    "top6_platform.plot(figsize=(16, 8), title='Ежегодный объём продаж по платформам', grid=True).set(xlabel='Год релиза', ylabel='Объём продаж в млн $')\n",
    "plt.show()"
   ]
  },
  {
   "cell_type": "markdown",
   "metadata": {},
   "source": [
    "Посмотрим, сколько \"живут\" платформы для видеоигр:\n",
    "\n",
    "    PS - существовала с 1994 года до 2003 - 9 лет;\n",
    "    PS2 - с 2000 до 2011 года - 11 лет;\n",
    "    PS3 - с 2006 по настоящее время ещё живёт, но начала сильно сдавать позиции с выходом в 2013 году PS4;\n",
    "    DS - вышла в 1985, потом вообще нет данных, скорее всего, по той причине, что они не собирались. И с 2004 года популярность стала расти, пик в 2008, конец срока службы - 2013 год - 8 активных лет жизни;\n",
    "    Wii - с 2006 по нынешний день, но в 2016 уже почти изжила себя - опять 10 лет;\n",
    "    X360 с 2005 по 2016 - 11 лет.\n",
    "\n",
    "Таким образом, в среднем платформы для видеогр существуют 10 лет. В среднем актвные продажи платформ длятся 5 лет.\n"
   ]
  },
  {
   "cell_type": "markdown",
   "metadata": {},
   "source": [
    "<div class=\"alert alert-info\">\n",
    "<b></b>\n",
    "<br>Для прогноза на 2017 год за актуальный период возьмем последние 3 года (2014-2016гг.).\n",
    "</div>"
   ]
  },
  {
   "cell_type": "code",
   "execution_count": 104,
   "metadata": {},
   "outputs": [
    {
     "data": {
      "text/html": [
       "<div>\n",
       "<style scoped>\n",
       "    .dataframe tbody tr th:only-of-type {\n",
       "        vertical-align: middle;\n",
       "    }\n",
       "\n",
       "    .dataframe tbody tr th {\n",
       "        vertical-align: top;\n",
       "    }\n",
       "\n",
       "    .dataframe thead th {\n",
       "        text-align: right;\n",
       "    }\n",
       "</style>\n",
       "<table border=\"1\" class=\"dataframe\">\n",
       "  <thead>\n",
       "    <tr style=\"text-align: right;\">\n",
       "      <th></th>\n",
       "      <th>name</th>\n",
       "      <th>platform</th>\n",
       "      <th>year_of_release</th>\n",
       "      <th>genre</th>\n",
       "      <th>na_sales</th>\n",
       "      <th>eu_sales</th>\n",
       "      <th>jp_sales</th>\n",
       "      <th>other_sales</th>\n",
       "      <th>critic_score</th>\n",
       "      <th>user_score</th>\n",
       "      <th>rating</th>\n",
       "      <th>total_sales</th>\n",
       "    </tr>\n",
       "  </thead>\n",
       "  <tbody>\n",
       "    <tr>\n",
       "      <th>31</th>\n",
       "      <td>call of duty: black ops 3</td>\n",
       "      <td>ps4</td>\n",
       "      <td>2015</td>\n",
       "      <td>shooter</td>\n",
       "      <td>6.03</td>\n",
       "      <td>5.86</td>\n",
       "      <td>0.36</td>\n",
       "      <td>2.38</td>\n",
       "      <td>NaN</td>\n",
       "      <td>NaN</td>\n",
       "      <td>unknown</td>\n",
       "      <td>14.63</td>\n",
       "    </tr>\n",
       "    <tr>\n",
       "      <th>42</th>\n",
       "      <td>grand theft auto v</td>\n",
       "      <td>ps4</td>\n",
       "      <td>2014</td>\n",
       "      <td>action</td>\n",
       "      <td>3.96</td>\n",
       "      <td>6.31</td>\n",
       "      <td>0.38</td>\n",
       "      <td>1.97</td>\n",
       "      <td>97.0</td>\n",
       "      <td>8.3</td>\n",
       "      <td>m</td>\n",
       "      <td>12.62</td>\n",
       "    </tr>\n",
       "    <tr>\n",
       "      <th>47</th>\n",
       "      <td>pokemon omega ruby/pokemon alpha sapphire</td>\n",
       "      <td>3ds</td>\n",
       "      <td>2014</td>\n",
       "      <td>role-playing</td>\n",
       "      <td>4.35</td>\n",
       "      <td>3.49</td>\n",
       "      <td>3.10</td>\n",
       "      <td>0.74</td>\n",
       "      <td>NaN</td>\n",
       "      <td>NaN</td>\n",
       "      <td>unknown</td>\n",
       "      <td>11.68</td>\n",
       "    </tr>\n",
       "    <tr>\n",
       "      <th>77</th>\n",
       "      <td>fifa 16</td>\n",
       "      <td>ps4</td>\n",
       "      <td>2015</td>\n",
       "      <td>sports</td>\n",
       "      <td>1.12</td>\n",
       "      <td>6.12</td>\n",
       "      <td>0.06</td>\n",
       "      <td>1.28</td>\n",
       "      <td>82.0</td>\n",
       "      <td>4.3</td>\n",
       "      <td>e</td>\n",
       "      <td>8.58</td>\n",
       "    </tr>\n",
       "    <tr>\n",
       "      <th>87</th>\n",
       "      <td>star wars battlefront (2015)</td>\n",
       "      <td>ps4</td>\n",
       "      <td>2015</td>\n",
       "      <td>shooter</td>\n",
       "      <td>2.99</td>\n",
       "      <td>3.49</td>\n",
       "      <td>0.22</td>\n",
       "      <td>1.28</td>\n",
       "      <td>NaN</td>\n",
       "      <td>NaN</td>\n",
       "      <td>unknown</td>\n",
       "      <td>7.98</td>\n",
       "    </tr>\n",
       "    <tr>\n",
       "      <th>...</th>\n",
       "      <td>...</td>\n",
       "      <td>...</td>\n",
       "      <td>...</td>\n",
       "      <td>...</td>\n",
       "      <td>...</td>\n",
       "      <td>...</td>\n",
       "      <td>...</td>\n",
       "      <td>...</td>\n",
       "      <td>...</td>\n",
       "      <td>...</td>\n",
       "      <td>...</td>\n",
       "      <td>...</td>\n",
       "    </tr>\n",
       "    <tr>\n",
       "      <th>16703</th>\n",
       "      <td>strawberry nauts</td>\n",
       "      <td>psv</td>\n",
       "      <td>2016</td>\n",
       "      <td>adventure</td>\n",
       "      <td>0.00</td>\n",
       "      <td>0.00</td>\n",
       "      <td>0.01</td>\n",
       "      <td>0.00</td>\n",
       "      <td>NaN</td>\n",
       "      <td>NaN</td>\n",
       "      <td>unknown</td>\n",
       "      <td>0.01</td>\n",
       "    </tr>\n",
       "    <tr>\n",
       "      <th>16707</th>\n",
       "      <td>aiyoku no eustia</td>\n",
       "      <td>psv</td>\n",
       "      <td>2014</td>\n",
       "      <td>misc</td>\n",
       "      <td>0.00</td>\n",
       "      <td>0.00</td>\n",
       "      <td>0.01</td>\n",
       "      <td>0.00</td>\n",
       "      <td>NaN</td>\n",
       "      <td>NaN</td>\n",
       "      <td>unknown</td>\n",
       "      <td>0.01</td>\n",
       "    </tr>\n",
       "    <tr>\n",
       "      <th>16710</th>\n",
       "      <td>samurai warriors: sanada maru</td>\n",
       "      <td>ps3</td>\n",
       "      <td>2016</td>\n",
       "      <td>action</td>\n",
       "      <td>0.00</td>\n",
       "      <td>0.00</td>\n",
       "      <td>0.01</td>\n",
       "      <td>0.00</td>\n",
       "      <td>NaN</td>\n",
       "      <td>NaN</td>\n",
       "      <td>unknown</td>\n",
       "      <td>0.01</td>\n",
       "    </tr>\n",
       "    <tr>\n",
       "      <th>16712</th>\n",
       "      <td>haitaka no psychedelica</td>\n",
       "      <td>psv</td>\n",
       "      <td>2016</td>\n",
       "      <td>adventure</td>\n",
       "      <td>0.00</td>\n",
       "      <td>0.00</td>\n",
       "      <td>0.01</td>\n",
       "      <td>0.00</td>\n",
       "      <td>NaN</td>\n",
       "      <td>NaN</td>\n",
       "      <td>unknown</td>\n",
       "      <td>0.01</td>\n",
       "    </tr>\n",
       "    <tr>\n",
       "      <th>16714</th>\n",
       "      <td>winning post 8 2016</td>\n",
       "      <td>psv</td>\n",
       "      <td>2016</td>\n",
       "      <td>simulation</td>\n",
       "      <td>0.00</td>\n",
       "      <td>0.00</td>\n",
       "      <td>0.01</td>\n",
       "      <td>0.00</td>\n",
       "      <td>NaN</td>\n",
       "      <td>NaN</td>\n",
       "      <td>unknown</td>\n",
       "      <td>0.01</td>\n",
       "    </tr>\n",
       "  </tbody>\n",
       "</table>\n",
       "<p>1690 rows × 12 columns</p>\n",
       "</div>"
      ],
      "text/plain": [
       "                                            name platform  year_of_release  \\\n",
       "31                     call of duty: black ops 3      ps4             2015   \n",
       "42                            grand theft auto v      ps4             2014   \n",
       "47     pokemon omega ruby/pokemon alpha sapphire      3ds             2014   \n",
       "77                                       fifa 16      ps4             2015   \n",
       "87                  star wars battlefront (2015)      ps4             2015   \n",
       "...                                          ...      ...              ...   \n",
       "16703                           strawberry nauts      psv             2016   \n",
       "16707                           aiyoku no eustia      psv             2014   \n",
       "16710              samurai warriors: sanada maru      ps3             2016   \n",
       "16712                    haitaka no psychedelica      psv             2016   \n",
       "16714                        winning post 8 2016      psv             2016   \n",
       "\n",
       "              genre  na_sales  eu_sales  jp_sales  other_sales  critic_score  \\\n",
       "31          shooter      6.03      5.86      0.36         2.38           NaN   \n",
       "42           action      3.96      6.31      0.38         1.97          97.0   \n",
       "47     role-playing      4.35      3.49      3.10         0.74           NaN   \n",
       "77           sports      1.12      6.12      0.06         1.28          82.0   \n",
       "87          shooter      2.99      3.49      0.22         1.28           NaN   \n",
       "...             ...       ...       ...       ...          ...           ...   \n",
       "16703     adventure      0.00      0.00      0.01         0.00           NaN   \n",
       "16707          misc      0.00      0.00      0.01         0.00           NaN   \n",
       "16710        action      0.00      0.00      0.01         0.00           NaN   \n",
       "16712     adventure      0.00      0.00      0.01         0.00           NaN   \n",
       "16714    simulation      0.00      0.00      0.01         0.00           NaN   \n",
       "\n",
       "       user_score   rating  total_sales  \n",
       "31            NaN  unknown        14.63  \n",
       "42            8.3        m        12.62  \n",
       "47            NaN  unknown        11.68  \n",
       "77            4.3        e         8.58  \n",
       "87            NaN  unknown         7.98  \n",
       "...           ...      ...          ...  \n",
       "16703         NaN  unknown         0.01  \n",
       "16707         NaN  unknown         0.01  \n",
       "16710         NaN  unknown         0.01  \n",
       "16712         NaN  unknown         0.01  \n",
       "16714         NaN  unknown         0.01  \n",
       "\n",
       "[1690 rows x 12 columns]"
      ]
     },
     "execution_count": 104,
     "metadata": {},
     "output_type": "execute_result"
    }
   ],
   "source": [
    "# Построим ещё один график, отображающий динамику продаж по уже актуальным годам\n",
    "decline_period_data = games[games['year_of_release'] > 2013]\n",
    "decline_period_data"
   ]
  },
  {
   "cell_type": "code",
   "execution_count": 105,
   "metadata": {},
   "outputs": [
    {
     "data": {
      "image/png": "[encoded data removed]",
      "text/plain": [
       "<Figure size 1152x576 with 1 Axes>"
      ]
     },
     "metadata": {
      "needs_background": "light"
     },
     "output_type": "display_data"
    }
   ],
   "source": [
    "(\n",
    "    decline_period_data\n",
    "    .pivot_table(index='platform', values='total_sales', aggfunc='sum')\n",
    "    .sort_values('total_sales', ascending = False)\n",
    "    .plot(y='total_sales', kind='bar', figsize=(16, 8), title='Суммарный объём продаж по платформам', grid=True, color='orange', alpha=0.5, legend=False)\n",
    "    .set(xlabel='Игровая платформа', ylabel='Объём продаж в млн $')\n",
    ")\n",
    "plt.show()"
   ]
  },
  {
   "cell_type": "markdown",
   "metadata": {},
   "source": [
    "<div class=\"alert alert-info\">\n",
    "<b></b>\n",
    "<br>Выделим 3 популярные платформы за актуальный период: PS4, Xone, 3DS, т.к. у них самый большой объем продаж за 2014-2016гг..  Дальнейший анализ буду проводить на основе данных платформ.\n",
    "</div>"
   ]
  },
  {
   "cell_type": "code",
   "execution_count": 106,
   "metadata": {},
   "outputs": [
    {
     "data": {
      "text/html": [
       "<div>\n",
       "<style scoped>\n",
       "    .dataframe tbody tr th:only-of-type {\n",
       "        vertical-align: middle;\n",
       "    }\n",
       "\n",
       "    .dataframe tbody tr th {\n",
       "        vertical-align: top;\n",
       "    }\n",
       "\n",
       "    .dataframe thead th {\n",
       "        text-align: right;\n",
       "    }\n",
       "</style>\n",
       "<table border=\"1\" class=\"dataframe\">\n",
       "  <thead>\n",
       "    <tr style=\"text-align: right;\">\n",
       "      <th></th>\n",
       "      <th>name</th>\n",
       "      <th>platform</th>\n",
       "      <th>year_of_release</th>\n",
       "      <th>genre</th>\n",
       "      <th>na_sales</th>\n",
       "      <th>eu_sales</th>\n",
       "      <th>jp_sales</th>\n",
       "      <th>other_sales</th>\n",
       "      <th>critic_score</th>\n",
       "      <th>user_score</th>\n",
       "      <th>rating</th>\n",
       "      <th>total_sales</th>\n",
       "    </tr>\n",
       "  </thead>\n",
       "  <tbody>\n",
       "    <tr>\n",
       "      <th>31</th>\n",
       "      <td>call of duty: black ops 3</td>\n",
       "      <td>ps4</td>\n",
       "      <td>2015</td>\n",
       "      <td>shooter</td>\n",
       "      <td>6.03</td>\n",
       "      <td>5.86</td>\n",
       "      <td>0.36</td>\n",
       "      <td>2.38</td>\n",
       "      <td>NaN</td>\n",
       "      <td>NaN</td>\n",
       "      <td>unknown</td>\n",
       "      <td>14.63</td>\n",
       "    </tr>\n",
       "    <tr>\n",
       "      <th>42</th>\n",
       "      <td>grand theft auto v</td>\n",
       "      <td>ps4</td>\n",
       "      <td>2014</td>\n",
       "      <td>action</td>\n",
       "      <td>3.96</td>\n",
       "      <td>6.31</td>\n",
       "      <td>0.38</td>\n",
       "      <td>1.97</td>\n",
       "      <td>97.0</td>\n",
       "      <td>8.3</td>\n",
       "      <td>m</td>\n",
       "      <td>12.62</td>\n",
       "    </tr>\n",
       "    <tr>\n",
       "      <th>47</th>\n",
       "      <td>pokemon omega ruby/pokemon alpha sapphire</td>\n",
       "      <td>3ds</td>\n",
       "      <td>2014</td>\n",
       "      <td>role-playing</td>\n",
       "      <td>4.35</td>\n",
       "      <td>3.49</td>\n",
       "      <td>3.10</td>\n",
       "      <td>0.74</td>\n",
       "      <td>NaN</td>\n",
       "      <td>NaN</td>\n",
       "      <td>unknown</td>\n",
       "      <td>11.68</td>\n",
       "    </tr>\n",
       "    <tr>\n",
       "      <th>77</th>\n",
       "      <td>fifa 16</td>\n",
       "      <td>ps4</td>\n",
       "      <td>2015</td>\n",
       "      <td>sports</td>\n",
       "      <td>1.12</td>\n",
       "      <td>6.12</td>\n",
       "      <td>0.06</td>\n",
       "      <td>1.28</td>\n",
       "      <td>82.0</td>\n",
       "      <td>4.3</td>\n",
       "      <td>e</td>\n",
       "      <td>8.58</td>\n",
       "    </tr>\n",
       "    <tr>\n",
       "      <th>87</th>\n",
       "      <td>star wars battlefront (2015)</td>\n",
       "      <td>ps4</td>\n",
       "      <td>2015</td>\n",
       "      <td>shooter</td>\n",
       "      <td>2.99</td>\n",
       "      <td>3.49</td>\n",
       "      <td>0.22</td>\n",
       "      <td>1.28</td>\n",
       "      <td>NaN</td>\n",
       "      <td>NaN</td>\n",
       "      <td>unknown</td>\n",
       "      <td>7.98</td>\n",
       "    </tr>\n",
       "    <tr>\n",
       "      <th>...</th>\n",
       "      <td>...</td>\n",
       "      <td>...</td>\n",
       "      <td>...</td>\n",
       "      <td>...</td>\n",
       "      <td>...</td>\n",
       "      <td>...</td>\n",
       "      <td>...</td>\n",
       "      <td>...</td>\n",
       "      <td>...</td>\n",
       "      <td>...</td>\n",
       "      <td>...</td>\n",
       "      <td>...</td>\n",
       "    </tr>\n",
       "    <tr>\n",
       "      <th>16645</th>\n",
       "      <td>zombiu</td>\n",
       "      <td>xone</td>\n",
       "      <td>2016</td>\n",
       "      <td>action</td>\n",
       "      <td>0.00</td>\n",
       "      <td>0.01</td>\n",
       "      <td>0.00</td>\n",
       "      <td>0.00</td>\n",
       "      <td>NaN</td>\n",
       "      <td>NaN</td>\n",
       "      <td>unknown</td>\n",
       "      <td>0.01</td>\n",
       "    </tr>\n",
       "    <tr>\n",
       "      <th>16660</th>\n",
       "      <td>prison architect</td>\n",
       "      <td>xone</td>\n",
       "      <td>2016</td>\n",
       "      <td>action</td>\n",
       "      <td>0.01</td>\n",
       "      <td>0.00</td>\n",
       "      <td>0.00</td>\n",
       "      <td>0.00</td>\n",
       "      <td>74.0</td>\n",
       "      <td>6.7</td>\n",
       "      <td>unknown</td>\n",
       "      <td>0.01</td>\n",
       "    </tr>\n",
       "    <tr>\n",
       "      <th>16668</th>\n",
       "      <td>fujiko f. fujio characters: great assembly! sl...</td>\n",
       "      <td>3ds</td>\n",
       "      <td>2014</td>\n",
       "      <td>action</td>\n",
       "      <td>0.00</td>\n",
       "      <td>0.00</td>\n",
       "      <td>0.01</td>\n",
       "      <td>0.00</td>\n",
       "      <td>NaN</td>\n",
       "      <td>NaN</td>\n",
       "      <td>unknown</td>\n",
       "      <td>0.01</td>\n",
       "    </tr>\n",
       "    <tr>\n",
       "      <th>16672</th>\n",
       "      <td>metal gear solid v: the definitive experience</td>\n",
       "      <td>xone</td>\n",
       "      <td>2016</td>\n",
       "      <td>action</td>\n",
       "      <td>0.01</td>\n",
       "      <td>0.00</td>\n",
       "      <td>0.00</td>\n",
       "      <td>0.00</td>\n",
       "      <td>NaN</td>\n",
       "      <td>NaN</td>\n",
       "      <td>m</td>\n",
       "      <td>0.01</td>\n",
       "    </tr>\n",
       "    <tr>\n",
       "      <th>16677</th>\n",
       "      <td>aikatsu stars! my special appeal</td>\n",
       "      <td>3ds</td>\n",
       "      <td>2016</td>\n",
       "      <td>action</td>\n",
       "      <td>0.00</td>\n",
       "      <td>0.00</td>\n",
       "      <td>0.01</td>\n",
       "      <td>0.00</td>\n",
       "      <td>NaN</td>\n",
       "      <td>NaN</td>\n",
       "      <td>unknown</td>\n",
       "      <td>0.01</td>\n",
       "    </tr>\n",
       "  </tbody>\n",
       "</table>\n",
       "<p>816 rows × 12 columns</p>\n",
       "</div>"
      ],
      "text/plain": [
       "                                                    name platform  \\\n",
       "31                             call of duty: black ops 3      ps4   \n",
       "42                                    grand theft auto v      ps4   \n",
       "47             pokemon omega ruby/pokemon alpha sapphire      3ds   \n",
       "77                                               fifa 16      ps4   \n",
       "87                          star wars battlefront (2015)      ps4   \n",
       "...                                                  ...      ...   \n",
       "16645                                             zombiu     xone   \n",
       "16660                                   prison architect     xone   \n",
       "16668  fujiko f. fujio characters: great assembly! sl...      3ds   \n",
       "16672      metal gear solid v: the definitive experience     xone   \n",
       "16677                   aikatsu stars! my special appeal      3ds   \n",
       "\n",
       "       year_of_release         genre  na_sales  eu_sales  jp_sales  \\\n",
       "31                2015       shooter      6.03      5.86      0.36   \n",
       "42                2014        action      3.96      6.31      0.38   \n",
       "47                2014  role-playing      4.35      3.49      3.10   \n",
       "77                2015        sports      1.12      6.12      0.06   \n",
       "87                2015       shooter      2.99      3.49      0.22   \n",
       "...                ...           ...       ...       ...       ...   \n",
       "16645             2016        action      0.00      0.01      0.00   \n",
       "16660             2016        action      0.01      0.00      0.00   \n",
       "16668             2014        action      0.00      0.00      0.01   \n",
       "16672             2016        action      0.01      0.00      0.00   \n",
       "16677             2016        action      0.00      0.00      0.01   \n",
       "\n",
       "       other_sales  critic_score  user_score   rating  total_sales  \n",
       "31            2.38           NaN         NaN  unknown        14.63  \n",
       "42            1.97          97.0         8.3        m        12.62  \n",
       "47            0.74           NaN         NaN  unknown        11.68  \n",
       "77            1.28          82.0         4.3        e         8.58  \n",
       "87            1.28           NaN         NaN  unknown         7.98  \n",
       "...            ...           ...         ...      ...          ...  \n",
       "16645         0.00           NaN         NaN  unknown         0.01  \n",
       "16660         0.00          74.0         6.7  unknown         0.01  \n",
       "16668         0.00           NaN         NaN  unknown         0.01  \n",
       "16672         0.00           NaN         NaN        m         0.01  \n",
       "16677         0.00           NaN         NaN  unknown         0.01  \n",
       "\n",
       "[816 rows x 12 columns]"
      ]
     },
     "execution_count": 106,
     "metadata": {},
     "output_type": "execute_result"
    }
   ],
   "source": [
    "# Отфильтруем таблицу и оставлю только строки с топ-3 прибыльными платформами (PS4, Xone, 3DS)\n",
    "decline_period_data = decline_period_data.query('platform == \"ps4\" or platform == \"xone\" or platform == \"3ds\"')\n",
    "decline_period_data"
   ]
  },
  {
   "cell_type": "code",
   "execution_count": 107,
   "metadata": {},
   "outputs": [
    {
     "data": {
      "image/png": "[encoded data removed]",
      "text/plain": [
       "<Figure size 1152x576 with 1 Axes>"
      ]
     },
     "metadata": {
      "needs_background": "light"
     },
     "output_type": "display_data"
    }
   ],
   "source": [
    "# Строим график среднего объёма продаж для каждой игры для каждой платформы\n",
    "(\n",
    "    decline_period_data\n",
    "    .pivot_table(index=\"platform\", values=\"total_sales\", aggfunc=\"mean\")\n",
    "    .sort_values('total_sales')\n",
    "    .plot(kind=\"barh\", title=\"Среднее значение объёма продаж для каждой игры\", color='orange', alpha=0.3, figsize=(16, 8))\n",
    "    .set(ylabel='Игровая платформа', xlabel='Объём продаж в млн $')\n",
    ")\n",
    "plt.show()"
   ]
  },
  {
   "cell_type": "code",
   "execution_count": 108,
   "metadata": {},
   "outputs": [
    {
     "data": {
      "image/png": "[encoded data removed]",
      "text/plain": [
       "<Figure size 1152x360 with 1 Axes>"
      ]
     },
     "metadata": {
      "needs_background": "light"
     },
     "output_type": "display_data"
    }
   ],
   "source": [
    "# Строим график \"ящик с усами\" для каждой платформы (продажи по всем регионам)\n",
    "plt.rcParams['figure.figsize']=(16, 5)\n",
    "ax = sns.boxplot(x=\"platform\", y=\"total_sales\", data=decline_period_data, palette='rainbow_r')\n",
    "ax.set_ylim(0, 1.9)\n",
    "plt.show()"
   ]
  },
  {
   "cell_type": "code",
   "execution_count": 109,
   "metadata": {},
   "outputs": [
    {
     "data": {
      "text/html": [
       "<div>\n",
       "<style scoped>\n",
       "    .dataframe tbody tr th:only-of-type {\n",
       "        vertical-align: middle;\n",
       "    }\n",
       "\n",
       "    .dataframe tbody tr th {\n",
       "        vertical-align: top;\n",
       "    }\n",
       "\n",
       "    .dataframe thead th {\n",
       "        text-align: right;\n",
       "    }\n",
       "</style>\n",
       "<table border=\"1\" class=\"dataframe\">\n",
       "  <thead>\n",
       "    <tr style=\"text-align: right;\">\n",
       "      <th></th>\n",
       "      <th>count</th>\n",
       "      <th>mean</th>\n",
       "      <th>std</th>\n",
       "      <th>min</th>\n",
       "      <th>25%</th>\n",
       "      <th>50%</th>\n",
       "      <th>75%</th>\n",
       "      <th>max</th>\n",
       "    </tr>\n",
       "    <tr>\n",
       "      <th>platform</th>\n",
       "      <th></th>\n",
       "      <th></th>\n",
       "      <th></th>\n",
       "      <th></th>\n",
       "      <th></th>\n",
       "      <th></th>\n",
       "      <th></th>\n",
       "      <th></th>\n",
       "    </tr>\n",
       "  </thead>\n",
       "  <tbody>\n",
       "    <tr>\n",
       "      <th>3ds</th>\n",
       "      <td>212.0</td>\n",
       "      <td>0.408868</td>\n",
       "      <td>1.188368</td>\n",
       "      <td>0.01</td>\n",
       "      <td>0.0300</td>\n",
       "      <td>0.090</td>\n",
       "      <td>0.2500</td>\n",
       "      <td>11.68</td>\n",
       "    </tr>\n",
       "    <tr>\n",
       "      <th>ps4</th>\n",
       "      <td>376.0</td>\n",
       "      <td>0.766356</td>\n",
       "      <td>1.614969</td>\n",
       "      <td>0.01</td>\n",
       "      <td>0.0575</td>\n",
       "      <td>0.185</td>\n",
       "      <td>0.6900</td>\n",
       "      <td>14.63</td>\n",
       "    </tr>\n",
       "    <tr>\n",
       "      <th>xone</th>\n",
       "      <td>228.0</td>\n",
       "      <td>0.615614</td>\n",
       "      <td>1.046513</td>\n",
       "      <td>0.01</td>\n",
       "      <td>0.0500</td>\n",
       "      <td>0.205</td>\n",
       "      <td>0.6325</td>\n",
       "      <td>7.39</td>\n",
       "    </tr>\n",
       "  </tbody>\n",
       "</table>\n",
       "</div>"
      ],
      "text/plain": [
       "          count      mean       std   min     25%    50%     75%    max\n",
       "platform                                                               \n",
       "3ds       212.0  0.408868  1.188368  0.01  0.0300  0.090  0.2500  11.68\n",
       "ps4       376.0  0.766356  1.614969  0.01  0.0575  0.185  0.6900  14.63\n",
       "xone      228.0  0.615614  1.046513  0.01  0.0500  0.205  0.6325   7.39"
      ]
     },
     "execution_count": 109,
     "metadata": {},
     "output_type": "execute_result"
    }
   ],
   "source": [
    "decline_period_data.groupby('platform')['total_sales'].describe()"
   ]
  },
  {
   "cell_type": "markdown",
   "metadata": {},
   "source": [
    "<div class=\"alert alert-info\">\n",
    "<b></b>\n",
    "<br>На графике наглядно видно, что для всех 3-х платформ (PS4, Xone, 3DS) медиана расположена примерно на одном уровне (0.185; 0.205; 0.09 млн. долларов), а 3ий квартиль  различается у платформы PS4 он самый большой - 0,69. Таким образом можно сделать вывод, что для платформ Xone и PS4 суммарный объём продаж для каждой игры состоит в диапазоне от 0.05 до 0.75 млн. долларов. А платформа 3DS показывает самые низкие результаты: от 0.03 млн. долларов до 0,25. Данные диапазоны указывают на то, в каком размахе располагается основная масса значений характеризующих суммарный объём продаж для каждой игры.\n",
    "</div>\n"
   ]
  },
  {
   "cell_type": "markdown",
   "metadata": {},
   "source": [
    "Для того, чтобы посмотреть как влияют на продажи внутри одной популярной платформы отзывы пользователей и критиков, возьмем наиболее популярную платформу PS4."
   ]
  },
  {
   "cell_type": "code",
   "execution_count": 110,
   "metadata": {},
   "outputs": [
    {
     "data": {
      "text/plain": [
       "-0.031957110204556376"
      ]
     },
     "execution_count": 110,
     "metadata": {},
     "output_type": "execute_result"
    }
   ],
   "source": [
    "#Корреляция между оценками пользователей и продажами \n",
    "ps4 = games[games['platform']=='ps4']\n",
    "ps4['user_score'].corr(ps4['total_sales'])"
   ]
  },
  {
   "cell_type": "code",
   "execution_count": 111,
   "metadata": {},
   "outputs": [
    {
     "data": {
      "image/png": "[encoded data removed]",
      "text/plain": [
       "<Figure size 864x432 with 1 Axes>"
      ]
     },
     "metadata": {
      "needs_background": "light"
     },
     "output_type": "display_data"
    }
   ],
   "source": [
    "#Построим диаграмму рассеяния\n",
    "plt.figure(figsize=(12,6))\n",
    "sns.scatterplot(x='user_score', y='total_sales', data=ps4)\n",
    "plt.title('corr_ps4_users');"
   ]
  },
  {
   "cell_type": "markdown",
   "metadata": {},
   "source": [
    " Зависимость между Отзывами Пользователей и Продажами игр для платформы PS4 - отсутствует, так как коэффициент корреляции составляет -0.032, что в свою очередь означает фактическое отсутствие взаимосвязи данных параметров. "
   ]
  },
  {
   "cell_type": "code",
   "execution_count": 112,
   "metadata": {},
   "outputs": [
    {
     "data": {
      "text/plain": [
       "0.40656790206178095"
      ]
     },
     "execution_count": 112,
     "metadata": {},
     "output_type": "execute_result"
    }
   ],
   "source": [
    "#Корреляция между оценками критиков и продажами \n",
    "ps4 = games[games['platform']=='ps4']\n",
    "ps4['critic_score'].corr(ps4['total_sales'])"
   ]
  },
  {
   "cell_type": "code",
   "execution_count": 113,
   "metadata": {},
   "outputs": [
    {
     "data": {
      "image/png": "[encoded data removed]",
      "text/plain": [
       "<Figure size 864x432 with 1 Axes>"
      ]
     },
     "metadata": {
      "needs_background": "light"
     },
     "output_type": "display_data"
    }
   ],
   "source": [
    "#Построим диаграмму рассеяния по оценкам критиков \n",
    "plt.figure(figsize=(12,6))\n",
    "sns.scatterplot(x='critic_score', y='total_sales', data=ps4)\n",
    "plt.title('corr_ps4_critics');"
   ]
  },
  {
   "cell_type": "markdown",
   "metadata": {},
   "source": [
    "Зависимость между Отзывами Критиков и Продажами игр для платформы PS4 - присутствует, но она не очень высокая, так как коэффициент корреляции составляет 0.407, то есть наблюдается зависимость между положительными отзывами и увеличением объёма продаж игр, но зависимость довольна слабая, чтобы утверждать что данные показатели напрямую связаны между собой."
   ]
  },
  {
   "cell_type": "code",
   "execution_count": 114,
   "metadata": {},
   "outputs": [
    {
     "data": {
      "text/plain": [
       "-0.06892505328279414"
      ]
     },
     "execution_count": 114,
     "metadata": {},
     "output_type": "execute_result"
    }
   ],
   "source": [
    "#Корреляция между оценками пользователей и продажами \n",
    "xone = games[games['platform']=='xone']\n",
    "xone['user_score'].corr(xone['total_sales'])"
   ]
  },
  {
   "cell_type": "code",
   "execution_count": 115,
   "metadata": {},
   "outputs": [
    {
     "data": {
      "image/png": "[encoded data removed]",
      "text/plain": [
       "<Figure size 864x432 with 1 Axes>"
      ]
     },
     "metadata": {
      "needs_background": "light"
     },
     "output_type": "display_data"
    }
   ],
   "source": [
    "#Построим диаграмму рассеяния\n",
    "plt.figure(figsize=(12,6))\n",
    "sns.scatterplot(x='user_score', y='total_sales', data=xone)\n",
    "plt.title('corr_xone_users');"
   ]
  },
  {
   "cell_type": "code",
   "execution_count": 116,
   "metadata": {},
   "outputs": [
    {
     "data": {
      "text/plain": [
       "0.4169983280084017"
      ]
     },
     "execution_count": 116,
     "metadata": {},
     "output_type": "execute_result"
    }
   ],
   "source": [
    "#Корреляция между оценками критиков и продажами \n",
    "xone = games[games['platform']=='xone']\n",
    "xone['critic_score'].corr(xone['total_sales'])"
   ]
  },
  {
   "cell_type": "code",
   "execution_count": 117,
   "metadata": {},
   "outputs": [
    {
     "data": {
      "image/png": "[encoded data removed]",
      "text/plain": [
       "<Figure size 864x432 with 1 Axes>"
      ]
     },
     "metadata": {
      "needs_background": "light"
     },
     "output_type": "display_data"
    }
   ],
   "source": [
    "#Построим диаграмму рассеяния по оценкам критиков \n",
    "plt.figure(figsize=(12,6))\n",
    "sns.scatterplot(x='critic_score', y='total_sales', data=xone)\n",
    "plt.title('corr_xone_critics');"
   ]
  },
  {
   "cell_type": "code",
   "execution_count": 118,
   "metadata": {},
   "outputs": [
    {
     "data": {
      "text/plain": [
       "0.22480798039571082"
      ]
     },
     "execution_count": 118,
     "metadata": {},
     "output_type": "execute_result"
    }
   ],
   "source": [
    "#Корреляция между оценками пользователей и продажами \n",
    "_3ds = games[games['platform']=='3ds']\n",
    "_3ds['user_score'].corr(_3ds['total_sales'])"
   ]
  },
  {
   "cell_type": "code",
   "execution_count": 119,
   "metadata": {},
   "outputs": [
    {
     "data": {
      "image/png": "[encoded data removed]",
      "text/plain": [
       "<Figure size 864x432 with 1 Axes>"
      ]
     },
     "metadata": {
      "needs_background": "light"
     },
     "output_type": "display_data"
    }
   ],
   "source": [
    "#Построим диаграмму рассеяния\n",
    "plt.figure(figsize=(12,6))\n",
    "sns.scatterplot(x='user_score', y='total_sales', data=_3ds)\n",
    "plt.title('corr_3ds_users');"
   ]
  },
  {
   "cell_type": "code",
   "execution_count": 120,
   "metadata": {},
   "outputs": [
    {
     "data": {
      "text/plain": [
       "0.3494009303924131"
      ]
     },
     "execution_count": 120,
     "metadata": {},
     "output_type": "execute_result"
    }
   ],
   "source": [
    "#Корреляция между оценками критиков и продажами \n",
    "_3ds = games[games['platform']=='3ds']\n",
    "_3ds['critic_score'].corr(_3ds['total_sales'])"
   ]
  },
  {
   "cell_type": "code",
   "execution_count": 121,
   "metadata": {},
   "outputs": [
    {
     "data": {
      "image/png": "[encoded data removed]",
      "text/plain": [
       "<Figure size 864x432 with 1 Axes>"
      ]
     },
     "metadata": {
      "needs_background": "light"
     },
     "output_type": "display_data"
    }
   ],
   "source": [
    "#Построим диаграмму рассеяния по оценкам критиков \n",
    "plt.figure(figsize=(12,6))\n",
    "sns.scatterplot(x='critic_score', y='total_sales', data=_3ds)\n",
    "plt.title('corr_3ds_critics');"
   ]
  },
  {
   "cell_type": "markdown",
   "metadata": {},
   "source": [
    "У PS4, Xone, 3DS наблюдается пусть и не сильная, но всё же, связь между оценками критиков и продажами. А связь между оценками пользователей и продажами слабая у всех платформ, либо её совсем нет."
   ]
  },
  {
   "cell_type": "markdown",
   "metadata": {},
   "source": [
    "Посмотрим на общее распределение игр по жанрам."
   ]
  },
  {
   "cell_type": "markdown",
   "metadata": {},
   "source": [
    "Больше всего игр жанра Action. За ними идут игры спортивного жанра. "
   ]
  },
  {
   "cell_type": "code",
   "execution_count": 122,
   "metadata": {},
   "outputs": [
    {
     "data": {
      "image/png": "[encoded data removed]",
      "text/plain": [
       "<Figure size 1152x576 with 1 Axes>"
      ]
     },
     "metadata": {
      "needs_background": "light"
     },
     "output_type": "display_data"
    }
   ],
   "source": [
    "# Строим график среднего объёма продаж для каждой игры для каждого жанра\n",
    "(\n",
    "    decline_period_data\n",
    "    .pivot_table(index=\"genre\", values=\"total_sales\", aggfunc=\"mean\")\n",
    "    .sort_values('total_sales')\n",
    "    .plot(kind=\"barh\", title=\"Среднее значение объёма продаж для каждой игры\", color='orange', alpha=0.3, figsize=(16, 8))\n",
    "    .set(ylabel='Жанр', xlabel='Объём продаж в млн $')\n",
    ")\n",
    "plt.show()"
   ]
  },
  {
   "cell_type": "code",
   "execution_count": 123,
   "metadata": {},
   "outputs": [
    {
     "data": {
      "image/png": "[encoded data removed]",
      "text/plain": [
       "<Figure size 1152x360 with 1 Axes>"
      ]
     },
     "metadata": {
      "needs_background": "light"
     },
     "output_type": "display_data"
    }
   ],
   "source": [
    "# Строим график \"ящик с усами\" для каждой платформы (продажи по всем регионам)\n",
    "plt.rcParams['figure.figsize']=(16, 5)\n",
    "ax = sns.boxplot(x=\"genre\", y=\"total_sales\", data=decline_period_data, palette='rainbow_r')\n",
    "ax.set_ylim(0, 1.9)\n",
    "plt.show()"
   ]
  },
  {
   "cell_type": "code",
   "execution_count": 124,
   "metadata": {},
   "outputs": [
    {
     "data": {
      "text/html": [
       "<div>\n",
       "<style scoped>\n",
       "    .dataframe tbody tr th:only-of-type {\n",
       "        vertical-align: middle;\n",
       "    }\n",
       "\n",
       "    .dataframe tbody tr th {\n",
       "        vertical-align: top;\n",
       "    }\n",
       "\n",
       "    .dataframe thead th {\n",
       "        text-align: right;\n",
       "    }\n",
       "</style>\n",
       "<table border=\"1\" class=\"dataframe\">\n",
       "  <thead>\n",
       "    <tr style=\"text-align: right;\">\n",
       "      <th></th>\n",
       "      <th>count</th>\n",
       "      <th>mean</th>\n",
       "      <th>std</th>\n",
       "      <th>min</th>\n",
       "      <th>25%</th>\n",
       "      <th>50%</th>\n",
       "      <th>75%</th>\n",
       "      <th>max</th>\n",
       "    </tr>\n",
       "    <tr>\n",
       "      <th>genre</th>\n",
       "      <th></th>\n",
       "      <th></th>\n",
       "      <th></th>\n",
       "      <th></th>\n",
       "      <th></th>\n",
       "      <th></th>\n",
       "      <th></th>\n",
       "      <th></th>\n",
       "    </tr>\n",
       "  </thead>\n",
       "  <tbody>\n",
       "    <tr>\n",
       "      <th>action</th>\n",
       "      <td>310.0</td>\n",
       "      <td>0.466903</td>\n",
       "      <td>1.076693</td>\n",
       "      <td>0.01</td>\n",
       "      <td>0.0400</td>\n",
       "      <td>0.115</td>\n",
       "      <td>0.4075</td>\n",
       "      <td>12.62</td>\n",
       "    </tr>\n",
       "    <tr>\n",
       "      <th>adventure</th>\n",
       "      <td>63.0</td>\n",
       "      <td>0.168095</td>\n",
       "      <td>0.301993</td>\n",
       "      <td>0.01</td>\n",
       "      <td>0.0200</td>\n",
       "      <td>0.070</td>\n",
       "      <td>0.1450</td>\n",
       "      <td>1.66</td>\n",
       "    </tr>\n",
       "    <tr>\n",
       "      <th>fighting</th>\n",
       "      <td>27.0</td>\n",
       "      <td>0.666667</td>\n",
       "      <td>1.502749</td>\n",
       "      <td>0.02</td>\n",
       "      <td>0.0750</td>\n",
       "      <td>0.160</td>\n",
       "      <td>0.3500</td>\n",
       "      <td>7.55</td>\n",
       "    </tr>\n",
       "    <tr>\n",
       "      <th>misc</th>\n",
       "      <td>56.0</td>\n",
       "      <td>0.327857</td>\n",
       "      <td>0.681788</td>\n",
       "      <td>0.01</td>\n",
       "      <td>0.0300</td>\n",
       "      <td>0.115</td>\n",
       "      <td>0.3800</td>\n",
       "      <td>4.32</td>\n",
       "    </tr>\n",
       "    <tr>\n",
       "      <th>platform</th>\n",
       "      <td>21.0</td>\n",
       "      <td>0.477143</td>\n",
       "      <td>0.634115</td>\n",
       "      <td>0.02</td>\n",
       "      <td>0.0900</td>\n",
       "      <td>0.160</td>\n",
       "      <td>0.3400</td>\n",
       "      <td>1.91</td>\n",
       "    </tr>\n",
       "    <tr>\n",
       "      <th>puzzle</th>\n",
       "      <td>8.0</td>\n",
       "      <td>0.111250</td>\n",
       "      <td>0.153757</td>\n",
       "      <td>0.01</td>\n",
       "      <td>0.0275</td>\n",
       "      <td>0.065</td>\n",
       "      <td>0.1100</td>\n",
       "      <td>0.48</td>\n",
       "    </tr>\n",
       "    <tr>\n",
       "      <th>racing</th>\n",
       "      <td>36.0</td>\n",
       "      <td>0.473611</td>\n",
       "      <td>0.648762</td>\n",
       "      <td>0.01</td>\n",
       "      <td>0.0575</td>\n",
       "      <td>0.175</td>\n",
       "      <td>0.6475</td>\n",
       "      <td>2.42</td>\n",
       "    </tr>\n",
       "    <tr>\n",
       "      <th>role-playing</th>\n",
       "      <td>106.0</td>\n",
       "      <td>0.750566</td>\n",
       "      <td>1.629858</td>\n",
       "      <td>0.01</td>\n",
       "      <td>0.0700</td>\n",
       "      <td>0.200</td>\n",
       "      <td>0.6525</td>\n",
       "      <td>11.68</td>\n",
       "    </tr>\n",
       "    <tr>\n",
       "      <th>shooter</th>\n",
       "      <td>74.0</td>\n",
       "      <td>1.808784</td>\n",
       "      <td>2.455659</td>\n",
       "      <td>0.01</td>\n",
       "      <td>0.2100</td>\n",
       "      <td>0.820</td>\n",
       "      <td>2.2400</td>\n",
       "      <td>14.63</td>\n",
       "    </tr>\n",
       "    <tr>\n",
       "      <th>simulation</th>\n",
       "      <td>19.0</td>\n",
       "      <td>0.299474</td>\n",
       "      <td>0.680886</td>\n",
       "      <td>0.01</td>\n",
       "      <td>0.0200</td>\n",
       "      <td>0.120</td>\n",
       "      <td>0.2600</td>\n",
       "      <td>3.05</td>\n",
       "    </tr>\n",
       "    <tr>\n",
       "      <th>sports</th>\n",
       "      <td>81.0</td>\n",
       "      <td>0.926049</td>\n",
       "      <td>1.561935</td>\n",
       "      <td>0.01</td>\n",
       "      <td>0.0800</td>\n",
       "      <td>0.330</td>\n",
       "      <td>1.0300</td>\n",
       "      <td>8.58</td>\n",
       "    </tr>\n",
       "    <tr>\n",
       "      <th>strategy</th>\n",
       "      <td>15.0</td>\n",
       "      <td>0.095333</td>\n",
       "      <td>0.088468</td>\n",
       "      <td>0.02</td>\n",
       "      <td>0.0400</td>\n",
       "      <td>0.060</td>\n",
       "      <td>0.1100</td>\n",
       "      <td>0.32</td>\n",
       "    </tr>\n",
       "  </tbody>\n",
       "</table>\n",
       "</div>"
      ],
      "text/plain": [
       "              count      mean       std   min     25%    50%     75%    max\n",
       "genre                                                                      \n",
       "action        310.0  0.466903  1.076693  0.01  0.0400  0.115  0.4075  12.62\n",
       "adventure      63.0  0.168095  0.301993  0.01  0.0200  0.070  0.1450   1.66\n",
       "fighting       27.0  0.666667  1.502749  0.02  0.0750  0.160  0.3500   7.55\n",
       "misc           56.0  0.327857  0.681788  0.01  0.0300  0.115  0.3800   4.32\n",
       "platform       21.0  0.477143  0.634115  0.02  0.0900  0.160  0.3400   1.91\n",
       "puzzle          8.0  0.111250  0.153757  0.01  0.0275  0.065  0.1100   0.48\n",
       "racing         36.0  0.473611  0.648762  0.01  0.0575  0.175  0.6475   2.42\n",
       "role-playing  106.0  0.750566  1.629858  0.01  0.0700  0.200  0.6525  11.68\n",
       "shooter        74.0  1.808784  2.455659  0.01  0.2100  0.820  2.2400  14.63\n",
       "simulation     19.0  0.299474  0.680886  0.01  0.0200  0.120  0.2600   3.05\n",
       "sports         81.0  0.926049  1.561935  0.01  0.0800  0.330  1.0300   8.58\n",
       "strategy       15.0  0.095333  0.088468  0.02  0.0400  0.060  0.1100   0.32"
      ]
     },
     "execution_count": 124,
     "metadata": {},
     "output_type": "execute_result"
    }
   ],
   "source": [
    "decline_period_data.groupby('genre')['total_sales'].describe()"
   ]
  },
  {
   "cell_type": "markdown",
   "metadata": {},
   "source": [
    "За анализируемый период больше всего дохода принес жанр shooter, среднее значение почти в 2 раза больше медианы, это значит, в распределении есть длинный хвост с высокими значениями или несколько больших значений, какая-то часть игр приносит больше дохода в этом жанре, чем основная часть. \n",
    "Жанр strategy приносит стабильный доход, у него маленькое стандартное отклонение, но объемы продаж низкие."
   ]
  },
  {
   "cell_type": "markdown",
   "metadata": {},
   "source": [
    "## Портрет пользователя каждого региона"
   ]
  },
  {
   "cell_type": "code",
   "execution_count": 102,
   "metadata": {},
   "outputs": [
    {
     "data": {
      "image/png": "[encoded data removed]",
      "text/plain": [
       "<Figure size 936x936 with 1 Axes>"
      ]
     },
     "metadata": {},
     "output_type": "display_data"
    }
   ],
   "source": [
    "# формируем df со всеми платформами за Актуальный период в регионе NA\n",
    "game_data_na = games.query('year_of_release >= 2005 and na_sales > 0')\n",
    "\n",
    "# Рисуем круговую диаграмму популярности всех платформ в регионе NA\n",
    "(\n",
    "    game_data_na\n",
    "    .pivot_table(index=\"platform\", values=\"name\", aggfunc=\"count\")\n",
    "    .sort_values('name', ascending=False)\n",
    "    .plot(y=\"name\", kind=\"pie\", figsize=(13, 13), autopct='%1.1f%%')\n",
    ")\n",
    "plt.legend(bbox_to_anchor=(0.6, 0, 0.6, 0.9)) # Расположение легенды на графике\n",
    "plt.title('Распределение рынка NA по игровым платформам') # Название графика\n",
    "plt.show()"
   ]
  },
  {
   "cell_type": "markdown",
   "metadata": {},
   "source": [
    "Топ-5 наиболее популярных платформ в регионе NA: \n",
    "1. DS: 18.8% от общего объёма рынка\n",
    "2. X360: 14.3% от общего объёма рынка\n",
    "3. Wii: 14.2% от общего объёма рынка\n",
    "4. PS3: 12.6% от общего объёма рынка\n",
    "5. PS2: 8.7% от общего объёма рынка"
   ]
  },
  {
   "cell_type": "code",
   "execution_count": 103,
   "metadata": {},
   "outputs": [
    {
     "data": {
      "image/png": "[encoded data removed]",
      "text/plain": [
       "<Figure size 936x936 with 1 Axes>"
      ]
     },
     "metadata": {},
     "output_type": "display_data"
    }
   ],
   "source": [
    "# формируем df со всеми платформами за Актуальный период в регионе EU\n",
    "game_data_eu = games.query('year_of_release >= 2005 and eu_sales > 0')\n",
    "\n",
    "# Рисуем круговую диаграмму популярности всех платформ в регионе NA\n",
    "(\n",
    "    game_data_eu\n",
    "    .pivot_table(index=\"platform\", values=\"name\", aggfunc=\"count\")\n",
    "    .sort_values('name', ascending=False)\n",
    "    .plot(y=\"name\", kind=\"pie\", figsize=(13, 13), autopct='%1.1f%%')\n",
    ")\n",
    "plt.legend(bbox_to_anchor=(0.6, 0, 0.6, 0.9)) # Расположение легенды на графике\n",
    "plt.title('Распределение рынка EU по игровым платформам') # Название графика\n",
    "plt.show()"
   ]
  },
  {
   "cell_type": "markdown",
   "metadata": {},
   "source": [
    "Топ-5 наиболее популярных платформ в регионе EU: \n",
    "1. X360: 14.7% от общего объёма рынка\n",
    "2. PS3: 14.2% от общего объёма рынка\n",
    "3. PC: 11.5% от общего объёма рынка\n",
    "4. DS: 11.3% от общего объёма рынка\n",
    "5. Wii: 10.9% от общего объёма рынка"
   ]
  },
  {
   "cell_type": "code",
   "execution_count": 61,
   "metadata": {},
   "outputs": [
    {
     "data": {
      "image/png": "[encoded data removed]",
      "text/plain": [
       "<Figure size 936x936 with 1 Axes>"
      ]
     },
     "metadata": {},
     "output_type": "display_data"
    }
   ],
   "source": [
    "# формируем df со всеми платформами за Актуальный период в регионе JP\n",
    "game_data_jp = games.query('year_of_release >= 2005 and jp_sales > 0')\n",
    "\n",
    "# Рисуем круговую диаграмму популярности всех платформ в регионе NA\n",
    "(\n",
    "    game_data_jp\n",
    "    .pivot_table(index=\"platform\", values=\"name\", aggfunc=\"count\")\n",
    "    .sort_values('name', ascending=False)\n",
    "    .plot(y=\"name\", kind=\"pie\", figsize=(13, 13), autopct='%1.1f%%')\n",
    ")\n",
    "plt.legend(bbox_to_anchor=(0.6, 0, 0.6, 0.9)) # Расположение легенды на графике\n",
    "plt.title('Распределение рынка JP по игровым платформам') # Название графика\n",
    "plt.show()"
   ]
  },
  {
   "cell_type": "markdown",
   "metadata": {},
   "source": [
    "Топ-5 наиболее популярных платформ в регионе JP: \n",
    "1. PSP: 17.0% от общего объёма рынка\n",
    "2. DS: 16.8% от общего объёма рынка\n",
    "3. PS3: 16.1% от общего объёма рынка\n",
    "4. PS2: 10.9% от общего объёма рынка\n",
    "5. X360: 8.5% от общего объёма рынка"
   ]
  },
  {
   "cell_type": "code",
   "execution_count": 125,
   "metadata": {},
   "outputs": [],
   "source": [
    "# Функция для прорисовки графиков top_in_regions_plot\n",
    "def top_in_regions_plot(groupby, region_sales, ax):\n",
    "    pivot = games.groupby(groupby).agg({region_sales: 'sum'}).sort_values(by=region_sales, ascending=False)[:5]\n",
    "    title_dict = {'na_sales': 'North America Sales', 'eu_sales': 'Europe Sales', 'jp_sales': 'Japan Sales'}\n",
    "    color_dict = {'na_sales': 'orange', 'eu_sales': 'gray', 'jp_sales': 'forestgreen'}\n",
    "    plot = pivot.plot(kind='bar', ec='black', title=title_dict[region_sales], ax=axes[ax], \n",
    "                   fontsize=18, color=color_dict[region_sales], rot=20)\n",
    "    plot.legend(prop={'size':17})\n",
    "    plot.set_xlabel('')\n",
    "    plot.title.set_size(20)"
   ]
  },
  {
   "cell_type": "code",
   "execution_count": 126,
   "metadata": {},
   "outputs": [
    {
     "data": {
      "image/png": "[encoded data removed]",
      "text/plain": [
       "<Figure size 1800x432 with 3 Axes>"
      ]
     },
     "metadata": {
      "needs_background": "light"
     },
     "output_type": "display_data"
    }
   ],
   "source": [
    "#  Определение самых популярных жанров в заданных регионах\n",
    "fig, axes = plt.subplots(1, 3, figsize=(25,6))\n",
    "\n",
    "top_in_regions_plot('genre', 'na_sales', 0)\n",
    "top_in_regions_plot('genre', 'eu_sales', 1)\n",
    "top_in_regions_plot('genre', 'jp_sales', 2)"
   ]
  },
  {
   "cell_type": "markdown",
   "metadata": {},
   "source": [
    "Вкусы в Северной Америке и Европе схожи: и там, и там живут популярны жанры action, sports и shooter. В Северной Америке больше играют в platform, в Европе же чаще выбирают racing.\n",
    "\n",
    "В Японии вкус совершенно иной - на первом месте role-playing, причем с большим отрывом. Далее action и sports.\n"
   ]
  },
  {
   "cell_type": "code",
   "execution_count": 127,
   "metadata": {},
   "outputs": [
    {
     "data": {
      "image/png": "[encoded data removed]",
      "text/plain": [
       "<Figure size 1800x432 with 3 Axes>"
      ]
     },
     "metadata": {
      "needs_background": "light"
     },
     "output_type": "display_data"
    }
   ],
   "source": [
    "fig, axes = plt.subplots(1, 3, figsize=(25,6))\n",
    "\n",
    "top_in_regions_plot('rating', 'na_sales', 0)\n",
    "top_in_regions_plot('rating', 'eu_sales', 1)\n",
    "top_in_regions_plot('rating', 'jp_sales', 2)"
   ]
  },
  {
   "cell_type": "markdown",
   "metadata": {},
   "source": [
    "В Северной Америке и в Европе картина практически одинаковая. Большая часть выручки получено с игр с рейтингом E - \"Для всех\", затем идут игры без рейтинга.\n",
    "\n",
    "В Японии первое место игры без рейтинга, а вот на втором - E - \"Для всех\". "
   ]
  },
  {
   "cell_type": "markdown",
   "metadata": {},
   "source": [
    "## Проверка гипотез."
   ]
  },
  {
   "cell_type": "markdown",
   "metadata": {},
   "source": [
    "Гипотеза: Средние пользовательские рейтинги платформ Xbox One и PC одинаковые."
   ]
  },
  {
   "cell_type": "markdown",
   "metadata": {},
   "source": [
    "Сформулируем нулевые гипотезы:\n",
    "1. Нулевая гипотеза H₀: Средние пользовательские рейтинги платформ Xbox One и PC одинаковые;\n",
    "2. Альтернативная гипотеза H₁: Средние пользовательские рейтинги платформ Xbox One и PC различаются.\n",
    "\n",
    "Альтернативная гипотеза - утверждение, противоположное нулевой гипотезе. На него мы «соглашаемся» в случае, если\n",
    "нулевую гипотезу на основе имеющихся данных необходимо отвернуть.\n",
    "\n",
    "Чтобы проверить гипотезу о равенстве среднего двух генеральных совокупностей по взятым из них выборкам, воспользуюсь методом: scipy.stats.ttest_ind()."
   ]
  },
  {
   "cell_type": "code",
   "execution_count": 128,
   "metadata": {},
   "outputs": [
    {
     "data": {
      "text/plain": [
       "6.594545454545454"
      ]
     },
     "execution_count": 128,
     "metadata": {},
     "output_type": "execute_result"
    }
   ],
   "source": [
    "# Сохраним в переменных xbox_hyp и pc_hyp соответствующие данные (актуальные данные за последние 3 года)\n",
    "xone_hyp = games[(games['platform']=='xone') & (games['year_of_release']>2013)]['user_score']\n",
    "pc_hyp = games[(games['platform']=='pc') & (games['year_of_release']>2013)]['user_score']\n",
    "\n",
    "#Посчитаем средний рейтинг пользователя для xbox платформ\n",
    "xone_hyp.mean()"
   ]
  },
  {
   "cell_type": "code",
   "execution_count": 129,
   "metadata": {},
   "outputs": [
    {
     "data": {
      "text/plain": [
       "6.316260162601626"
      ]
     },
     "execution_count": 129,
     "metadata": {},
     "output_type": "execute_result"
    }
   ],
   "source": [
    "#Посчитаем средний рейтинг пользователя для PC платформ\n",
    "pc_hyp.mean()"
   ]
  },
  {
   "cell_type": "code",
   "execution_count": 130,
   "metadata": {},
   "outputs": [
    {
     "data": {
      "text/plain": [
       "1.8965188383045526"
      ]
     },
     "execution_count": 130,
     "metadata": {},
     "output_type": "execute_result"
    }
   ],
   "source": [
    "# Произведем проверку дисперсии выборок\n",
    "np.var(games[games['platform']=='xone']['user_score'])"
   ]
  },
  {
   "cell_type": "code",
   "execution_count": 131,
   "metadata": {},
   "outputs": [
    {
     "data": {
      "text/plain": [
       "2.3377471580367684"
      ]
     },
     "execution_count": 131,
     "metadata": {},
     "output_type": "execute_result"
    }
   ],
   "source": [
    "np.var(games[games['platform']=='pc']['user_score'])"
   ]
  },
  {
   "cell_type": "code",
   "execution_count": 132,
   "metadata": {},
   "outputs": [
    {
     "name": "stdout",
     "output_type": "stream",
     "text": [
      "p-значение: 0.139237120435483\n",
      "Не получилось отвергнуть нулевую гипотезу\n"
     ]
    }
   ],
   "source": [
    "#Выполним проверку гипотезы. Будем использовать метод ttest_ind\n",
    "\n",
    "alpha = .05\n",
    "\n",
    "results = st.ttest_ind(xone_hyp.dropna(), pc_hyp.dropna(), equal_var=False)\n",
    "\n",
    "print('p-значение:', results.pvalue)\n",
    "\n",
    "\n",
    "if (results.pvalue < alpha):\n",
    "    print(\"Отвергаем нулевую гипотезу\")\n",
    "else:\n",
    "    print(\"Не получилось отвергнуть нулевую гипотезу\")"
   ]
  },
  {
   "cell_type": "markdown",
   "metadata": {},
   "source": [
    "Верно следующее утверждение: средние пользовательские рейтинги платформ Xbox One и PC отличаются между собой."
   ]
  },
  {
   "cell_type": "markdown",
   "metadata": {},
   "source": [
    "Гипотеза: Средние пользовательские рейтинги жанров Action (англ. «действие», экшен-игры) и Sports (англ. «спортивные соревнования») разные."
   ]
  },
  {
   "cell_type": "markdown",
   "metadata": {},
   "source": [
    "Сформулируем нулевые гипотезы:\n",
    "1. Нулевая гипотеза H₀: Средние пользовательские рейтинги жанров Action и Sports одинаковые.\n",
    "2. Альтернативная гипотеза H₁: Средние пользовательские рейтинги жанров Action и Sports различаются."
   ]
  },
  {
   "cell_type": "code",
   "execution_count": 133,
   "metadata": {},
   "outputs": [
    {
     "data": {
      "text/plain": [
       "6.881012658227848"
      ]
     },
     "execution_count": 133,
     "metadata": {},
     "output_type": "execute_result"
    }
   ],
   "source": [
    "# Сохраним в переменных genre_action_hyp и genre_sports_hyp соответствующие данные с пользовательскими оценками\n",
    "genre_action_hyp = games[(games['genre']=='action') & (games['year_of_release']>2005)]['user_score']\n",
    "genre_sports_hyp = games[(games['genre']=='sports') & (games['year_of_release']>2005)]['user_score']\n",
    "\n",
    "#выведем среднюю оценку по жанру action\n",
    "genre_action_hyp.mean()"
   ]
  },
  {
   "cell_type": "code",
   "execution_count": 134,
   "metadata": {},
   "outputs": [
    {
     "data": {
      "text/plain": [
       "6.418621700879766"
      ]
     },
     "execution_count": 134,
     "metadata": {},
     "output_type": "execute_result"
    }
   ],
   "source": [
    "#выведем среднюю оценку по жанру спорт\n",
    "genre_sports_hyp.mean()"
   ]
  },
  {
   "cell_type": "code",
   "execution_count": 135,
   "metadata": {},
   "outputs": [
    {
     "data": {
      "text/plain": [
       "2.0306366538266296"
      ]
     },
     "execution_count": 135,
     "metadata": {},
     "output_type": "execute_result"
    }
   ],
   "source": [
    "# Произведем проверку дисперсии выборок\n",
    "np.var(games[games['genre']=='action']['user_score'])"
   ]
  },
  {
   "cell_type": "code",
   "execution_count": 136,
   "metadata": {},
   "outputs": [
    {
     "data": {
      "text/plain": [
       "2.5941606711770175"
      ]
     },
     "execution_count": 136,
     "metadata": {},
     "output_type": "execute_result"
    }
   ],
   "source": [
    "np.var(games[games['genre']=='sports']['user_score'])"
   ]
  },
  {
   "cell_type": "code",
   "execution_count": 137,
   "metadata": {},
   "outputs": [
    {
     "name": "stdout",
     "output_type": "stream",
     "text": [
      "p-значение: 3.759403504326082e-10\n",
      "Отвергаем нулевую гипотезу\n"
     ]
    }
   ],
   "source": [
    "#Выполним проверку гипотезы. Будем использовать метод ttest_ind\n",
    "\n",
    "alpha = .01\n",
    "\n",
    "results = st.ttest_ind(genre_action_hyp.dropna(), genre_sports_hyp.dropna(), equal_var=False)\n",
    "\n",
    "print('p-значение:', results.pvalue)\n",
    "\n",
    "\n",
    "if (results.pvalue < alpha):\n",
    "    print(\"Отвергаем нулевую гипотезу\")\n",
    "else:\n",
    "    print(\"Не получилось отвергнуть нулевую гипотезу\")"
   ]
  },
  {
   "cell_type": "markdown",
   "metadata": {},
   "source": [
    "Отвергли нулевую гипотезу, таким образом, у нас практически нет вероятности получить одинакове средние рейнтинги по двум жанрам."
   ]
  },
  {
   "cell_type": "markdown",
   "metadata": {},
   "source": [
    "## Вывод"
   ]
  },
  {
   "cell_type": "markdown",
   "metadata": {},
   "source": [
    "До 1994 года игр практически не было. Потом они начали появляться, сначала на MS-DOS, потом уже на Windows. Резкий скачок по количеству игр, выпущенных в год, произошел в 2002 году. Пик - 2008-2009 года. После этого начался спад, связанный с развитием мобильных устройств, интеграция соц. сетей в жизнь людей. Это всё привело к тому, что интерес к самим играм упал, соответственно, упало и их производство.\n",
    "\n",
    "В среднем платформы для видеогр существуют 10 лет. В среднем актвные продажи платформ длятся 5 лет.\n",
    "\n",
    "В период 2014-2016гг. было 3 популярных платформ: PS4, Xone, 3DS. Для всех 3-х платформ (PS4, Xone, 3DS) медиана расположена примерно на одном уровне (0.185; 0.205; 0.09 млн. долларов), а 3ий квартиль  различается у платформы PS4 он самый большой - 0,69. Таким образом можно сделать вывод, что для платформ Xone и PS4 суммарный объём продаж для каждой игры состоит в диапазоне от 0.05 до 0.75 млн. долларов. А платформа 3DS показывает самые низкие результаты: от 0.03 млн. долларов до 0,25. Данные диапазоны указывают на то, в каком размахе располагается основная масса значений характеризующих суммарный объём продаж для каждой игры.\n",
    "\n",
    "У PS4, Xone, 3DS наблюдается пусть и не сильная, но всё же, связь между оценками критиков и продажами. А связь между оценками пользователей и продажами слабая у всех платформ, либо её совсем нет.\n",
    "\n",
    "Наиболее популярны платформы для видеоигр в Северной америке: DS-18.8%, X360-14.3%, Wii-14.2%, в Европе: X360-14.7%, PS3-14.2%, PC-11.5% доли популярности платформ в Европе практически не отличаются, в Японии: PSP -17%, DS-16.8%, PS-16.1%. Вкусы в Северной Америке и Европе схожи: и там, и там живут популярны жанры action, sports и shooter. В Северной Америке больше играют в platform, в Европе же чаще выбирают racing. В Японии вкус совершенно иной - на первом месте role-playing, причем с большим отрывом. Далее action и sports. В Северной Америке и в Европе картина практически одинаковая. Большая часть выручки получено с игр с рейтингом E - \"Для всех\", затем идут игры без рейтинга. В Японии первое место игры без рейтинга, а вот на втором - E - \"Для всех\". \n"
   ]
  }
 ],
 "metadata": {
  "ExecuteTimeLog": [
   {
    "duration": 661,
    "start_time": "2022-10-19T16:33:34.399Z"
   },
   {
    "duration": 108,
    "start_time": "2022-10-19T16:34:18.958Z"
   },
   {
    "duration": 220,
    "start_time": "2022-10-19T16:34:36.702Z"
   },
   {
    "duration": 49,
    "start_time": "2022-10-19T16:35:14.709Z"
   },
   {
    "duration": 49,
    "start_time": "2022-10-19T16:35:22.835Z"
   },
   {
    "duration": 51,
    "start_time": "2022-10-19T16:35:29.888Z"
   },
   {
    "duration": 67,
    "start_time": "2022-10-19T16:35:38.953Z"
   },
   {
    "duration": 22,
    "start_time": "2022-10-19T16:37:50.226Z"
   },
   {
    "duration": 17,
    "start_time": "2022-10-19T16:38:03.939Z"
   },
   {
    "duration": 58,
    "start_time": "2022-10-19T16:40:52.806Z"
   },
   {
    "duration": 20,
    "start_time": "2022-10-19T16:41:07.041Z"
   },
   {
    "duration": 8,
    "start_time": "2022-10-19T16:51:48.736Z"
   },
   {
    "duration": 7,
    "start_time": "2022-10-19T16:52:30.868Z"
   },
   {
    "duration": 3,
    "start_time": "2022-10-19T16:59:23.901Z"
   },
   {
    "duration": 5,
    "start_time": "2022-10-19T17:00:00.345Z"
   },
   {
    "duration": 5,
    "start_time": "2022-10-19T17:07:57.129Z"
   },
   {
    "duration": 5,
    "start_time": "2022-10-19T17:17:03.312Z"
   },
   {
    "duration": 40,
    "start_time": "2022-10-22T14:46:07.003Z"
   },
   {
    "duration": 7,
    "start_time": "2022-10-22T14:46:24.745Z"
   },
   {
    "duration": 741,
    "start_time": "2022-10-22T14:46:40.431Z"
   },
   {
    "duration": 208,
    "start_time": "2022-10-22T14:46:41.174Z"
   },
   {
    "duration": 19,
    "start_time": "2022-10-22T14:46:41.384Z"
   },
   {
    "duration": 7,
    "start_time": "2022-10-22T14:46:41.405Z"
   },
   {
    "duration": 5,
    "start_time": "2022-10-22T14:46:41.414Z"
   },
   {
    "duration": 6,
    "start_time": "2022-10-22T14:46:41.420Z"
   },
   {
    "duration": 69,
    "start_time": "2022-10-22T14:46:41.427Z"
   },
   {
    "duration": 609,
    "start_time": "2022-10-22T14:51:05.397Z"
   },
   {
    "duration": 65,
    "start_time": "2022-10-22T14:51:06.008Z"
   },
   {
    "duration": 22,
    "start_time": "2022-10-22T14:51:06.075Z"
   },
   {
    "duration": 17,
    "start_time": "2022-10-22T14:51:06.099Z"
   },
   {
    "duration": 11,
    "start_time": "2022-10-22T14:51:06.122Z"
   },
   {
    "duration": 6,
    "start_time": "2022-10-22T14:51:06.135Z"
   },
   {
    "duration": 7,
    "start_time": "2022-10-22T14:51:06.143Z"
   },
   {
    "duration": 78,
    "start_time": "2022-10-22T14:59:36.628Z"
   },
   {
    "duration": 3,
    "start_time": "2022-10-22T15:00:03.777Z"
   },
   {
    "duration": 8,
    "start_time": "2022-10-22T15:03:57.729Z"
   },
   {
    "duration": 7,
    "start_time": "2022-10-22T15:04:32.930Z"
   },
   {
    "duration": 7,
    "start_time": "2022-10-22T15:05:38.312Z"
   },
   {
    "duration": 7,
    "start_time": "2022-10-22T15:10:08.179Z"
   },
   {
    "duration": 596,
    "start_time": "2022-10-22T15:11:06.816Z"
   },
   {
    "duration": 63,
    "start_time": "2022-10-22T15:11:07.414Z"
   },
   {
    "duration": 19,
    "start_time": "2022-10-22T15:11:07.479Z"
   },
   {
    "duration": 19,
    "start_time": "2022-10-22T15:11:07.500Z"
   },
   {
    "duration": 7,
    "start_time": "2022-10-22T15:11:07.520Z"
   },
   {
    "duration": 5,
    "start_time": "2022-10-22T15:11:07.528Z"
   },
   {
    "duration": 6,
    "start_time": "2022-10-22T15:11:07.534Z"
   },
   {
    "duration": 5,
    "start_time": "2022-10-22T15:11:07.541Z"
   },
   {
    "duration": 80,
    "start_time": "2022-10-22T15:11:07.547Z"
   },
   {
    "duration": 4,
    "start_time": "2022-10-22T15:11:22.159Z"
   },
   {
    "duration": 4,
    "start_time": "2022-10-22T15:18:00.748Z"
   },
   {
    "duration": 1249,
    "start_time": "2022-10-22T15:41:07.448Z"
   },
   {
    "duration": 647,
    "start_time": "2022-10-22T15:41:23.420Z"
   },
   {
    "duration": 65,
    "start_time": "2022-10-22T15:41:24.069Z"
   },
   {
    "duration": 22,
    "start_time": "2022-10-22T15:41:24.136Z"
   },
   {
    "duration": 7,
    "start_time": "2022-10-22T15:41:24.160Z"
   },
   {
    "duration": 19,
    "start_time": "2022-10-22T15:41:24.169Z"
   },
   {
    "duration": 8,
    "start_time": "2022-10-22T15:41:24.190Z"
   },
   {
    "duration": 23,
    "start_time": "2022-10-22T15:41:24.200Z"
   },
   {
    "duration": 3,
    "start_time": "2022-10-22T15:41:24.225Z"
   },
   {
    "duration": 6,
    "start_time": "2022-10-22T15:41:24.230Z"
   },
   {
    "duration": 5,
    "start_time": "2022-10-22T15:41:24.239Z"
   },
   {
    "duration": 4,
    "start_time": "2022-10-22T15:41:24.245Z"
   },
   {
    "duration": 19,
    "start_time": "2022-10-22T15:43:05.416Z"
   },
   {
    "duration": 5,
    "start_time": "2022-10-22T15:49:49.434Z"
   },
   {
    "duration": 11,
    "start_time": "2022-10-22T15:51:23.909Z"
   },
   {
    "duration": 16,
    "start_time": "2022-10-22T15:51:46.142Z"
   },
   {
    "duration": 14,
    "start_time": "2022-10-22T15:52:39.942Z"
   },
   {
    "duration": 21,
    "start_time": "2022-10-22T15:52:50.136Z"
   },
   {
    "duration": 65,
    "start_time": "2022-10-22T15:56:24.485Z"
   },
   {
    "duration": 22,
    "start_time": "2022-10-22T15:57:37.661Z"
   },
   {
    "duration": 6,
    "start_time": "2022-10-22T15:58:07.858Z"
   },
   {
    "duration": 5,
    "start_time": "2022-10-22T15:58:12.349Z"
   },
   {
    "duration": 22,
    "start_time": "2022-10-22T15:58:21.136Z"
   },
   {
    "duration": 7,
    "start_time": "2022-10-22T15:59:04.408Z"
   },
   {
    "duration": 615,
    "start_time": "2022-10-22T16:00:36.631Z"
   },
   {
    "duration": 58,
    "start_time": "2022-10-22T16:00:37.248Z"
   },
   {
    "duration": 19,
    "start_time": "2022-10-22T16:00:37.308Z"
   },
   {
    "duration": 12,
    "start_time": "2022-10-22T16:00:37.328Z"
   },
   {
    "duration": 44,
    "start_time": "2022-10-22T16:00:37.342Z"
   },
   {
    "duration": 10,
    "start_time": "2022-10-22T16:00:37.388Z"
   },
   {
    "duration": 15,
    "start_time": "2022-10-22T16:00:37.400Z"
   },
   {
    "duration": 6,
    "start_time": "2022-10-22T16:00:37.416Z"
   },
   {
    "duration": 27,
    "start_time": "2022-10-22T16:00:37.423Z"
   },
   {
    "duration": 34,
    "start_time": "2022-10-22T16:00:37.452Z"
   },
   {
    "duration": 16,
    "start_time": "2022-10-22T16:00:37.488Z"
   },
   {
    "duration": 22,
    "start_time": "2022-10-22T16:00:37.506Z"
   },
   {
    "duration": 30,
    "start_time": "2022-10-22T16:00:37.529Z"
   },
   {
    "duration": 5,
    "start_time": "2022-10-22T16:00:37.561Z"
   },
   {
    "duration": 7,
    "start_time": "2022-10-22T16:02:11.550Z"
   },
   {
    "duration": 10,
    "start_time": "2022-10-22T16:06:48.070Z"
   },
   {
    "duration": 15,
    "start_time": "2022-10-22T16:07:37.624Z"
   },
   {
    "duration": 15,
    "start_time": "2022-10-22T16:08:27.235Z"
   },
   {
    "duration": 5,
    "start_time": "2022-10-22T16:13:30.546Z"
   },
   {
    "duration": 4,
    "start_time": "2022-10-22T16:14:58.401Z"
   },
   {
    "duration": 5,
    "start_time": "2022-10-22T16:28:15.952Z"
   },
   {
    "duration": 250,
    "start_time": "2022-10-22T16:35:37.223Z"
   },
   {
    "duration": 60,
    "start_time": "2022-10-22T16:35:46.916Z"
   },
   {
    "duration": 15,
    "start_time": "2022-10-22T16:36:30.537Z"
   },
   {
    "duration": 23,
    "start_time": "2022-10-22T16:36:41.925Z"
   },
   {
    "duration": 37,
    "start_time": "2022-10-22T16:37:06.124Z"
   },
   {
    "duration": 11,
    "start_time": "2022-10-22T16:37:36.329Z"
   },
   {
    "duration": 16,
    "start_time": "2022-10-22T16:38:25.558Z"
   },
   {
    "duration": 70,
    "start_time": "2022-10-22T16:39:50.597Z"
   },
   {
    "duration": 8,
    "start_time": "2022-10-22T16:40:06.771Z"
   },
   {
    "duration": 20,
    "start_time": "2022-10-22T16:41:56.036Z"
   },
   {
    "duration": 18,
    "start_time": "2022-10-22T16:43:24.822Z"
   },
   {
    "duration": 16,
    "start_time": "2022-10-22T16:44:00.145Z"
   },
   {
    "duration": 317,
    "start_time": "2022-10-22T16:46:16.066Z"
   },
   {
    "duration": 4,
    "start_time": "2022-10-22T16:46:35.532Z"
   },
   {
    "duration": 10,
    "start_time": "2022-10-22T16:52:24.069Z"
   },
   {
    "duration": 18,
    "start_time": "2022-10-22T16:56:03.135Z"
   },
   {
    "duration": 21,
    "start_time": "2022-10-22T16:56:15.320Z"
   },
   {
    "duration": 9,
    "start_time": "2022-10-22T16:58:25.927Z"
   },
   {
    "duration": 5,
    "start_time": "2022-10-22T16:58:37.027Z"
   },
   {
    "duration": 4,
    "start_time": "2022-10-22T16:59:09.245Z"
   },
   {
    "duration": 20,
    "start_time": "2022-10-22T16:59:18.891Z"
   },
   {
    "duration": 20,
    "start_time": "2022-10-22T17:33:32.445Z"
   },
   {
    "duration": 1030,
    "start_time": "2022-10-22T17:34:48.956Z"
   },
   {
    "duration": 61,
    "start_time": "2022-10-22T17:34:49.988Z"
   },
   {
    "duration": 18,
    "start_time": "2022-10-22T17:34:50.051Z"
   },
   {
    "duration": 26,
    "start_time": "2022-10-22T17:34:50.071Z"
   },
   {
    "duration": 23,
    "start_time": "2022-10-22T17:34:50.099Z"
   },
   {
    "duration": 9,
    "start_time": "2022-10-22T17:34:50.123Z"
   },
   {
    "duration": 6,
    "start_time": "2022-10-22T17:34:50.133Z"
   },
   {
    "duration": 4,
    "start_time": "2022-10-22T17:34:50.141Z"
   },
   {
    "duration": 9,
    "start_time": "2022-10-22T17:34:50.146Z"
   },
   {
    "duration": 23,
    "start_time": "2022-10-22T17:34:50.157Z"
   },
   {
    "duration": 3,
    "start_time": "2022-10-22T17:34:50.181Z"
   },
   {
    "duration": 7,
    "start_time": "2022-10-22T17:34:50.186Z"
   },
   {
    "duration": 45,
    "start_time": "2022-10-22T17:34:50.194Z"
   },
   {
    "duration": 4,
    "start_time": "2022-10-22T17:34:50.240Z"
   },
   {
    "duration": 8,
    "start_time": "2022-10-22T17:34:50.246Z"
   },
   {
    "duration": 12,
    "start_time": "2022-10-22T17:34:50.256Z"
   },
   {
    "duration": 4,
    "start_time": "2022-10-22T17:34:50.269Z"
   },
   {
    "duration": 15,
    "start_time": "2022-10-22T17:34:50.275Z"
   },
   {
    "duration": 34,
    "start_time": "2022-10-22T17:34:50.292Z"
   },
   {
    "duration": 295,
    "start_time": "2022-10-22T17:34:50.328Z"
   },
   {
    "duration": 5,
    "start_time": "2022-10-22T17:34:50.625Z"
   },
   {
    "duration": 7,
    "start_time": "2022-10-22T17:34:50.631Z"
   },
   {
    "duration": 225,
    "start_time": "2022-10-22T17:34:50.639Z"
   },
   {
    "duration": 206,
    "start_time": "2022-10-22T17:35:15.843Z"
   },
   {
    "duration": 217,
    "start_time": "2022-10-22T17:35:25.583Z"
   },
   {
    "duration": 213,
    "start_time": "2022-10-22T17:35:31.501Z"
   },
   {
    "duration": 227,
    "start_time": "2022-10-22T17:35:38.838Z"
   },
   {
    "duration": 346,
    "start_time": "2022-10-22T17:42:41.355Z"
   },
   {
    "duration": 44,
    "start_time": "2022-10-23T11:58:35.909Z"
   },
   {
    "duration": 1259,
    "start_time": "2022-10-23T11:58:43.279Z"
   },
   {
    "duration": 78,
    "start_time": "2022-10-23T11:58:44.540Z"
   },
   {
    "duration": 19,
    "start_time": "2022-10-23T11:58:44.620Z"
   },
   {
    "duration": 30,
    "start_time": "2022-10-23T11:58:44.641Z"
   },
   {
    "duration": 30,
    "start_time": "2022-10-23T11:58:44.672Z"
   },
   {
    "duration": 16,
    "start_time": "2022-10-23T11:58:44.704Z"
   },
   {
    "duration": 25,
    "start_time": "2022-10-23T11:58:44.721Z"
   },
   {
    "duration": 9,
    "start_time": "2022-10-23T11:58:44.748Z"
   },
   {
    "duration": 25,
    "start_time": "2022-10-23T11:58:44.758Z"
   },
   {
    "duration": 46,
    "start_time": "2022-10-23T11:58:44.785Z"
   },
   {
    "duration": 21,
    "start_time": "2022-10-23T11:58:44.833Z"
   },
   {
    "duration": 23,
    "start_time": "2022-10-23T11:58:44.855Z"
   },
   {
    "duration": 29,
    "start_time": "2022-10-23T11:58:44.880Z"
   },
   {
    "duration": 15,
    "start_time": "2022-10-23T11:58:44.911Z"
   },
   {
    "duration": 11,
    "start_time": "2022-10-23T11:58:44.927Z"
   },
   {
    "duration": 26,
    "start_time": "2022-10-23T11:58:44.940Z"
   },
   {
    "duration": 19,
    "start_time": "2022-10-23T11:58:44.968Z"
   },
   {
    "duration": 34,
    "start_time": "2022-10-23T11:58:44.989Z"
   },
   {
    "duration": 37,
    "start_time": "2022-10-23T11:58:45.025Z"
   },
   {
    "duration": 312,
    "start_time": "2022-10-23T11:58:45.064Z"
   },
   {
    "duration": 5,
    "start_time": "2022-10-23T11:58:45.378Z"
   },
   {
    "duration": 20,
    "start_time": "2022-10-23T11:58:45.385Z"
   },
   {
    "duration": 222,
    "start_time": "2022-10-23T11:58:45.406Z"
   },
   {
    "duration": 367,
    "start_time": "2022-10-23T11:58:45.630Z"
   },
   {
    "duration": 4,
    "start_time": "2022-10-23T11:58:45.999Z"
   },
   {
    "duration": 3,
    "start_time": "2022-10-23T12:01:05.800Z"
   },
   {
    "duration": 3,
    "start_time": "2022-10-23T12:01:09.504Z"
   },
   {
    "duration": 4,
    "start_time": "2022-10-23T12:01:33.169Z"
   },
   {
    "duration": 5836,
    "start_time": "2022-10-23T12:02:00.561Z"
   },
   {
    "duration": 92,
    "start_time": "2022-10-23T12:05:04.263Z"
   },
   {
    "duration": 14,
    "start_time": "2022-10-23T12:05:40.103Z"
   },
   {
    "duration": 11,
    "start_time": "2022-10-23T12:08:29.873Z"
   },
   {
    "duration": 389,
    "start_time": "2022-10-23T12:09:21.411Z"
   },
   {
    "duration": 384,
    "start_time": "2022-10-23T12:09:46.137Z"
   },
   {
    "duration": 1034,
    "start_time": "2022-10-23T12:10:25.072Z"
   },
   {
    "duration": 49,
    "start_time": "2022-10-23T12:10:26.107Z"
   },
   {
    "duration": 20,
    "start_time": "2022-10-23T12:10:26.157Z"
   },
   {
    "duration": 6,
    "start_time": "2022-10-23T12:10:26.179Z"
   },
   {
    "duration": 19,
    "start_time": "2022-10-23T12:10:26.187Z"
   },
   {
    "duration": 9,
    "start_time": "2022-10-23T12:10:26.221Z"
   },
   {
    "duration": 12,
    "start_time": "2022-10-23T12:10:26.231Z"
   },
   {
    "duration": 5,
    "start_time": "2022-10-23T12:10:26.245Z"
   },
   {
    "duration": 19,
    "start_time": "2022-10-23T12:10:26.251Z"
   },
   {
    "duration": 22,
    "start_time": "2022-10-23T12:10:26.273Z"
   },
   {
    "duration": 4,
    "start_time": "2022-10-23T12:10:26.297Z"
   },
   {
    "duration": 18,
    "start_time": "2022-10-23T12:10:26.303Z"
   },
   {
    "duration": 20,
    "start_time": "2022-10-23T12:10:26.323Z"
   },
   {
    "duration": 4,
    "start_time": "2022-10-23T12:10:26.344Z"
   },
   {
    "duration": 10,
    "start_time": "2022-10-23T12:10:26.349Z"
   },
   {
    "duration": 12,
    "start_time": "2022-10-23T12:10:26.360Z"
   },
   {
    "duration": 5,
    "start_time": "2022-10-23T12:10:26.374Z"
   },
   {
    "duration": 20,
    "start_time": "2022-10-23T12:10:26.380Z"
   },
   {
    "duration": 34,
    "start_time": "2022-10-23T12:10:26.401Z"
   },
   {
    "duration": 313,
    "start_time": "2022-10-23T12:10:26.437Z"
   },
   {
    "duration": 4,
    "start_time": "2022-10-23T12:10:26.752Z"
   },
   {
    "duration": 13,
    "start_time": "2022-10-23T12:10:26.757Z"
   },
   {
    "duration": 340,
    "start_time": "2022-10-23T12:10:26.772Z"
   },
   {
    "duration": 304,
    "start_time": "2022-10-23T12:10:27.120Z"
   },
   {
    "duration": 4,
    "start_time": "2022-10-23T12:10:27.425Z"
   },
   {
    "duration": 21,
    "start_time": "2022-10-23T12:10:27.430Z"
   },
   {
    "duration": 4969,
    "start_time": "2022-10-23T12:10:27.453Z"
   },
   {
    "duration": 92,
    "start_time": "2022-10-23T12:12:43.451Z"
   },
   {
    "duration": 41,
    "start_time": "2022-10-23T12:16:43.092Z"
   },
   {
    "duration": 15,
    "start_time": "2022-10-23T12:19:51.576Z"
   },
   {
    "duration": 6,
    "start_time": "2022-10-23T12:21:30.466Z"
   },
   {
    "duration": 245,
    "start_time": "2022-10-23T12:21:50.710Z"
   },
   {
    "duration": 16,
    "start_time": "2022-10-23T12:29:12.434Z"
   },
   {
    "duration": 7,
    "start_time": "2022-10-23T12:29:13.914Z"
   },
   {
    "duration": 216,
    "start_time": "2022-10-23T12:29:15.098Z"
   },
   {
    "duration": 14,
    "start_time": "2022-10-23T12:29:28.353Z"
   },
   {
    "duration": 49,
    "start_time": "2022-10-23T12:34:42.100Z"
   },
   {
    "duration": 20,
    "start_time": "2022-10-23T12:35:09.461Z"
   },
   {
    "duration": 5,
    "start_time": "2022-10-23T12:35:44.497Z"
   },
   {
    "duration": 211,
    "start_time": "2022-10-23T12:35:55.383Z"
   },
   {
    "duration": 6,
    "start_time": "2022-10-23T12:36:30.964Z"
   },
   {
    "duration": 205,
    "start_time": "2022-10-23T12:36:32.297Z"
   },
   {
    "duration": 15,
    "start_time": "2022-10-23T12:37:02.098Z"
   },
   {
    "duration": 14,
    "start_time": "2022-10-23T12:38:20.750Z"
   },
   {
    "duration": 245,
    "start_time": "2022-10-23T12:38:25.192Z"
   },
   {
    "duration": 194,
    "start_time": "2022-10-23T12:38:37.749Z"
   },
   {
    "duration": 18,
    "start_time": "2022-10-23T12:39:17.606Z"
   },
   {
    "duration": 6,
    "start_time": "2022-10-23T12:39:20.175Z"
   },
   {
    "duration": 225,
    "start_time": "2022-10-23T12:39:22.470Z"
   },
   {
    "duration": 6,
    "start_time": "2022-10-23T12:39:49.978Z"
   },
   {
    "duration": 211,
    "start_time": "2022-10-23T12:39:50.925Z"
   },
   {
    "duration": 12,
    "start_time": "2022-10-23T12:50:33.117Z"
   },
   {
    "duration": 767,
    "start_time": "2022-10-23T12:52:47.032Z"
   },
   {
    "duration": 804,
    "start_time": "2022-10-23T12:53:10.751Z"
   },
   {
    "duration": 651,
    "start_time": "2022-10-23T12:53:22.814Z"
   },
   {
    "duration": 691,
    "start_time": "2022-10-23T12:55:06.497Z"
   },
   {
    "duration": 874,
    "start_time": "2022-10-23T12:56:23.866Z"
   },
   {
    "duration": 21,
    "start_time": "2022-10-23T12:57:15.721Z"
   },
   {
    "duration": 7,
    "start_time": "2022-10-23T12:57:17.038Z"
   },
   {
    "duration": 288,
    "start_time": "2022-10-23T12:57:18.782Z"
   },
   {
    "duration": 19,
    "start_time": "2022-10-23T12:57:22.134Z"
   },
   {
    "duration": 19,
    "start_time": "2022-10-23T13:13:47.474Z"
   },
   {
    "duration": 5,
    "start_time": "2022-10-23T13:13:50.234Z"
   },
   {
    "duration": 224,
    "start_time": "2022-10-23T13:13:52.857Z"
   },
   {
    "duration": 19,
    "start_time": "2022-10-23T13:16:10.098Z"
   },
   {
    "duration": 5,
    "start_time": "2022-10-23T13:16:54.698Z"
   },
   {
    "duration": 233,
    "start_time": "2022-10-23T13:16:57.799Z"
   },
   {
    "duration": 17,
    "start_time": "2022-10-23T13:17:02.469Z"
   },
   {
    "duration": 28,
    "start_time": "2022-10-23T13:22:07.728Z"
   },
   {
    "duration": 7,
    "start_time": "2022-10-23T13:22:09.060Z"
   },
   {
    "duration": 241,
    "start_time": "2022-10-23T13:22:10.073Z"
   },
   {
    "duration": 28,
    "start_time": "2022-10-23T13:22:26.344Z"
   },
   {
    "duration": 1110,
    "start_time": "2022-10-23T13:23:26.695Z"
   },
   {
    "duration": 55,
    "start_time": "2022-10-23T13:23:27.807Z"
   },
   {
    "duration": 19,
    "start_time": "2022-10-23T13:23:27.864Z"
   },
   {
    "duration": 5,
    "start_time": "2022-10-23T13:23:27.885Z"
   },
   {
    "duration": 33,
    "start_time": "2022-10-23T13:23:27.892Z"
   },
   {
    "duration": 8,
    "start_time": "2022-10-23T13:23:27.927Z"
   },
   {
    "duration": 10,
    "start_time": "2022-10-23T13:23:27.937Z"
   },
   {
    "duration": 6,
    "start_time": "2022-10-23T13:23:27.948Z"
   },
   {
    "duration": 8,
    "start_time": "2022-10-23T13:23:27.955Z"
   },
   {
    "duration": 28,
    "start_time": "2022-10-23T13:23:27.965Z"
   },
   {
    "duration": 5,
    "start_time": "2022-10-23T13:23:27.994Z"
   },
   {
    "duration": 25,
    "start_time": "2022-10-23T13:23:28.000Z"
   },
   {
    "duration": 29,
    "start_time": "2022-10-23T13:23:28.027Z"
   },
   {
    "duration": 5,
    "start_time": "2022-10-23T13:23:28.057Z"
   },
   {
    "duration": 14,
    "start_time": "2022-10-23T13:23:28.063Z"
   },
   {
    "duration": 13,
    "start_time": "2022-10-23T13:23:28.080Z"
   },
   {
    "duration": 27,
    "start_time": "2022-10-23T13:23:28.096Z"
   },
   {
    "duration": 19,
    "start_time": "2022-10-23T13:23:28.125Z"
   },
   {
    "duration": 25,
    "start_time": "2022-10-23T13:23:28.146Z"
   },
   {
    "duration": 314,
    "start_time": "2022-10-23T13:23:28.173Z"
   },
   {
    "duration": 4,
    "start_time": "2022-10-23T13:23:28.489Z"
   },
   {
    "duration": 24,
    "start_time": "2022-10-23T13:23:28.495Z"
   },
   {
    "duration": 407,
    "start_time": "2022-10-23T13:23:28.520Z"
   },
   {
    "duration": 377,
    "start_time": "2022-10-23T13:23:28.928Z"
   },
   {
    "duration": 51,
    "start_time": "2022-10-23T13:23:29.306Z"
   },
   {
    "duration": 19,
    "start_time": "2022-10-23T13:23:29.358Z"
   },
   {
    "duration": 5,
    "start_time": "2022-10-23T13:23:29.378Z"
   },
   {
    "duration": 238,
    "start_time": "2022-10-23T13:23:29.386Z"
   },
   {
    "duration": 18,
    "start_time": "2022-10-23T13:23:29.626Z"
   },
   {
    "duration": 28,
    "start_time": "2022-10-23T13:25:22.120Z"
   },
   {
    "duration": 8,
    "start_time": "2022-10-23T13:25:23.803Z"
   },
   {
    "duration": 218,
    "start_time": "2022-10-23T13:25:25.866Z"
   },
   {
    "duration": 17,
    "start_time": "2022-10-23T13:25:31.346Z"
   },
   {
    "duration": 1084,
    "start_time": "2022-10-23T13:25:45.738Z"
   },
   {
    "duration": 50,
    "start_time": "2022-10-23T13:25:46.825Z"
   },
   {
    "duration": 22,
    "start_time": "2022-10-23T13:25:46.877Z"
   },
   {
    "duration": 7,
    "start_time": "2022-10-23T13:25:46.901Z"
   },
   {
    "duration": 33,
    "start_time": "2022-10-23T13:25:46.920Z"
   },
   {
    "duration": 9,
    "start_time": "2022-10-23T13:25:46.954Z"
   },
   {
    "duration": 7,
    "start_time": "2022-10-23T13:25:46.966Z"
   },
   {
    "duration": 6,
    "start_time": "2022-10-23T13:25:46.975Z"
   },
   {
    "duration": 8,
    "start_time": "2022-10-23T13:25:46.983Z"
   },
   {
    "duration": 39,
    "start_time": "2022-10-23T13:25:46.994Z"
   },
   {
    "duration": 6,
    "start_time": "2022-10-23T13:25:47.035Z"
   },
   {
    "duration": 6,
    "start_time": "2022-10-23T13:25:47.043Z"
   },
   {
    "duration": 24,
    "start_time": "2022-10-23T13:25:47.051Z"
   },
   {
    "duration": 5,
    "start_time": "2022-10-23T13:25:47.076Z"
   },
   {
    "duration": 11,
    "start_time": "2022-10-23T13:25:47.082Z"
   },
   {
    "duration": 33,
    "start_time": "2022-10-23T13:25:47.095Z"
   },
   {
    "duration": 17,
    "start_time": "2022-10-23T13:25:47.130Z"
   },
   {
    "duration": 22,
    "start_time": "2022-10-23T13:25:47.149Z"
   },
   {
    "duration": 18,
    "start_time": "2022-10-23T13:25:47.173Z"
   },
   {
    "duration": 338,
    "start_time": "2022-10-23T13:25:47.192Z"
   },
   {
    "duration": 4,
    "start_time": "2022-10-23T13:25:47.532Z"
   },
   {
    "duration": 16,
    "start_time": "2022-10-23T13:25:47.538Z"
   },
   {
    "duration": 376,
    "start_time": "2022-10-23T13:25:47.556Z"
   },
   {
    "duration": 342,
    "start_time": "2022-10-23T13:25:47.933Z"
   },
   {
    "duration": 56,
    "start_time": "2022-10-23T13:25:48.276Z"
   },
   {
    "duration": 20,
    "start_time": "2022-10-23T13:25:48.334Z"
   },
   {
    "duration": 13,
    "start_time": "2022-10-23T13:25:48.356Z"
   },
   {
    "duration": 255,
    "start_time": "2022-10-23T13:25:48.372Z"
   },
   {
    "duration": 18,
    "start_time": "2022-10-23T13:25:48.629Z"
   },
   {
    "duration": 21,
    "start_time": "2022-10-23T13:44:39.428Z"
   },
   {
    "duration": 37,
    "start_time": "2022-10-23T13:44:53.845Z"
   },
   {
    "duration": 100,
    "start_time": "2022-10-23T13:47:37.878Z"
   },
   {
    "duration": 233,
    "start_time": "2022-10-23T13:48:48.395Z"
   },
   {
    "duration": 342,
    "start_time": "2022-10-23T13:50:34.437Z"
   },
   {
    "duration": 11,
    "start_time": "2022-10-23T14:00:03.700Z"
   },
   {
    "duration": 39,
    "start_time": "2022-10-23T14:00:22.864Z"
   },
   {
    "duration": 291,
    "start_time": "2022-10-23T14:04:54.822Z"
   },
   {
    "duration": 10,
    "start_time": "2022-10-23T14:05:55.663Z"
   },
   {
    "duration": 173,
    "start_time": "2022-10-23T14:06:27.357Z"
   },
   {
    "duration": 27,
    "start_time": "2022-10-23T14:14:49.450Z"
   },
   {
    "duration": 184,
    "start_time": "2022-10-23T14:28:20.343Z"
   },
   {
    "duration": 8,
    "start_time": "2022-10-23T14:41:18.329Z"
   },
   {
    "duration": 155,
    "start_time": "2022-10-23T14:42:10.288Z"
   },
   {
    "duration": 150,
    "start_time": "2022-10-23T14:42:19.616Z"
   },
   {
    "duration": 162,
    "start_time": "2022-10-23T14:42:28.002Z"
   },
   {
    "duration": 150,
    "start_time": "2022-10-23T14:42:33.812Z"
   },
   {
    "duration": 8,
    "start_time": "2022-10-23T14:43:09.659Z"
   },
   {
    "duration": 10,
    "start_time": "2022-10-23T14:43:24.946Z"
   },
   {
    "duration": 152,
    "start_time": "2022-10-23T14:43:34.776Z"
   },
   {
    "duration": 156,
    "start_time": "2022-10-23T14:43:40.521Z"
   },
   {
    "duration": 134,
    "start_time": "2022-10-23T14:57:42.298Z"
   },
   {
    "duration": 156,
    "start_time": "2022-10-23T14:57:45.415Z"
   },
   {
    "duration": 8,
    "start_time": "2022-10-23T15:48:48.597Z"
   },
   {
    "duration": 141,
    "start_time": "2022-10-23T15:48:51.306Z"
   },
   {
    "duration": 9,
    "start_time": "2022-10-23T15:49:21.087Z"
   },
   {
    "duration": 236,
    "start_time": "2022-10-23T15:49:23.131Z"
   },
   {
    "duration": 1213,
    "start_time": "2022-10-23T15:57:23.913Z"
   },
   {
    "duration": 55,
    "start_time": "2022-10-23T15:57:25.128Z"
   },
   {
    "duration": 24,
    "start_time": "2022-10-23T15:57:25.184Z"
   },
   {
    "duration": 14,
    "start_time": "2022-10-23T15:57:25.210Z"
   },
   {
    "duration": 24,
    "start_time": "2022-10-23T15:57:25.225Z"
   },
   {
    "duration": 11,
    "start_time": "2022-10-23T15:57:25.250Z"
   },
   {
    "duration": 9,
    "start_time": "2022-10-23T15:57:25.263Z"
   },
   {
    "duration": 5,
    "start_time": "2022-10-23T15:57:25.274Z"
   },
   {
    "duration": 11,
    "start_time": "2022-10-23T15:57:25.280Z"
   },
   {
    "duration": 44,
    "start_time": "2022-10-23T15:57:25.294Z"
   },
   {
    "duration": 4,
    "start_time": "2022-10-23T15:57:25.340Z"
   },
   {
    "duration": 9,
    "start_time": "2022-10-23T15:57:25.346Z"
   },
   {
    "duration": 25,
    "start_time": "2022-10-23T15:57:25.356Z"
   },
   {
    "duration": 5,
    "start_time": "2022-10-23T15:57:25.383Z"
   },
   {
    "duration": 35,
    "start_time": "2022-10-23T15:57:25.390Z"
   },
   {
    "duration": 18,
    "start_time": "2022-10-23T15:57:25.426Z"
   },
   {
    "duration": 7,
    "start_time": "2022-10-23T15:57:25.446Z"
   },
   {
    "duration": 17,
    "start_time": "2022-10-23T15:57:25.455Z"
   },
   {
    "duration": 18,
    "start_time": "2022-10-23T15:57:25.474Z"
   },
   {
    "duration": 354,
    "start_time": "2022-10-23T15:57:25.494Z"
   },
   {
    "duration": 5,
    "start_time": "2022-10-23T15:57:25.849Z"
   },
   {
    "duration": 15,
    "start_time": "2022-10-23T15:57:25.856Z"
   },
   {
    "duration": 368,
    "start_time": "2022-10-23T15:57:25.873Z"
   },
   {
    "duration": 330,
    "start_time": "2022-10-23T15:57:26.242Z"
   },
   {
    "duration": 57,
    "start_time": "2022-10-23T15:57:26.574Z"
   },
   {
    "duration": 21,
    "start_time": "2022-10-23T15:57:26.632Z"
   },
   {
    "duration": 10,
    "start_time": "2022-10-23T15:57:26.654Z"
   },
   {
    "duration": 240,
    "start_time": "2022-10-23T15:57:26.668Z"
   },
   {
    "duration": 31,
    "start_time": "2022-10-23T15:57:26.910Z"
   },
   {
    "duration": 231,
    "start_time": "2022-10-23T15:57:26.943Z"
   },
   {
    "duration": 27,
    "start_time": "2022-10-23T15:57:27.176Z"
   },
   {
    "duration": 180,
    "start_time": "2022-10-23T15:57:27.220Z"
   },
   {
    "duration": 186,
    "start_time": "2022-10-23T15:57:27.401Z"
   },
   {
    "duration": 33,
    "start_time": "2022-10-23T15:57:27.589Z"
   },
   {
    "duration": 8,
    "start_time": "2022-10-23T15:57:27.623Z"
   },
   {
    "duration": 258,
    "start_time": "2022-10-23T15:57:27.633Z"
   },
   {
    "duration": 8,
    "start_time": "2022-10-23T15:57:27.893Z"
   },
   {
    "duration": 179,
    "start_time": "2022-10-23T15:57:27.902Z"
   },
   {
    "duration": 8,
    "start_time": "2022-10-23T15:57:28.083Z"
   },
   {
    "duration": 153,
    "start_time": "2022-10-23T15:57:28.093Z"
   },
   {
    "duration": 8,
    "start_time": "2022-10-23T15:57:28.248Z"
   },
   {
    "duration": 173,
    "start_time": "2022-10-23T15:57:28.257Z"
   },
   {
    "duration": 8,
    "start_time": "2022-10-23T15:57:28.432Z"
   },
   {
    "duration": 154,
    "start_time": "2022-10-23T15:57:28.441Z"
   },
   {
    "duration": 8,
    "start_time": "2022-10-23T15:57:28.596Z"
   },
   {
    "duration": 153,
    "start_time": "2022-10-23T15:57:28.605Z"
   },
   {
    "duration": 8,
    "start_time": "2022-10-23T15:57:28.760Z"
   },
   {
    "duration": 175,
    "start_time": "2022-10-23T15:57:28.769Z"
   },
   {
    "duration": 10,
    "start_time": "2022-10-23T15:57:28.946Z"
   },
   {
    "duration": 216,
    "start_time": "2022-10-23T15:57:28.958Z"
   },
   {
    "duration": 9,
    "start_time": "2022-10-23T15:57:29.177Z"
   },
   {
    "duration": 169,
    "start_time": "2022-10-23T15:57:29.188Z"
   },
   {
    "duration": 9,
    "start_time": "2022-10-23T15:57:29.360Z"
   },
   {
    "duration": 174,
    "start_time": "2022-10-23T15:57:29.371Z"
   },
   {
    "duration": 230,
    "start_time": "2022-10-23T16:05:23.419Z"
   },
   {
    "duration": 239,
    "start_time": "2022-10-23T16:10:28.527Z"
   },
   {
    "duration": 262,
    "start_time": "2022-10-23T16:11:17.921Z"
   },
   {
    "duration": 9,
    "start_time": "2022-10-23T16:17:18.063Z"
   },
   {
    "duration": 7,
    "start_time": "2022-10-23T16:20:44.689Z"
   },
   {
    "duration": 12,
    "start_time": "2022-10-23T16:21:02.396Z"
   },
   {
    "duration": 546,
    "start_time": "2022-10-23T16:21:35.621Z"
   },
   {
    "duration": 4,
    "start_time": "2022-10-23T16:27:15.224Z"
   },
   {
    "duration": 304,
    "start_time": "2022-10-23T16:28:00.206Z"
   },
   {
    "duration": 5,
    "start_time": "2022-10-23T16:29:08.041Z"
   },
   {
    "duration": 277,
    "start_time": "2022-10-23T16:29:09.470Z"
   },
   {
    "duration": 4,
    "start_time": "2022-10-23T16:38:59.697Z"
   },
   {
    "duration": 290,
    "start_time": "2022-10-23T16:39:01.575Z"
   },
   {
    "duration": 4,
    "start_time": "2022-10-23T16:39:32.448Z"
   },
   {
    "duration": 385,
    "start_time": "2022-10-23T16:39:33.855Z"
   },
   {
    "duration": 526,
    "start_time": "2022-10-23T16:44:09.337Z"
   },
   {
    "duration": 455,
    "start_time": "2022-10-23T16:51:45.961Z"
   },
   {
    "duration": 569,
    "start_time": "2022-10-23T16:55:14.429Z"
   },
   {
    "duration": 367,
    "start_time": "2022-10-23T16:58:15.376Z"
   },
   {
    "duration": 399,
    "start_time": "2022-10-23T17:06:14.885Z"
   },
   {
    "duration": 5,
    "start_time": "2022-10-23T17:15:41.089Z"
   },
   {
    "duration": 1118,
    "start_time": "2022-10-23T17:15:49.811Z"
   },
   {
    "duration": 49,
    "start_time": "2022-10-23T17:15:50.931Z"
   },
   {
    "duration": 19,
    "start_time": "2022-10-23T17:15:50.982Z"
   },
   {
    "duration": 19,
    "start_time": "2022-10-23T17:15:51.004Z"
   },
   {
    "duration": 48,
    "start_time": "2022-10-23T17:15:51.025Z"
   },
   {
    "duration": 19,
    "start_time": "2022-10-23T17:15:51.075Z"
   },
   {
    "duration": 13,
    "start_time": "2022-10-23T17:15:51.096Z"
   },
   {
    "duration": 47,
    "start_time": "2022-10-23T17:15:51.111Z"
   },
   {
    "duration": 32,
    "start_time": "2022-10-23T17:15:51.160Z"
   },
   {
    "duration": 38,
    "start_time": "2022-10-23T17:15:51.194Z"
   },
   {
    "duration": 49,
    "start_time": "2022-10-23T17:15:51.233Z"
   },
   {
    "duration": 27,
    "start_time": "2022-10-23T17:15:51.283Z"
   },
   {
    "duration": 47,
    "start_time": "2022-10-23T17:15:51.312Z"
   },
   {
    "duration": 17,
    "start_time": "2022-10-23T17:15:51.360Z"
   },
   {
    "duration": 18,
    "start_time": "2022-10-23T17:15:51.378Z"
   },
   {
    "duration": 61,
    "start_time": "2022-10-23T17:15:51.397Z"
   },
   {
    "duration": 12,
    "start_time": "2022-10-23T17:15:51.460Z"
   },
   {
    "duration": 22,
    "start_time": "2022-10-23T17:15:51.473Z"
   },
   {
    "duration": 48,
    "start_time": "2022-10-23T17:15:51.497Z"
   },
   {
    "duration": 356,
    "start_time": "2022-10-23T17:15:51.547Z"
   },
   {
    "duration": 5,
    "start_time": "2022-10-23T17:15:51.904Z"
   },
   {
    "duration": 6,
    "start_time": "2022-10-23T17:15:51.920Z"
   },
   {
    "duration": 18,
    "start_time": "2022-10-23T17:15:51.928Z"
   },
   {
    "duration": 357,
    "start_time": "2022-10-23T17:15:51.948Z"
   },
   {
    "duration": 319,
    "start_time": "2022-10-23T17:15:52.307Z"
   },
   {
    "duration": 62,
    "start_time": "2022-10-23T17:15:52.627Z"
   },
   {
    "duration": 35,
    "start_time": "2022-10-23T17:15:52.691Z"
   },
   {
    "duration": 7,
    "start_time": "2022-10-23T17:15:52.730Z"
   },
   {
    "duration": 247,
    "start_time": "2022-10-23T17:15:52.739Z"
   },
   {
    "duration": 33,
    "start_time": "2022-10-23T17:15:52.989Z"
   },
   {
    "duration": 252,
    "start_time": "2022-10-23T17:15:53.024Z"
   },
   {
    "duration": 28,
    "start_time": "2022-10-23T17:15:53.278Z"
   },
   {
    "duration": 192,
    "start_time": "2022-10-23T17:15:53.308Z"
   },
   {
    "duration": 176,
    "start_time": "2022-10-23T17:15:53.501Z"
   },
   {
    "duration": 24,
    "start_time": "2022-10-23T17:15:53.679Z"
   },
   {
    "duration": 19,
    "start_time": "2022-10-23T17:15:53.705Z"
   },
   {
    "duration": 244,
    "start_time": "2022-10-23T17:15:53.725Z"
   },
   {
    "duration": 7,
    "start_time": "2022-10-23T17:15:53.971Z"
   },
   {
    "duration": 172,
    "start_time": "2022-10-23T17:15:53.980Z"
   },
   {
    "duration": 8,
    "start_time": "2022-10-23T17:15:54.154Z"
   },
   {
    "duration": 162,
    "start_time": "2022-10-23T17:15:54.163Z"
   },
   {
    "duration": 10,
    "start_time": "2022-10-23T17:15:54.326Z"
   },
   {
    "duration": 168,
    "start_time": "2022-10-23T17:15:54.338Z"
   },
   {
    "duration": 14,
    "start_time": "2022-10-23T17:15:54.508Z"
   },
   {
    "duration": 141,
    "start_time": "2022-10-23T17:15:54.523Z"
   },
   {
    "duration": 7,
    "start_time": "2022-10-23T17:15:54.666Z"
   },
   {
    "duration": 147,
    "start_time": "2022-10-23T17:15:54.675Z"
   },
   {
    "duration": 7,
    "start_time": "2022-10-23T17:15:54.824Z"
   },
   {
    "duration": 146,
    "start_time": "2022-10-23T17:15:54.832Z"
   },
   {
    "duration": 7,
    "start_time": "2022-10-23T17:15:54.980Z"
   },
   {
    "duration": 150,
    "start_time": "2022-10-23T17:15:54.989Z"
   },
   {
    "duration": 8,
    "start_time": "2022-10-23T17:15:55.141Z"
   },
   {
    "duration": 150,
    "start_time": "2022-10-23T17:15:55.150Z"
   },
   {
    "duration": 20,
    "start_time": "2022-10-23T17:15:55.301Z"
   },
   {
    "duration": 166,
    "start_time": "2022-10-23T17:15:55.322Z"
   },
   {
    "duration": 230,
    "start_time": "2022-10-23T17:15:55.490Z"
   },
   {
    "duration": 443,
    "start_time": "2022-10-23T17:15:55.722Z"
   },
   {
    "duration": 518,
    "start_time": "2022-10-23T17:15:56.167Z"
   },
   {
    "duration": 460,
    "start_time": "2022-10-23T17:15:56.687Z"
   },
   {
    "duration": 4,
    "start_time": "2022-10-23T17:15:57.149Z"
   },
   {
    "duration": 477,
    "start_time": "2022-10-23T17:15:57.154Z"
   },
   {
    "duration": 399,
    "start_time": "2022-10-23T17:15:57.633Z"
   },
   {
    "duration": 94,
    "start_time": "2022-10-23T17:36:48.311Z"
   },
   {
    "duration": 32,
    "start_time": "2022-10-23T17:40:29.363Z"
   },
   {
    "duration": 19,
    "start_time": "2022-10-23T17:41:23.983Z"
   },
   {
    "duration": 12,
    "start_time": "2022-10-23T17:43:41.431Z"
   },
   {
    "duration": 5,
    "start_time": "2022-10-23T17:46:37.596Z"
   },
   {
    "duration": 9,
    "start_time": "2022-10-23T17:46:43.254Z"
   },
   {
    "duration": 14,
    "start_time": "2022-10-23T17:46:51.061Z"
   },
   {
    "duration": 1140,
    "start_time": "2022-10-23T17:46:58.359Z"
   },
   {
    "duration": 48,
    "start_time": "2022-10-23T17:46:59.501Z"
   },
   {
    "duration": 18,
    "start_time": "2022-10-23T17:46:59.551Z"
   },
   {
    "duration": 5,
    "start_time": "2022-10-23T17:46:59.571Z"
   },
   {
    "duration": 20,
    "start_time": "2022-10-23T17:46:59.578Z"
   },
   {
    "duration": 20,
    "start_time": "2022-10-23T17:46:59.600Z"
   },
   {
    "duration": 6,
    "start_time": "2022-10-23T17:46:59.622Z"
   },
   {
    "duration": 8,
    "start_time": "2022-10-23T17:46:59.630Z"
   },
   {
    "duration": 7,
    "start_time": "2022-10-23T17:46:59.639Z"
   },
   {
    "duration": 21,
    "start_time": "2022-10-23T17:46:59.648Z"
   },
   {
    "duration": 4,
    "start_time": "2022-10-23T17:46:59.671Z"
   },
   {
    "duration": 22,
    "start_time": "2022-10-23T17:46:59.676Z"
   },
   {
    "duration": 30,
    "start_time": "2022-10-23T17:46:59.700Z"
   },
   {
    "duration": 4,
    "start_time": "2022-10-23T17:46:59.732Z"
   },
   {
    "duration": 8,
    "start_time": "2022-10-23T17:46:59.737Z"
   },
   {
    "duration": 14,
    "start_time": "2022-10-23T17:46:59.746Z"
   },
   {
    "duration": 10,
    "start_time": "2022-10-23T17:46:59.762Z"
   },
   {
    "duration": 21,
    "start_time": "2022-10-23T17:46:59.773Z"
   },
   {
    "duration": 29,
    "start_time": "2022-10-23T17:46:59.796Z"
   },
   {
    "duration": 330,
    "start_time": "2022-10-23T17:46:59.827Z"
   },
   {
    "duration": 4,
    "start_time": "2022-10-23T17:47:00.159Z"
   },
   {
    "duration": 17,
    "start_time": "2022-10-23T17:47:00.164Z"
   },
   {
    "duration": 48,
    "start_time": "2022-10-23T17:47:00.183Z"
   },
   {
    "duration": 50,
    "start_time": "2022-10-23T17:47:00.232Z"
   },
   {
    "duration": 430,
    "start_time": "2022-10-23T17:47:00.283Z"
   },
   {
    "duration": 325,
    "start_time": "2022-10-23T17:47:00.715Z"
   },
   {
    "duration": 48,
    "start_time": "2022-10-23T17:47:01.042Z"
   },
   {
    "duration": 35,
    "start_time": "2022-10-23T17:47:01.096Z"
   },
   {
    "duration": 50,
    "start_time": "2022-10-23T17:47:01.133Z"
   },
   {
    "duration": 261,
    "start_time": "2022-10-23T17:47:01.185Z"
   },
   {
    "duration": 28,
    "start_time": "2022-10-23T17:47:01.448Z"
   },
   {
    "duration": 272,
    "start_time": "2022-10-23T17:47:01.477Z"
   },
   {
    "duration": 27,
    "start_time": "2022-10-23T17:47:01.751Z"
   },
   {
    "duration": 220,
    "start_time": "2022-10-23T17:47:01.779Z"
   },
   {
    "duration": 176,
    "start_time": "2022-10-23T17:47:02.000Z"
   },
   {
    "duration": 24,
    "start_time": "2022-10-23T17:47:02.178Z"
   },
   {
    "duration": 20,
    "start_time": "2022-10-23T17:47:02.203Z"
   },
   {
    "duration": 234,
    "start_time": "2022-10-23T17:47:02.225Z"
   },
   {
    "duration": 8,
    "start_time": "2022-10-23T17:47:02.461Z"
   },
   {
    "duration": 176,
    "start_time": "2022-10-23T17:47:02.470Z"
   },
   {
    "duration": 10,
    "start_time": "2022-10-23T17:47:02.648Z"
   },
   {
    "duration": 154,
    "start_time": "2022-10-23T17:47:02.659Z"
   },
   {
    "duration": 9,
    "start_time": "2022-10-23T17:47:02.815Z"
   },
   {
    "duration": 150,
    "start_time": "2022-10-23T17:47:02.826Z"
   },
   {
    "duration": 9,
    "start_time": "2022-10-23T17:47:02.977Z"
   },
   {
    "duration": 158,
    "start_time": "2022-10-23T17:47:02.988Z"
   },
   {
    "duration": 8,
    "start_time": "2022-10-23T17:47:03.148Z"
   },
   {
    "duration": 150,
    "start_time": "2022-10-23T17:47:03.157Z"
   },
   {
    "duration": 14,
    "start_time": "2022-10-23T17:47:03.309Z"
   },
   {
    "duration": 140,
    "start_time": "2022-10-23T17:47:03.324Z"
   },
   {
    "duration": 9,
    "start_time": "2022-10-23T17:47:03.466Z"
   },
   {
    "duration": 156,
    "start_time": "2022-10-23T17:47:03.477Z"
   },
   {
    "duration": 8,
    "start_time": "2022-10-23T17:47:03.635Z"
   },
   {
    "duration": 179,
    "start_time": "2022-10-23T17:47:03.645Z"
   },
   {
    "duration": 10,
    "start_time": "2022-10-23T17:47:03.825Z"
   },
   {
    "duration": 161,
    "start_time": "2022-10-23T17:47:03.836Z"
   },
   {
    "duration": 242,
    "start_time": "2022-10-23T17:47:03.999Z"
   },
   {
    "duration": 446,
    "start_time": "2022-10-23T17:47:04.242Z"
   },
   {
    "duration": 530,
    "start_time": "2022-10-23T17:47:04.690Z"
   },
   {
    "duration": 447,
    "start_time": "2022-10-23T17:47:05.222Z"
   },
   {
    "duration": 5,
    "start_time": "2022-10-23T17:47:05.671Z"
   },
   {
    "duration": 403,
    "start_time": "2022-10-23T17:47:05.678Z"
   },
   {
    "duration": 388,
    "start_time": "2022-10-23T17:47:06.083Z"
   },
   {
    "duration": 106,
    "start_time": "2022-10-23T17:47:06.472Z"
   },
   {
    "duration": 3,
    "start_time": "2022-10-23T17:49:31.601Z"
   },
   {
    "duration": 11,
    "start_time": "2022-10-23T17:49:43.482Z"
   },
   {
    "duration": 20,
    "start_time": "2022-10-23T17:51:35.813Z"
   },
   {
    "duration": 17,
    "start_time": "2022-10-23T17:52:42.592Z"
   },
   {
    "duration": 17,
    "start_time": "2022-10-23T17:53:36.434Z"
   },
   {
    "duration": 11,
    "start_time": "2022-10-23T17:57:11.704Z"
   },
   {
    "duration": 4,
    "start_time": "2022-10-23T17:57:28.087Z"
   },
   {
    "duration": 7,
    "start_time": "2022-10-23T17:57:46.276Z"
   },
   {
    "duration": 8,
    "start_time": "2022-10-23T17:58:13.730Z"
   },
   {
    "duration": 9,
    "start_time": "2022-10-23T17:58:41.506Z"
   },
   {
    "duration": 2,
    "start_time": "2022-10-23T17:59:49.700Z"
   },
   {
    "duration": 5,
    "start_time": "2022-10-23T17:59:58.124Z"
   },
   {
    "duration": 1174,
    "start_time": "2022-10-23T18:01:36.327Z"
   },
   {
    "duration": 49,
    "start_time": "2022-10-23T18:01:37.503Z"
   },
   {
    "duration": 20,
    "start_time": "2022-10-23T18:01:37.553Z"
   },
   {
    "duration": 19,
    "start_time": "2022-10-23T18:01:37.575Z"
   },
   {
    "duration": 39,
    "start_time": "2022-10-23T18:01:37.595Z"
   },
   {
    "duration": 19,
    "start_time": "2022-10-23T18:01:37.635Z"
   },
   {
    "duration": 15,
    "start_time": "2022-10-23T18:01:37.656Z"
   },
   {
    "duration": 15,
    "start_time": "2022-10-23T18:01:37.673Z"
   },
   {
    "duration": 19,
    "start_time": "2022-10-23T18:01:37.690Z"
   },
   {
    "duration": 34,
    "start_time": "2022-10-23T18:01:37.713Z"
   },
   {
    "duration": 4,
    "start_time": "2022-10-23T18:01:37.749Z"
   },
   {
    "duration": 32,
    "start_time": "2022-10-23T18:01:37.754Z"
   },
   {
    "duration": 47,
    "start_time": "2022-10-23T18:01:37.788Z"
   },
   {
    "duration": 5,
    "start_time": "2022-10-23T18:01:37.837Z"
   },
   {
    "duration": 27,
    "start_time": "2022-10-23T18:01:37.844Z"
   },
   {
    "duration": 21,
    "start_time": "2022-10-23T18:01:37.872Z"
   },
   {
    "duration": 12,
    "start_time": "2022-10-23T18:01:37.895Z"
   },
   {
    "duration": 35,
    "start_time": "2022-10-23T18:01:37.909Z"
   },
   {
    "duration": 36,
    "start_time": "2022-10-23T18:01:37.946Z"
   },
   {
    "duration": 324,
    "start_time": "2022-10-23T18:01:37.984Z"
   },
   {
    "duration": 4,
    "start_time": "2022-10-23T18:01:38.310Z"
   },
   {
    "duration": 13,
    "start_time": "2022-10-23T18:01:38.320Z"
   },
   {
    "duration": 16,
    "start_time": "2022-10-23T18:01:38.335Z"
   },
   {
    "duration": 13,
    "start_time": "2022-10-23T18:01:38.352Z"
   },
   {
    "duration": 377,
    "start_time": "2022-10-23T18:01:38.367Z"
   },
   {
    "duration": 408,
    "start_time": "2022-10-23T18:01:38.745Z"
   },
   {
    "duration": 65,
    "start_time": "2022-10-23T18:01:39.155Z"
   },
   {
    "duration": 19,
    "start_time": "2022-10-23T18:01:39.224Z"
   },
   {
    "duration": 29,
    "start_time": "2022-10-23T18:01:39.245Z"
   },
   {
    "duration": 240,
    "start_time": "2022-10-23T18:01:39.276Z"
   },
   {
    "duration": 22,
    "start_time": "2022-10-23T18:01:39.518Z"
   },
   {
    "duration": 232,
    "start_time": "2022-10-23T18:01:39.541Z"
   },
   {
    "duration": 28,
    "start_time": "2022-10-23T18:01:39.776Z"
   },
   {
    "duration": 203,
    "start_time": "2022-10-23T18:01:39.805Z"
   },
   {
    "duration": 180,
    "start_time": "2022-10-23T18:01:40.010Z"
   },
   {
    "duration": 32,
    "start_time": "2022-10-23T18:01:40.192Z"
   },
   {
    "duration": 7,
    "start_time": "2022-10-23T18:01:40.225Z"
   },
   {
    "duration": 245,
    "start_time": "2022-10-23T18:01:40.233Z"
   },
   {
    "duration": 7,
    "start_time": "2022-10-23T18:01:40.480Z"
   },
   {
    "duration": 167,
    "start_time": "2022-10-23T18:01:40.488Z"
   },
   {
    "duration": 8,
    "start_time": "2022-10-23T18:01:40.657Z"
   },
   {
    "duration": 146,
    "start_time": "2022-10-23T18:01:40.666Z"
   },
   {
    "duration": 8,
    "start_time": "2022-10-23T18:01:40.820Z"
   },
   {
    "duration": 162,
    "start_time": "2022-10-23T18:01:40.830Z"
   },
   {
    "duration": 8,
    "start_time": "2022-10-23T18:01:40.994Z"
   },
   {
    "duration": 159,
    "start_time": "2022-10-23T18:01:41.004Z"
   },
   {
    "duration": 8,
    "start_time": "2022-10-23T18:01:41.165Z"
   },
   {
    "duration": 151,
    "start_time": "2022-10-23T18:01:41.174Z"
   },
   {
    "duration": 9,
    "start_time": "2022-10-23T18:01:41.327Z"
   },
   {
    "duration": 155,
    "start_time": "2022-10-23T18:01:41.338Z"
   },
   {
    "duration": 8,
    "start_time": "2022-10-23T18:01:41.495Z"
   },
   {
    "duration": 177,
    "start_time": "2022-10-23T18:01:41.505Z"
   },
   {
    "duration": 9,
    "start_time": "2022-10-23T18:01:41.685Z"
   },
   {
    "duration": 187,
    "start_time": "2022-10-23T18:01:41.696Z"
   },
   {
    "duration": 9,
    "start_time": "2022-10-23T18:01:41.885Z"
   },
   {
    "duration": 171,
    "start_time": "2022-10-23T18:01:41.895Z"
   },
   {
    "duration": 234,
    "start_time": "2022-10-23T18:01:42.067Z"
   },
   {
    "duration": 455,
    "start_time": "2022-10-23T18:01:42.303Z"
   },
   {
    "duration": 541,
    "start_time": "2022-10-23T18:01:42.760Z"
   },
   {
    "duration": 436,
    "start_time": "2022-10-23T18:01:43.303Z"
   },
   {
    "duration": 5,
    "start_time": "2022-10-23T18:01:43.741Z"
   },
   {
    "duration": 387,
    "start_time": "2022-10-23T18:01:43.748Z"
   },
   {
    "duration": 375,
    "start_time": "2022-10-23T18:01:44.137Z"
   },
   {
    "duration": 11,
    "start_time": "2022-10-23T18:01:44.520Z"
   },
   {
    "duration": 6,
    "start_time": "2022-10-23T18:01:44.532Z"
   },
   {
    "duration": 11,
    "start_time": "2022-10-23T18:01:44.540Z"
   },
   {
    "duration": 14,
    "start_time": "2022-10-23T18:01:44.552Z"
   },
   {
    "duration": 6,
    "start_time": "2022-10-23T18:01:44.568Z"
   },
   {
    "duration": 7,
    "start_time": "2022-10-23T18:02:09.528Z"
   },
   {
    "duration": 7,
    "start_time": "2022-10-23T18:02:15.423Z"
   },
   {
    "duration": 6,
    "start_time": "2022-10-23T18:02:21.177Z"
   },
   {
    "duration": 10,
    "start_time": "2022-10-23T18:07:49.794Z"
   },
   {
    "duration": 5,
    "start_time": "2022-10-23T18:08:16.084Z"
   },
   {
    "duration": 8,
    "start_time": "2022-10-23T18:08:28.202Z"
   },
   {
    "duration": 7,
    "start_time": "2022-10-23T18:08:41.743Z"
   },
   {
    "duration": 8,
    "start_time": "2022-10-23T18:08:58.507Z"
   },
   {
    "duration": 10,
    "start_time": "2022-10-23T18:10:27.791Z"
   },
   {
    "duration": 5,
    "start_time": "2022-10-23T18:10:29.662Z"
   },
   {
    "duration": 9,
    "start_time": "2022-10-23T18:10:31.279Z"
   },
   {
    "duration": 5,
    "start_time": "2022-10-23T18:10:32.680Z"
   },
   {
    "duration": 7,
    "start_time": "2022-10-23T18:10:33.536Z"
   },
   {
    "duration": 7,
    "start_time": "2022-10-23T18:10:34.600Z"
   },
   {
    "duration": 6,
    "start_time": "2022-10-23T18:10:36.301Z"
   },
   {
    "duration": 48,
    "start_time": "2022-10-24T16:28:50.456Z"
   },
   {
    "duration": 1309,
    "start_time": "2022-10-24T16:28:57.273Z"
   },
   {
    "duration": 113,
    "start_time": "2022-10-24T16:28:58.584Z"
   },
   {
    "duration": 20,
    "start_time": "2022-10-24T16:28:58.699Z"
   },
   {
    "duration": 12,
    "start_time": "2022-10-24T16:28:58.721Z"
   },
   {
    "duration": 34,
    "start_time": "2022-10-24T16:28:58.735Z"
   },
   {
    "duration": 13,
    "start_time": "2022-10-24T16:28:58.771Z"
   },
   {
    "duration": 22,
    "start_time": "2022-10-24T16:28:58.785Z"
   },
   {
    "duration": 17,
    "start_time": "2022-10-24T16:28:58.808Z"
   },
   {
    "duration": 19,
    "start_time": "2022-10-24T16:28:58.826Z"
   },
   {
    "duration": 27,
    "start_time": "2022-10-24T16:28:58.847Z"
   },
   {
    "duration": 6,
    "start_time": "2022-10-24T16:28:58.876Z"
   },
   {
    "duration": 19,
    "start_time": "2022-10-24T16:28:58.883Z"
   },
   {
    "duration": 34,
    "start_time": "2022-10-24T16:28:58.904Z"
   },
   {
    "duration": 14,
    "start_time": "2022-10-24T16:28:58.939Z"
   },
   {
    "duration": 20,
    "start_time": "2022-10-24T16:28:58.954Z"
   },
   {
    "duration": 27,
    "start_time": "2022-10-24T16:28:58.975Z"
   },
   {
    "duration": 11,
    "start_time": "2022-10-24T16:28:59.004Z"
   },
   {
    "duration": 28,
    "start_time": "2022-10-24T16:28:59.016Z"
   },
   {
    "duration": 22,
    "start_time": "2022-10-24T16:28:59.045Z"
   },
   {
    "duration": 365,
    "start_time": "2022-10-24T16:28:59.068Z"
   },
   {
    "duration": 6,
    "start_time": "2022-10-24T16:28:59.435Z"
   },
   {
    "duration": 13,
    "start_time": "2022-10-24T16:28:59.443Z"
   },
   {
    "duration": 7,
    "start_time": "2022-10-24T16:28:59.457Z"
   },
   {
    "duration": 5,
    "start_time": "2022-10-24T16:28:59.465Z"
   },
   {
    "duration": 112,
    "start_time": "2022-10-24T16:28:59.473Z"
   },
   {
    "duration": 0,
    "start_time": "2022-10-24T16:28:59.589Z"
   },
   {
    "duration": 0,
    "start_time": "2022-10-24T16:28:59.591Z"
   },
   {
    "duration": 0,
    "start_time": "2022-10-24T16:28:59.592Z"
   },
   {
    "duration": 0,
    "start_time": "2022-10-24T16:28:59.594Z"
   },
   {
    "duration": 0,
    "start_time": "2022-10-24T16:28:59.595Z"
   },
   {
    "duration": 0,
    "start_time": "2022-10-24T16:28:59.596Z"
   },
   {
    "duration": 0,
    "start_time": "2022-10-24T16:28:59.598Z"
   },
   {
    "duration": 0,
    "start_time": "2022-10-24T16:28:59.600Z"
   },
   {
    "duration": 0,
    "start_time": "2022-10-24T16:28:59.601Z"
   },
   {
    "duration": 0,
    "start_time": "2022-10-24T16:28:59.603Z"
   },
   {
    "duration": 0,
    "start_time": "2022-10-24T16:28:59.604Z"
   },
   {
    "duration": 0,
    "start_time": "2022-10-24T16:28:59.605Z"
   },
   {
    "duration": 0,
    "start_time": "2022-10-24T16:28:59.639Z"
   },
   {
    "duration": 0,
    "start_time": "2022-10-24T16:28:59.640Z"
   },
   {
    "duration": 0,
    "start_time": "2022-10-24T16:28:59.643Z"
   },
   {
    "duration": 0,
    "start_time": "2022-10-24T16:28:59.645Z"
   },
   {
    "duration": 0,
    "start_time": "2022-10-24T16:28:59.646Z"
   },
   {
    "duration": 0,
    "start_time": "2022-10-24T16:28:59.648Z"
   },
   {
    "duration": 0,
    "start_time": "2022-10-24T16:28:59.648Z"
   },
   {
    "duration": 0,
    "start_time": "2022-10-24T16:28:59.651Z"
   },
   {
    "duration": 0,
    "start_time": "2022-10-24T16:28:59.652Z"
   },
   {
    "duration": 0,
    "start_time": "2022-10-24T16:28:59.653Z"
   },
   {
    "duration": 0,
    "start_time": "2022-10-24T16:28:59.654Z"
   },
   {
    "duration": 0,
    "start_time": "2022-10-24T16:28:59.655Z"
   },
   {
    "duration": 0,
    "start_time": "2022-10-24T16:28:59.657Z"
   },
   {
    "duration": 0,
    "start_time": "2022-10-24T16:28:59.658Z"
   },
   {
    "duration": 0,
    "start_time": "2022-10-24T16:28:59.659Z"
   },
   {
    "duration": 0,
    "start_time": "2022-10-24T16:28:59.660Z"
   },
   {
    "duration": 0,
    "start_time": "2022-10-24T16:28:59.661Z"
   },
   {
    "duration": 0,
    "start_time": "2022-10-24T16:28:59.663Z"
   },
   {
    "duration": 0,
    "start_time": "2022-10-24T16:28:59.664Z"
   },
   {
    "duration": 0,
    "start_time": "2022-10-24T16:28:59.666Z"
   },
   {
    "duration": 0,
    "start_time": "2022-10-24T16:28:59.667Z"
   },
   {
    "duration": 0,
    "start_time": "2022-10-24T16:28:59.668Z"
   },
   {
    "duration": 0,
    "start_time": "2022-10-24T16:28:59.670Z"
   },
   {
    "duration": 0,
    "start_time": "2022-10-24T16:28:59.671Z"
   },
   {
    "duration": 0,
    "start_time": "2022-10-24T16:28:59.672Z"
   },
   {
    "duration": 0,
    "start_time": "2022-10-24T16:28:59.674Z"
   },
   {
    "duration": 0,
    "start_time": "2022-10-24T16:28:59.675Z"
   },
   {
    "duration": 0,
    "start_time": "2022-10-24T16:28:59.676Z"
   },
   {
    "duration": 0,
    "start_time": "2022-10-24T16:28:59.677Z"
   },
   {
    "duration": 0,
    "start_time": "2022-10-24T16:28:59.739Z"
   },
   {
    "duration": 0,
    "start_time": "2022-10-24T16:28:59.740Z"
   },
   {
    "duration": 0,
    "start_time": "2022-10-24T16:28:59.742Z"
   },
   {
    "duration": 0,
    "start_time": "2022-10-24T16:28:59.743Z"
   },
   {
    "duration": 0,
    "start_time": "2022-10-24T16:28:59.745Z"
   },
   {
    "duration": 0,
    "start_time": "2022-10-24T16:28:59.746Z"
   },
   {
    "duration": 0,
    "start_time": "2022-10-24T16:28:59.746Z"
   },
   {
    "duration": 0,
    "start_time": "2022-10-24T16:28:59.747Z"
   },
   {
    "duration": 7,
    "start_time": "2022-10-24T16:29:37.736Z"
   },
   {
    "duration": 6,
    "start_time": "2022-10-24T16:33:25.118Z"
   },
   {
    "duration": 24,
    "start_time": "2022-10-24T16:55:46.977Z"
   },
   {
    "duration": 210,
    "start_time": "2022-10-24T16:55:58.783Z"
   },
   {
    "duration": 186,
    "start_time": "2022-10-24T16:59:31.910Z"
   },
   {
    "duration": 26,
    "start_time": "2022-10-24T17:03:42.910Z"
   },
   {
    "duration": 163,
    "start_time": "2022-10-24T17:04:01.542Z"
   },
   {
    "duration": 149,
    "start_time": "2022-10-24T17:04:13.406Z"
   },
   {
    "duration": 20,
    "start_time": "2022-10-24T17:04:22.862Z"
   },
   {
    "duration": 12,
    "start_time": "2022-10-24T17:27:06.038Z"
   },
   {
    "duration": 175,
    "start_time": "2022-10-24T17:27:08.427Z"
   },
   {
    "duration": 8,
    "start_time": "2022-10-24T17:27:20.281Z"
   },
   {
    "duration": 173,
    "start_time": "2022-10-24T17:27:22.500Z"
   },
   {
    "duration": 1249,
    "start_time": "2022-10-24T17:27:36.022Z"
   },
   {
    "duration": 75,
    "start_time": "2022-10-24T17:27:37.273Z"
   },
   {
    "duration": 33,
    "start_time": "2022-10-24T17:27:37.350Z"
   },
   {
    "duration": 8,
    "start_time": "2022-10-24T17:27:37.385Z"
   },
   {
    "duration": 26,
    "start_time": "2022-10-24T17:27:37.395Z"
   },
   {
    "duration": 32,
    "start_time": "2022-10-24T17:27:37.423Z"
   },
   {
    "duration": 29,
    "start_time": "2022-10-24T17:27:37.457Z"
   },
   {
    "duration": 11,
    "start_time": "2022-10-24T17:27:37.489Z"
   },
   {
    "duration": 9,
    "start_time": "2022-10-24T17:27:37.502Z"
   },
   {
    "duration": 35,
    "start_time": "2022-10-24T17:27:37.514Z"
   },
   {
    "duration": 8,
    "start_time": "2022-10-24T17:27:37.550Z"
   },
   {
    "duration": 7,
    "start_time": "2022-10-24T17:27:37.560Z"
   },
   {
    "duration": 20,
    "start_time": "2022-10-24T17:27:37.569Z"
   },
   {
    "duration": 4,
    "start_time": "2022-10-24T17:27:37.591Z"
   },
   {
    "duration": 10,
    "start_time": "2022-10-24T17:27:37.596Z"
   },
   {
    "duration": 20,
    "start_time": "2022-10-24T17:27:37.607Z"
   },
   {
    "duration": 29,
    "start_time": "2022-10-24T17:27:37.629Z"
   },
   {
    "duration": 22,
    "start_time": "2022-10-24T17:27:37.660Z"
   },
   {
    "duration": 20,
    "start_time": "2022-10-24T17:27:37.684Z"
   },
   {
    "duration": 372,
    "start_time": "2022-10-24T17:27:37.705Z"
   },
   {
    "duration": 5,
    "start_time": "2022-10-24T17:27:38.079Z"
   },
   {
    "duration": 19,
    "start_time": "2022-10-24T17:27:38.085Z"
   },
   {
    "duration": 5,
    "start_time": "2022-10-24T17:27:38.106Z"
   },
   {
    "duration": 8,
    "start_time": "2022-10-24T17:27:38.112Z"
   },
   {
    "duration": 7,
    "start_time": "2022-10-24T17:27:38.121Z"
   },
   {
    "duration": 376,
    "start_time": "2022-10-24T17:27:38.129Z"
   },
   {
    "duration": 363,
    "start_time": "2022-10-24T17:27:38.508Z"
   },
   {
    "duration": 72,
    "start_time": "2022-10-24T17:27:38.874Z"
   },
   {
    "duration": 28,
    "start_time": "2022-10-24T17:27:38.947Z"
   },
   {
    "duration": 6,
    "start_time": "2022-10-24T17:27:38.977Z"
   },
   {
    "duration": 268,
    "start_time": "2022-10-24T17:27:38.985Z"
   },
   {
    "duration": 22,
    "start_time": "2022-10-24T17:27:39.255Z"
   },
   {
    "duration": 205,
    "start_time": "2022-10-24T17:27:39.279Z"
   },
   {
    "duration": 26,
    "start_time": "2022-10-24T17:27:39.486Z"
   },
   {
    "duration": 184,
    "start_time": "2022-10-24T17:27:39.513Z"
   },
   {
    "duration": 165,
    "start_time": "2022-10-24T17:27:39.699Z"
   },
   {
    "duration": 22,
    "start_time": "2022-10-24T17:27:39.865Z"
   },
   {
    "duration": 12,
    "start_time": "2022-10-24T17:27:39.889Z"
   },
   {
    "duration": 259,
    "start_time": "2022-10-24T17:27:39.903Z"
   },
   {
    "duration": 8,
    "start_time": "2022-10-24T17:27:40.164Z"
   },
   {
    "duration": 188,
    "start_time": "2022-10-24T17:27:40.173Z"
   },
   {
    "duration": 8,
    "start_time": "2022-10-24T17:27:40.363Z"
   },
   {
    "duration": 154,
    "start_time": "2022-10-24T17:27:40.373Z"
   },
   {
    "duration": 18,
    "start_time": "2022-10-24T17:27:40.529Z"
   },
   {
    "duration": 182,
    "start_time": "2022-10-24T17:27:40.549Z"
   },
   {
    "duration": 22,
    "start_time": "2022-10-24T17:27:40.733Z"
   },
   {
    "duration": 140,
    "start_time": "2022-10-24T17:27:40.756Z"
   },
   {
    "duration": 8,
    "start_time": "2022-10-24T17:27:40.898Z"
   },
   {
    "duration": 168,
    "start_time": "2022-10-24T17:27:40.907Z"
   },
   {
    "duration": 8,
    "start_time": "2022-10-24T17:27:41.076Z"
   },
   {
    "duration": 171,
    "start_time": "2022-10-24T17:27:41.086Z"
   },
   {
    "duration": 8,
    "start_time": "2022-10-24T17:27:41.258Z"
   },
   {
    "duration": 165,
    "start_time": "2022-10-24T17:27:41.267Z"
   },
   {
    "duration": 21,
    "start_time": "2022-10-24T17:27:41.433Z"
   },
   {
    "duration": 171,
    "start_time": "2022-10-24T17:27:41.456Z"
   },
   {
    "duration": 9,
    "start_time": "2022-10-24T17:27:41.630Z"
   },
   {
    "duration": 232,
    "start_time": "2022-10-24T17:27:41.641Z"
   },
   {
    "duration": 279,
    "start_time": "2022-10-24T17:27:41.875Z"
   },
   {
    "duration": 524,
    "start_time": "2022-10-24T17:27:42.156Z"
   },
   {
    "duration": 550,
    "start_time": "2022-10-24T17:27:42.681Z"
   },
   {
    "duration": 497,
    "start_time": "2022-10-24T17:27:43.232Z"
   },
   {
    "duration": 6,
    "start_time": "2022-10-24T17:27:43.739Z"
   },
   {
    "duration": 420,
    "start_time": "2022-10-24T17:27:43.747Z"
   },
   {
    "duration": 419,
    "start_time": "2022-10-24T17:27:44.169Z"
   },
   {
    "duration": 11,
    "start_time": "2022-10-24T17:27:44.590Z"
   },
   {
    "duration": 8,
    "start_time": "2022-10-24T17:27:44.603Z"
   },
   {
    "duration": 30,
    "start_time": "2022-10-24T17:27:44.613Z"
   },
   {
    "duration": 26,
    "start_time": "2022-10-24T17:27:44.645Z"
   },
   {
    "duration": 8,
    "start_time": "2022-10-24T17:27:44.673Z"
   },
   {
    "duration": 18,
    "start_time": "2022-10-24T17:27:44.682Z"
   },
   {
    "duration": 6,
    "start_time": "2022-10-24T17:27:44.702Z"
   },
   {
    "duration": 11,
    "start_time": "2022-10-24T17:27:44.709Z"
   },
   {
    "duration": 33,
    "start_time": "2022-10-24T17:27:44.722Z"
   },
   {
    "duration": 7,
    "start_time": "2022-10-24T17:27:44.757Z"
   },
   {
    "duration": 7,
    "start_time": "2022-10-24T17:28:47.671Z"
   },
   {
    "duration": 8,
    "start_time": "2022-10-24T17:29:29.079Z"
   },
   {
    "duration": 8,
    "start_time": "2022-10-24T17:30:21.586Z"
   },
   {
    "duration": 196,
    "start_time": "2022-10-24T17:30:34.611Z"
   },
   {
    "duration": 7,
    "start_time": "2022-10-24T17:31:40.897Z"
   },
   {
    "duration": 158,
    "start_time": "2022-10-24T17:31:53.255Z"
   },
   {
    "duration": 59,
    "start_time": "2022-10-24T17:32:21.415Z"
   },
   {
    "duration": 7,
    "start_time": "2022-10-24T17:32:45.079Z"
   },
   {
    "duration": 161,
    "start_time": "2022-10-24T17:33:10.737Z"
   },
   {
    "duration": 8,
    "start_time": "2022-10-24T17:33:49.657Z"
   },
   {
    "duration": 187,
    "start_time": "2022-10-24T17:34:04.177Z"
   },
   {
    "duration": 3,
    "start_time": "2022-10-24T17:34:16.994Z"
   },
   {
    "duration": 3,
    "start_time": "2022-10-24T17:34:28.796Z"
   },
   {
    "duration": 2,
    "start_time": "2022-10-24T17:34:36.817Z"
   },
   {
    "duration": 3,
    "start_time": "2022-10-24T17:34:43.353Z"
   },
   {
    "duration": 2,
    "start_time": "2022-10-24T17:34:50.500Z"
   },
   {
    "duration": 13,
    "start_time": "2022-10-24T17:34:58.037Z"
   },
   {
    "duration": 3,
    "start_time": "2022-10-24T17:35:04.164Z"
   },
   {
    "duration": 2,
    "start_time": "2022-10-24T17:35:10.328Z"
   },
   {
    "duration": 357,
    "start_time": "2022-10-24T17:36:54.601Z"
   },
   {
    "duration": 2,
    "start_time": "2022-10-24T17:38:04.085Z"
   },
   {
    "duration": 117,
    "start_time": "2022-10-24T17:47:34.736Z"
   },
   {
    "duration": 42,
    "start_time": "2022-10-24T17:49:18.664Z"
   },
   {
    "duration": 38,
    "start_time": "2022-10-24T17:59:50.586Z"
   },
   {
    "duration": 29,
    "start_time": "2022-10-24T18:38:32.114Z"
   },
   {
    "duration": 218,
    "start_time": "2022-10-24T18:39:15.069Z"
   },
   {
    "duration": 307,
    "start_time": "2022-10-24T18:40:10.570Z"
   },
   {
    "duration": 431,
    "start_time": "2022-10-24T18:47:23.384Z"
   },
   {
    "duration": 458,
    "start_time": "2022-10-24T18:47:26.712Z"
   },
   {
    "duration": 23,
    "start_time": "2022-10-24T18:53:23.965Z"
   },
   {
    "duration": 206,
    "start_time": "2022-10-24T18:53:29.199Z"
   },
   {
    "duration": 31,
    "start_time": "2022-10-24T18:53:37.692Z"
   },
   {
    "duration": 186,
    "start_time": "2022-10-24T18:53:41.530Z"
   },
   {
    "duration": 155,
    "start_time": "2022-10-24T18:53:45.794Z"
   },
   {
    "duration": 25,
    "start_time": "2022-10-24T18:53:50.272Z"
   },
   {
    "duration": 10,
    "start_time": "2022-10-24T18:56:29.100Z"
   },
   {
    "duration": 244,
    "start_time": "2022-10-24T18:56:31.465Z"
   },
   {
    "duration": 9,
    "start_time": "2022-10-24T18:56:38.145Z"
   },
   {
    "duration": 153,
    "start_time": "2022-10-24T18:56:40.102Z"
   },
   {
    "duration": 7,
    "start_time": "2022-10-24T18:56:42.794Z"
   },
   {
    "duration": 145,
    "start_time": "2022-10-24T18:56:44.373Z"
   },
   {
    "duration": 8,
    "start_time": "2022-10-24T18:56:46.744Z"
   },
   {
    "duration": 151,
    "start_time": "2022-10-24T18:56:49.459Z"
   },
   {
    "duration": 7,
    "start_time": "2022-10-24T18:56:51.846Z"
   },
   {
    "duration": 169,
    "start_time": "2022-10-24T18:56:54.341Z"
   },
   {
    "duration": 9,
    "start_time": "2022-10-24T18:56:57.018Z"
   },
   {
    "duration": 165,
    "start_time": "2022-10-24T18:56:58.036Z"
   },
   {
    "duration": 246,
    "start_time": "2022-10-24T18:57:06.034Z"
   },
   {
    "duration": 264,
    "start_time": "2022-10-24T18:57:11.935Z"
   },
   {
    "duration": 36,
    "start_time": "2022-10-24T18:57:15.460Z"
   },
   {
    "duration": 6,
    "start_time": "2022-10-24T18:58:43.784Z"
   },
   {
    "duration": 374,
    "start_time": "2022-10-24T18:58:45.316Z"
   },
   {
    "duration": 486,
    "start_time": "2022-10-24T18:58:49.880Z"
   },
   {
    "duration": 12,
    "start_time": "2022-10-24T18:59:02.188Z"
   },
   {
    "duration": 6,
    "start_time": "2022-10-24T18:59:07.556Z"
   },
   {
    "duration": 7,
    "start_time": "2022-10-24T18:59:09.594Z"
   },
   {
    "duration": 10,
    "start_time": "2022-10-24T18:59:10.973Z"
   },
   {
    "duration": 7,
    "start_time": "2022-10-24T18:59:13.541Z"
   },
   {
    "duration": 13,
    "start_time": "2022-10-24T18:59:17.638Z"
   },
   {
    "duration": 6,
    "start_time": "2022-10-24T18:59:19.759Z"
   },
   {
    "duration": 8,
    "start_time": "2022-10-24T18:59:22.639Z"
   },
   {
    "duration": 9,
    "start_time": "2022-10-24T18:59:24.672Z"
   },
   {
    "duration": 8,
    "start_time": "2022-10-24T18:59:29.285Z"
   }
  ],
  "kernelspec": {
   "display_name": "Python 3 (ipykernel)",
   "language": "python",
   "name": "python3"
  },
  "language_info": {
   "codemirror_mode": {
    "name": "ipython",
    "version": 3
   },
   "file_extension": ".py",
   "mimetype": "text/x-python",
   "name": "python",
   "nbconvert_exporter": "python",
   "pygments_lexer": "ipython3",
   "version": "3.9.5"
  },
  "toc": {
   "base_numbering": 1,
   "nav_menu": {},
   "number_sections": true,
   "sideBar": true,
   "skip_h1_title": true,
   "title_cell": "Table of Contents",
   "title_sidebar": "Contents",
   "toc_cell": false,
   "toc_position": {},
   "toc_section_display": true,
   "toc_window_display": false
  }
 },
 "nbformat": 4,
 "nbformat_minor": 2
}
